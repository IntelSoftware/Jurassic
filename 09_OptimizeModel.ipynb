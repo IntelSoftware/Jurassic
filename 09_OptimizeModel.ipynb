{
 "cells": [
  {
   "cell_type": "markdown",
   "id": "2e28d5eb-4a76-4db4-99fd-e2d38b46feb8",
   "metadata": {},
   "source": [
    "# Optimize Model"
   ]
  },
  {
   "cell_type": "code",
   "execution_count": null,
   "id": "09673d8f-4f03-4f71-9323-92284c7c323e",
   "metadata": {},
   "outputs": [],
   "source": []
  }
 ],
 "metadata": {
  "kernelspec": {
   "display_name": "Python 3.8 (Intel® oneAPI)",
   "language": "python",
   "name": "c009-intel_distribution_of_python_3_oneapi-beta05-python"
  },
  "language_info": {
   "codemirror_mode": {
    "name": "ipython",
    "version": 3
   },
   "file_extension": ".py",
   "mimetype": "text/x-python",
   "name": "python",
   "nbconvert_exporter": "python",
   "pygments_lexer": "ipython3",
   "version": "3.9.10"
  }
 },
 "nbformat": 4,
 "nbformat_minor": 5
}
