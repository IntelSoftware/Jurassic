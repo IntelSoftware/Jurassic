{
 "cells": [
  {
   "cell_type": "markdown",
   "id": "6decafe1-d1d0-4c5b-8575-89bf01a473ee",
   "metadata": {},
   "source": [
    "# Introduction to Dinosaur Bones and AI project\n",
    "\n",
    "This notebook is intended to define terms and set the context required to understand how this AI model works froma geophysical and Aerial photo perspective. Especially, you need tgo understand that it is the depositional environments that are the key features in the images, NOT actual bones themselves - Generally bone are fragmented and disarticulated to uch a degree that there is virtually no chance of seeing the bones themselves from an aerial photo*\n",
    "\n",
    "* see exception below\n",
    "\n",
    "### [01_Introduction.ipynb](01_Introduction.ipynb)\n",
    "\n",
    "\n",
    "<img src=\"assets/ZSC_7683AIbone.jpg\" width=\"500\"/>\n",
    "\n",
    "Explain how an AI model can use aerial images to predict bone locations"
   ]
  },
  {
   "cell_type": "markdown",
   "id": "0123f5a6-a4fb-4b2d-b84c-96ff4d6217e5",
   "metadata": {
    "jp-MarkdownHeadingCollapsed": true,
    "tags": []
   },
   "source": [
    "### Identifying Bone Through Context!\n",
    "\n",
    "We will demonstrate using clustering to help identify whether the fossils we have found are dinosaur bones or other fossils such as petrified wood, crocodile or turtle bones, marine animal fossils such as shark teeth\n",
    "\n",
    "### [02_ContextMatters_Clustering](02_ContextMattersClustering.ipynb)\n",
    "\n",
    "The dark objects in the following image are all fragmented dinosaur bones. there is a large enough extent of these that they can be seen in Google Earth. I use this phot to illustrate the importance of context. a few of the smaller samples of tehse bones are difficult to determine, without magnification, whether they are dinosaur bones or not, but the larger fragments in close proximity paint a clear picture, that these are all indeed dinosaur bones.\n",
    "\n",
    "\n",
    "| One larger bone fragment | Half the fragments up close | \n",
    "| ---- | ---- | \n",
    "|<img src=\"assets/BlackBones20150319_1316IMG_6259.jpg\" width=\"500\"/>| <img src=\"assets/BlackBonesZoomedInRedCircle.jpg\" width=\"500\"/>|\n",
    "| aerial photo of fragments | Zoomed in further |\n",
    "| ---- | ---- | \n",
    "|<img src=\"assets/BlackBonesZoomedOutRedCircle.jpg\" width=\"500\"/>| <img src=\"assets/BlackBonesZoomedInRedCircle.jpg\" width=\"500\"/>|\n",
    " \n"
   ]
  },
  {
   "cell_type": "markdown",
   "id": "4822f0b9-dc89-4830-bc9f-5efe0a597082",
   "metadata": {},
   "source": [
    "### [03_SiteDensityMap.ipynb](03_SiteDensityMap.ipynb)\n",
    "\n",
    "Use 2D kernel density (\"histogram\") to label the fuzzy zone where bones were not technically yet found but where bones are certainly possible\n",
    "\n",
    "This way we will create labels for three classes\n",
    "- 0: no bones have been found and most likely never will be found here\n",
    "- 1: bones could be found here (use 2D KDE to label these)\n",
    "- 2: bone HAVE been found here\n",
    "\n",
    "\n",
    "\n",
    "<img src=\"assets/2DGaussianKernelDensityEstimation.jpg\" width=\"500\"/>"
   ]
  },
  {
   "cell_type": "markdown",
   "id": "10562fc5-882e-453b-ad9e-0545a324913a",
   "metadata": {
    "tags": []
   },
   "source": [
    "### [04_SemiSupervisedLabeling.ipynb](04_SemiSupervisedLabeling.ipynb)\n",
    "\n",
    "<img src=\"assets/SampledDistribution.jpg\" width=\"500\"/>"
   ]
  },
  {
   "cell_type": "markdown",
   "id": "e620d0fb-aeda-401d-9ffc-aa66b36e3e3c",
   "metadata": {},
   "source": [
    "### [05_AcquiringMaps.ipynb](05_AcquiringMaps.ipynb)\n",
    "\n",
    "![assets/code.earthengine.google.com](assets/code.earthengine.google.com.jpg)"
   ]
  },
  {
   "cell_type": "markdown",
   "id": "5efb2b4f-b1ac-4ba0-adf8-361dd082eaff",
   "metadata": {},
   "source": [
    "### [06_ImagePrepSliceImage.ipynb](06_ImagePrepSliceImage.ipynb)\n",
    "\n",
    "![assets/SliceAerialPhoto.jpg](assets/SliceAerialPhoto.jpg)\n",
    "\n",
    "![assets/Re-assembleTilesIntoMap.jpg](assets/Re-assembleTilesIntoMap.jpg)"
   ]
  },
  {
   "cell_type": "markdown",
   "id": "9fb23917-fcb8-41d1-98cc-2b4d78bd09b6",
   "metadata": {},
   "source": [
    "### [07_TrainIntroResnet.ipynb](07_TrainIntroResnet.ipynb)\n",
    "\n",
    "<img src=\"assets/FolderStructure.jpg\" width=\"500\"/>"
   ]
  },
  {
   "cell_type": "markdown",
   "id": "52aa1bd9-6506-4c5b-a123-41546b83bd56",
   "metadata": {},
   "source": [
    "### [08_TestModel.ipynb](08_TestModel.ipynb)\n",
    "\n",
    "Sanity check the model against known values - Display Confusion Matrix\n",
    "\n",
    "<img src=\"assets/TestModel.jpg\" width=\"500\"/>\n"
   ]
  },
  {
   "cell_type": "markdown",
   "id": "5eb925d8-33e3-4617-9aa8-e23b243c1933",
   "metadata": {},
   "source": [
    "### [09_OptimizeModel.ipynb](09_OptimizeModel.ipynb)\n",
    "\n",
    "Use openVINO to accelerate the model for production"
   ]
  },
  {
   "cell_type": "markdown",
   "id": "1a4dafb2-9bfc-43c3-b336-f7a78f20fca0",
   "metadata": {},
   "source": [
    "### [10_ScoreAndMap.ipynb](10_ScoreAndMap.ipynb)\n",
    "\n",
    "Create a map using the optimized model\n",
    "\n",
    "<img src=\"assets/DNM_ThreeClassMainCircled.jpg\" width=\"500\"/>\n"
   ]
  },
  {
   "cell_type": "code",
   "execution_count": null,
   "id": "c1042d52-9843-4090-a6fe-bbb2321aa313",
   "metadata": {},
   "outputs": [],
   "source": []
  }
 ],
 "metadata": {
  "kernelspec": {
   "display_name": "Python 3.8 (Intel® oneAPI)",
   "language": "python",
   "name": "c009-intel_distribution_of_python_3_oneapi-beta05-python"
  },
  "language_info": {
   "codemirror_mode": {
    "name": "ipython",
    "version": 3
   },
   "file_extension": ".py",
   "mimetype": "text/x-python",
   "name": "python",
   "nbconvert_exporter": "python",
   "pygments_lexer": "ipython3",
   "version": "3.9.10"
  },
  "nbTranslate": {
   "displayLangs": [
    "*"
   ],
   "hotkey": "alt-t",
   "langInMainMenu": true,
   "sourceLang": "en",
   "targetLang": "fr",
   "useGoogleTranslate": false
  },
  "toc": {
   "base_numbering": 1,
   "nav_menu": {},
   "number_sections": true,
   "sideBar": true,
   "skip_h1_title": false,
   "title_cell": "Table of Contents",
   "title_sidebar": "Contents",
   "toc_cell": false,
   "toc_position": {},
   "toc_section_display": true,
   "toc_window_display": false
  }
 },
 "nbformat": 4,
 "nbformat_minor": 5
}
