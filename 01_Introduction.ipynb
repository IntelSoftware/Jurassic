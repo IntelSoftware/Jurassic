{
 "cells": [
  {
   "cell_type": "markdown",
   "id": "d5519635-c2c7-41c7-a9c2-a85c805ab1ea",
   "metadata": {},
   "source": [
    "# Putting AI into Action!\n",
    "\n",
    "### Using PyTorch to make AI dinosaur bone hunting actionable!\n",
    "\n",
    "## Introductions:\n",
    "\n",
    "- Bob Chesebrough\n",
    "- Rahul U Nair\n",
    "\n",
    "## Other usesd?\n",
    "\n",
    "- Forest Fire Prediction\n",
    "- Responsible Mineral Exploration/ Responsible Mining\n",
    "- Solar Panel viability\n",
    "\n",
    "\n",
    "## Can AI be used to help narrow down areas to search?\n",
    "\n",
    "<img src=\"assets/LetTheAdventureBegin.png\" width=\"800\"/>\n",
    "\n",
    "- How can innovations from Intel help AI approaches we might take?\n",
    "- Intel provides Intel Extensions for Scikit-learn* to accelerate task such as train_test_split, clustering, classification, and regression.\n",
    "- Intel® Extension for PyTorch* provides simple frontend Python APIs and utilities for users to get performance optimizations such as graph optimization and operator optimization with minor code changes. Typically, only 2 to 3 clauses are required to be added to the original code. \n",
    "- Intel® Distribution of OpenVINO™ Toolkit allows us to deploy High-Performance, Deep Learning Inference \n",
    "\n",
    "Come with us on a two hour tour with hands on activities to create a dinosaur bone bed map of likely places to search at the Dinosaur National Monument - See picture above of what has already been found there in years past.\n"
   ]
  },
  {
   "cell_type": "markdown",
   "id": "b2c3f9f6-3ffc-408b-bfac-fb6d8b1b9c7a",
   "metadata": {},
   "source": []
  },
  {
   "cell_type": "code",
   "execution_count": 1,
   "id": "de2b491a-86a7-4bff-a05e-8d8632890a69",
   "metadata": {
    "scrolled": true
   },
   "outputs": [
    {
     "data": {
      "image/jpeg": "[encoded data removed]",
      "text/html": [
       "\n",
       "        <iframe\n",
       "            width=\"800\"\n",
       "            height=\"600\"\n",
       "            src=\"https://www.youtube.com/embed/5RGm2he9G9M\"\n",
       "            frameborder=\"0\"\n",
       "            allowfullscreen\n",
       "            \n",
       "        ></iframe>\n",
       "        "
      ],
      "text/plain": [
       "<IPython.lib.display.YouTubeVideo at 0x153db736e010>"
      ]
     },
     "execution_count": 1,
     "metadata": {},
     "output_type": "execute_result"
    }
   ],
   "source": [
    "# Same video - but on youtube\n",
    "from IPython.display import YouTubeVideo\n",
    "\n",
    "YouTubeVideo('5RGm2he9G9M', width=800, height=600)"
   ]
  },
  {
   "attachments": {},
   "cell_type": "markdown",
   "id": "9d08b2a0-e188-4cbd-86d3-654029b79bd0",
   "metadata": {},
   "source": [
    "# Lexicon\n",
    "\n",
    "### [Sauropod](https://en.wikipedia.org/wiki/Sauropoda#/media/File:Louisae.jpg) - Four legged Long Necked large dinosaur\n",
    "### [Theropod](https://simple.wikipedia.org/wiki/Tyrannosaurus#/media/File:Tyrannosaurus_Rex_Holotype.jpg) - Two legged carnivorous dinosaur\n",
    "### [Camarasaurus](https://upload.wikimedia.org/wikipedia/commons/6/67/MUJA-Sauropod.JPG) -  Common large sauropod found in Jurassic fossil beds\n",
    "### [Allosaurus](https://en.wikipedia.org/wiki/Allosaurus#/media/File:WLA_hmns_Allosaurus.jpg) -  Common large theropod (meat eater) from Jurassic fossil beds\n",
    "### [Stegosaurus](https://en.wikipedia.org/wiki/Stegosaurus#/media/File:Journal.pone.0138352.g001A.jpg) -  Medium sized four legged spiked tail with bone plates dinosaur from Jurassic fossil beds\n",
    "#### [Vertebrae](https://www.google.com/imgres?imgurl=https%3A%2F%2Fsvpow.files.wordpress.com%2F2007%2F10%2Fbasic-vertebral-anatomy.jpg&tbnid=xm2_NXSWRidK6M&vet=12ahUKEwjnluLXyeeDAxUzFEQIHZR8B-MQMygAegQIARBf..i&imgrefurl=https%3A%2F%2Fsvpow.com%2Ftag%2Fbrachiosaurid%2F&docid=q8-SiBR6MkgedM&w=1478&h=1000&q=dinosaur%20vertebrae&ved=2ahUKEwjnluLXyeeDAxUzFEQIHZR8B-MQMygAegQIARBf) - Single unit of bone from the spine\n",
    "#### [Ischium/Pubis](https://lh3.googleusercontent.com/proxy/7HdMhf2h1yLaiPcT4A6aiB8aaKNAGt79Qk7JrlUEYCPJ9t74IsrI19o5VOMenUyWZeczc4dyhjk5waX6uS9mVgpaLPTjhggJmn0EVqjbe9vWpSV0ebXMgaGP6JI) - Part of the Hip or Pelvis\n",
    "\n",
    "\n",
    "# Examples I found in 3D\n",
    "\n",
    "| Lookup | Image | Interactive 3D link | \n",
    "|---|---|---|\n",
    "| [Sauropod Larger Limb](https://svpow.files.wordpress.com/2014/05/janensch1961-tendaguru-limbs-plates-aj-giraffatitan-limb-bones.jpeg) |<img src=\"assets/MMSauropodLimbLargeBoulder.png\" width=\"400\"/> | https://scaniverse.com/scan/qpgtfdvnkpwv6abp |\n",
    "| [Sauropod Limb](https://svpow.files.wordpress.com/2014/05/janensch1961-tendaguru-limbs-plates-aj-giraffatitan-limb-bones.jpeg)|<img src=\"assets/SauropodLimbChiMesa.png\" width=\"400\"/> | https://scaniverse.com/scan/yf4qybj36pyuw4k6 |\n",
    "| [Cliff Face Sheared Scapula](https://upload.wikimedia.org/wikipedia/commons/3/3a/Louisae.jpg) | <img src=\"assets/MMBoulderShearedSauropodScapula.png\" width=\"400\"/>  | https://scaniverse.com/scan/wbpfzrumyirrnajw|\n",
    "| [Sauropod Rib](https://svpow.files.wordpress.com/2011/01/osbornmook1921-fig71-camarasaurus-left-rib-multiview.jpeg)|<img src=\"assets/SauropodRibSaltwashBurro.png\" width=\"400\"/> | https://scaniverse.com/scan/3laimcekzfqkrclb |\n",
    "|[Sauropod Nice Rib Head Example](https://royalsocietypublishing.org/cms/asset/7dfec00f-725d-464e-9571-0e15a8b00012/rsbl20120778f01.jpg) |<img src=\"assets/MMNiceRibHeadExampleSauropod.png\" width=\"400\"/> | https://scaniverse.com/scan/ftoqie63khfgb7wt |\n",
    "| [Camarasaurus Tooth](https://commons.m.wikimedia.org/wiki/File:Camarasaurus_lentus_%28sauropod_dinosaur_tooth%29_%28Morrison_Formation,_Upper_Jurassic;_Dinosaur_National_Monument,_Utah,_USA%29_%2848695442816%29.jpg)|<img src=\"assets/CamarasaurusTooth.png\" width=\"400\"/> | https://scaniverse.com/scan/2s2pqrczaa4t5adz |\n",
    "| [Camarasaurus Vertebrae](https://www.researchgate.net/profile/Kent-Stevens/publication/258351433/figure/fig29/AS:669647191961609@1536667740413/Camarasaurus-had-a-swan-neck-taphonomically-but-not-in-life-The-1925-skeletal.jpg)|<img src=\"assets/CamarasaurusVertebraeRedChiMesa.png\" width=\"400\"/> | https://scaniverse.com/scan/pmbmpzngsjfiv6md |\n",
    "| [Allosaurus Claw](https://dyn1.heritagestatic.com/lf?set=path%5B3%2F7%2F5%2F3%2F3753443%5D%2Csizedata%5B850x600%5D&call=url%5Bfile%3Aproduct.chain%5D)|<img src=\"assets/AllosaurusClawNeckRib.png\" width=\"400\"/> | https://scaniverse.com/scan/a2nvoqds3bayhvmx |\n",
    "| [Allosaurus Radius/Ulna ?](https://www.researchgate.net/profile/Matt-White-7/publication/281777879/figure/fig6/AS:341359270613010@1458397800793/Articulated-right-humerus-and-antebrachium-A-Right-humerus-and-antebrachium-flexed-in.png)|<img src=\"assets/AllosaurusRadius.png\" width=\"400\"/> | https://scaniverse.com/scan/6b4bxam554dp7cdo |\n",
    "| [Allosaurus Vertebrae/Ischium/Pubis](https://lh3.googleusercontent.com/proxy/7HdMhf2h1yLaiPcT4A6aiB8aaKNAGt79Qk7JrlUEYCPJ9t74IsrI19o5VOMenUyWZeczc4dyhjk5waX6uS9mVgpaLPTjhggJmn0EVqjbe9vWpSV0ebXMgaGP6JI)|<img src=\"assets/AllosaurusVertebraeIschium.png\" width=\"400\"/> | https://scaniverse.com/scan/6zxscpaaypqymcxc|\n",
    "| [Allosaurus Limb](https://upload.wikimedia.org/wikipedia/commons/thumb/f/f7/AMNH_Allosaurus.jpg/1920px-AMNH_Allosaurus.jpg)|<img src=\"assets/BatwingAllosaursLimb.png\" width=\"400\"/> | https://scaniverse.com/scan/h6jcie627f4a6q4e|\n",
    "|[Vertebrae Chain - Un-identifed](https://upload.wikimedia.org/wikipedia/commons/thumb/f/f7/AMNH_Allosaurus.jpg/1920px-AMNH_Allosaurus.jpg) |<img src=\"assets/MMVertebraeChain.png\" width=\"400\"/>  | https://scaniverse.com/scan/p7fg2o37w4uhkdp6 |\n",
    "| [Stegasaurus Spike](https://qph.cf2.quoracdn.net/main-qimg-62a525caac21acec54a79b40bec7f4aa-pjlq)|<img src=\"assets/StegosaurSpike.PNG\" width=\"400\"/> | https://scaniverse.com/scan/ezvfhqbgaez4vxzr |\n",
    "\n",
    "\n",
    "\n"
   ]
  },
  {
   "cell_type": "markdown",
   "id": "a0e97129-0cc0-48da-91db-76dcaa203a0e",
   "metadata": {
    "jp-MarkdownHeadingCollapsed": true,
    "tags": []
   },
   "source": [
    "# Exercise: Try Your Hand at  Predicting Dino Hunting Grounds!\n",
    "Not easy is it?\n",
    "\n",
    "## Prepare for an upcoming quiz!\n",
    "\n",
    "Study the aerial photo below and identify the patterns that predict dinosaur bone depositional environment. The red dots are actual locations in Dinosaur National Monument that we found small bone fragments - the red dot on the far left is the building housing hundreds of bones.\n",
    "\n",
    "<img src=\"assets/QuizShow_ThisDepositionalEnvironmentGood.PNG\" width=\"500\"/>\n",
    "\n",
    "## Take the quiz:\n",
    "\n",
    "Its 100 degrees Fahrenheit (38 C) , you have three bottles of water, you have two hours to find dinosaur bones, you are parked at the designated parking area - where do you look?\n",
    "\n",
    "identify one thumbnail sized region where bones are likely to be found\n",
    "\n",
    "### Mill Creek - un-annotated: Where would you look?\n",
    "<img src=\"assets/QuizShow_MillCreekDinoGuess.PNG\" width=\"500\"/>  \n",
    "\n",
    "\n",
    "## AI Map suggestions are as follows:\n",
    "\n",
    "### Mill Creek Dinosaur Trail\n",
    "\n",
    "<img src=\"assets/QuizShow_MillCreekDinoSolutionKey.PNG\" width=\"500\"/>  "
   ]
  },
  {
   "cell_type": "markdown",
   "id": "3d31f970-4cec-4c7f-bf00-219221c449a9",
   "metadata": {},
   "source": [
    "# Our Goal: Create a Dinosaur Hunting-grounds Map\n",
    "\n",
    "<div>\n",
    "<img src=\"assets/HeatMap.png\" width=\"800\"/>\n",
    "</div>\n",
    "\n"
   ]
  },
  {
   "cell_type": "markdown",
   "id": "ec80b630-a39f-4c13-971e-2f4a74e45cd6",
   "metadata": {},
   "source": [
    "# Dinosaur Bone Identification\n",
    "\n",
    "### Dinosaur Bone Structure\n",
    "\n",
    "<div>\n",
    "<img src=\"assets/BoneStructure.png\" width=\"600\"/>\n",
    "</div>\n",
    "\n",
    "### Image Citation: SEER Training Modules, Module Name. U. S. National Institutes of Health, National Cancer Institute. 9/12/2022 <https://training.seer.cancer.gov/>.\n",
    "\n",
    "<img src=\"assets/BoneMacro.png\" width=\"800\"/>\n",
    "</div>\n",
    "\n",
    " ### Photos by Author"
   ]
  },
  {
   "attachments": {},
   "cell_type": "markdown",
   "id": "db99633f-fb4f-4213-9736-c6cecb2eb7c7",
   "metadata": {
    "tags": []
   },
   "source": [
    ">\n",
    "## Dinosaur bones are rare! \n",
    "\n",
    "But they occur more frequently in certain geological deposits that represent ancient deposition of sediments that captured bones and other trace evidence of ancient animals.\n",
    "\n",
    "One of the first and one of the most famous bone bearing geological formations is named the Morrison Formation, which geologists tell us formed sometime near 150 million years ago.  \n",
    "\n",
    "The geographic extent of the Morrison formation is depicted in the [following map](https://www.researchgate.net/figure/Map-of-the-study-area-showing-outcrop-distribution-for-the-Morrison-Formation-and_fig3_275400392). Notice how spindly and threadlike the Morrison formation extends over the western US. As you might imagine, a random walk throughout the western US would very rarely tread upon Morrison formation soil.\n",
    "\n",
    "<img src=\"assets/US Morrison Map.jpg\" width=\"500\"/>\n",
    "\n",
    "- Morrison Exposure US Map: Hand drawn estimation of Jurassic locations in the Western United States by Bob Chesebrough\n",
    "\n",
    "### The Morrison formation has a very distinctive look.\n",
    "\n",
    "# AI: NOT Searching for Bones!\n",
    "\n",
    "### It is Searching for similar depositional environments!\n",
    "\n",
    "The model is trained on the aerial photos (NOT satellite images which do not have enough resolution). These are typically flown at ~ 120,000 feet and while they have much more resolutions to see individual boulders and trees, there is not nearly enough resolution to find typical dinosaur bone fragments.\n",
    "\n",
    "| <img src=\"assets/MorrisonBrushyBasinMember.jpg\" width=\"500\"/> | <img src=\"assets/Depositional Environment IMG_5503_Bob,Ben,RTL.jpg\" width=\"500\"/>  |\n",
    "| :---: | :---: | \n",
    "\n",
    "This look, of the colors, the textures, the variety of rock shapes and sizes, taken together, create a signature that can be identified using AI.\n",
    "\n",
    "Here are a few aerial photo tiles that are indicative of the Brushy Basin Member:\n",
    "\n",
    "### Indicative aerial photos of Brushy Basin Member\n",
    "| <img src=\"assets/VFDragonsBack08.png\" width=\"224\"/> | <img src=\"assets/Baltic4.png\" width=\"224\"/>  |\n",
    "| --- | --- | \n",
    "| <img src=\"assets/Batwing32.png\" width=\"224\"/>  | <img src=\"assets/HFDragonsBack04.png\" width=\"224\"/>  |\n",
    "\n",
    "In this workshop we will develop AI code in several end-to-end machine learning stages from the earliest stages all the way to a deployment. We will bring to bear several AI technologies from Intel to create a bone bed search map for the Dinosaur National Monument in Utah (where I took the photo of the Camarasaurus Skelton at the top of the page)\n",
    "\n",
    "\n",
    "### Model Trained on New Mexico Aerial Photos \n",
    "\n",
    "##### Model predicts and creates Map for DNM Utah\n",
    "\n",
    "We will create a bone likelihood map from an AI image model (Resnet) using aerial photos of known but secret locations in New Mexico. The map we create, however, will depict Dinosaur National Monument, near Jensen, Utah!\n",
    "\n",
    "The depositional environments of the central New Mexico sites and the Dinosaur National Monument sites are very similar (but not identical). Nevertheless, the generated map is good at predicting the most likely patches of ground (250-meter square regions) to narrow your search along the dinosaur trail!\n",
    "\n",
    "The map is NOT perfect. While the deposition at the two localities is very similar, there are distinctive differences as well. So, the fact that the map works at all is amazing.\n",
    "\n",
    "<img src=\"assets/CentralNMMorrison.jpg\" width=\"500\"/>\n",
    "Much of Central New Mexico’s Morrison exposure is roughly level, the sandstone and claystone layers are roughly horizontal for a large portion.\n",
    "\n",
    "<img src=\"assets/DNMUtahMorrison.jpg\" width=\"500\"/>\n",
    "\n",
    "Dinosaur National Monument's Morrison layers are severely tilted. This means the bone bearing region is smaller across the surface and breaks and erodes in a dissimilar way from maps generated for Dinosaur National Monument which have been trained on Central NM images.\n",
    "\n",
    "Nevertheless, here is one of the better AI maps generated for Dinosaur National Monument.\n",
    "\n",
    "<img src=\"assets/DNM_ThreeClassMainCircled.jpg\" width=\"500\"/>\n",
    "\n",
    "The dark green squares are the model’s prediction of the best areas to search within Dinosaur National Monument. Notice the **small red circle** in the lower center portion? That is a **building housing the excavation of the hundreds of bones at DNM including the Camarasaurus skull** at the top of the page. This is a close up of that building nestled into the depositional context in which the bones are actually found.\n",
    "\n",
    "<img src=\"assets/Dinosaur National Monument Building DSC_0135.JPG\" width=\"500\"/>\n",
    "\n",
    "The horizontal bands in the lower portion of the map, encompassing the building, are indeed the best places to search for dinosaur bones at DNM. Comparison to a geological map of the area will show that the AI map is wrong in the upper right and wedge in the left middle. BUT - if you were to follow this map you would be successful in finding bones not yet excavated at the site!\n",
    "\n",
    "### Example of fossils found at Dinosaur National Monument\n",
    "#### Image by Author\n",
    "<img src=\"assets/DNM_Camarasaurus.jpg\" width=\"500\"/>\n",
    "\n",
    "\n",
    "# Credits:\n",
    "\n",
    "- Photography and videos provided by Bob, Ben, & Sam Chesebrough\n",
    "- Morrison Exposure US Map: Hand drawn estimation of Jurassic locations in the Western United States by Bob Chesebrough\n",
    "- Dinosaur National Monument Geologic Map: https://www.utah.gov/support/disclaimer.html"
   ]
  },
  {
   "cell_type": "markdown",
   "id": "94d333a1-3495-4489-ba75-16e21f170342",
   "metadata": {},
   "source": [
    "If you have any issues or want to contribute, please contact our authors:\n",
    "Intel oneAPI Solution Architect\n",
    "- Chesebrough, Bob [bob.chesebrough (at) intel.com]\n",
    "\n",
    "# About the author\n",
    "\n",
    "Bob Chesebrough is an amateur dinosaur bone hunter who has discovered and recorded over 2,500 dinosaur locatilites for the New MExico Museum of Natural History.\n",
    "\n",
    "Here is a published work on one of his finds:\n",
    "[**Prehistoric crocodile fossil discovered in New Mexico**](https://phys.org/news/2019-09-prehistoric-crocodile-fossil-mexico.html)\n",
    "\n",
    "![image](https://scx1.b-cdn.net/csz/news/800a/2019/5d81ffb23e912.jpg)"
   ]
  },
  {
   "cell_type": "markdown",
   "id": "d725ba5c-787b-41df-9e52-a14d080180c6",
   "metadata": {},
   "source": [
    "## Notices and Disclaimers\n",
    "\n",
    "Intel technologies may require enabled hardware, software or service activation.\n",
    "\n",
    "No product or component can be absolutely secure. \n",
    "\n",
    "Your costs and results may vary. \n",
    "\n",
    "© Intel Corporation. Intel, the Intel logo, and other Intel marks are trademarks of Intel Corporation or its subsidiaries. Other names and brands may be claimed as the property of others. "
   ]
  },
  {
   "cell_type": "code",
   "execution_count": null,
   "id": "9d45c171-fffb-4185-ada1-5dcb5aa1c1d8",
   "metadata": {},
   "outputs": [],
   "source": []
  }
 ],
 "metadata": {
  "kernelspec": {
   "display_name": "Python 3 (ipykernel)",
   "language": "python",
   "name": "python3"
  },
  "language_info": {
   "codemirror_mode": {
    "name": "ipython",
    "version": 3
   },
   "file_extension": ".py",
   "mimetype": "text/x-python",
   "name": "python",
   "nbconvert_exporter": "python",
   "pygments_lexer": "ipython3",
   "version": "3.11.5"
  }
 },
 "nbformat": 4,
 "nbformat_minor": 5
}
