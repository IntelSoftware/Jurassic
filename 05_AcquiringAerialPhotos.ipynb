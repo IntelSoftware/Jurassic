{
 "cells": [
  {
   "cell_type": "markdown",
   "id": "31750c77-5744-473a-8059-5e282b40f9d4",
   "metadata": {},
   "source": [
    "# 05 Acquiring Aerial Photos\n",
    "\n",
    "Maps can be viewed though a variety of online providers:\n",
    "- Google Earth Engine\n",
    "- Bing\n",
    "- USGS\n",
    "\n",
    "Maps should be Aerial Photo level views of the ground, looking straight down not at any arbitrary angle\n",
    "\n",
    "For  the code editor in Earth Engine you can start with this simple Javascript to jump to right image for Dinosaur National Monument in Jensen Utah\n",
    "\n",
    "You should enroll for access to Google Earth Engine\n",
    "\n",
    "Here is the link:\n",
    "\n",
    "https://code.earthengine.google.com/\n",
    "\n",
    "### Java script needed inside code.earthengine.google.com\n",
    "\n",
    "Suggested zoom is 16 (aerial type photos) and whatever latitude and longitude desired\n",
    "\n",
    "```Javascript\n",
    "var dataset = ee.ImageCollection('USDA/NAIP/DOQQ')\n",
    "                  .filter(ee.Filter.date('2017-01-01', '2018-12-31'));\n",
    "var trueColor = dataset.select(['R', 'G', 'B']);\n",
    "var trueColorVis = {\n",
    "  min: 0.0,\n",
    "  max: 255.0,\n",
    "};\n",
    "Map.setCenter( -107.400140, 35.364480, 16);\n",
    "Map.addLayer(trueColor, trueColorVis, 'True Color');\n",
    "```"
   ]
  },
  {
   "cell_type": "markdown",
   "id": "259e79a0-b6b6-47c2-b139-46bea3774c62",
   "metadata": {},
   "source": [
    "# Attribution: \n",
    "- Google Earth Engine: July 2022\n",
    "- URL: https://code.earthengine.google.com/\n",
    "- Images: 'USDA/NAIP/DOQQ'\n",
    "- Dates: '2017-01-01', '2018-12-31'\n",
    "- Location: -107.400140, 35.364480, 16\n",
    "- Maxar Technologies, State of Utah, USDA/FPAC/GEO\n",
    "- CNES/ Airbus, Maxar Technologies, NMRGIG, US Geological Survey, USDA/FPAC/GEO"
   ]
  },
  {
   "cell_type": "markdown",
   "id": "b3058987-ba2c-465c-ac4e-b36026adc1d3",
   "metadata": {},
   "source": [
    "## Code editor in Google Earth Engine\n",
    "\n",
    "<img src=\"assets/code.earthengine.google.com.jpg\" width=\"500\"/>\n",
    " \n",
    " Javascript\n",
    " \n",
    " <img src=\"assets/codeGEE.jpg\" width=\"500\"/>"
   ]
  },
  {
   "cell_type": "markdown",
   "id": "962d8946-770c-4ce4-b771-00fd5b5ab639",
   "metadata": {},
   "source": [
    "# Make full screen Satellite\n",
    "\n",
    "- Click square **expand** button near upper right of image by the Map/ Satellite button\n",
    "- Use snipping tool to grab a selection of the map\n",
    "- Save the snippet to your local machine\n",
    "- You can import into DevCloud Jupyter Lab instance via click and drag to navigation frame\n",
    "\n",
    " <img src=\"assets/code.earthengine.google.comFullScreen.jpg\" width=\"500\"/>\n",
    " \n",
    "\n"
   ]
  },
  {
   "cell_type": "markdown",
   "id": "65ef561b-ece7-4f9f-bc2d-b700b0b3c403",
   "metadata": {},
   "source": [
    "# Splitting Maps into 224x224 named slices\n",
    "\n",
    "- Assumes downloaded image was downloaded to laptop then uploaded to DevCloud to this location:\n",
    "\n",
    "- data/MyMaps.png - in this case to follow, specifically in data/DinosaurNationalMonument"
   ]
  },
  {
   "cell_type": "code",
   "execution_count": null,
   "id": "7877c7b6-0aef-4af2-b36d-ac3c0231cac4",
   "metadata": {},
   "outputs": [],
   "source": [
    "import glob\n",
    "from PIL import Image\n",
    "import os\n",
    "\n",
    "data = 'data/DinosaurNationalMonument/'\n",
    "path = data + 'Dinosaur National Monument Panorama.png'\n",
    "\n",
    "img = Image.open(path)\n",
    "for x in range(img.size[0]//224):\n",
    "    for y in range(img.size[1]//224):\n",
    "        left = x * 224\n",
    "        low = y * 224\n",
    "        bbox = (left, low, left + 224, low + 224)\n",
    "        working_slice = img.crop(bbox)\n",
    "        # Uncomment line below to actually write the new image tiles\n",
    "        working_slice.save('{}patches/x{:03d}y{:03d}.png'.format(data, x, y))\n",
    "        working_slice.close()\n",
    "Px, Py = (img.size[0]//224, img.size[1]//224)"
   ]
  },
  {
   "cell_type": "markdown",
   "id": "fab3a27c-dc0a-4cd1-be9d-07b94ed4c71b",
   "metadata": {},
   "source": [
    "If you have any issues or want to contribute, please contact our authors:\n",
    "Intel oneAPI Solution Architect\n",
    "- Chesebrough, Bob [bob.chesebrough (at) intel.com]\n"
   ]
  },
  {
   "cell_type": "markdown",
   "id": "adf81995-2588-437b-8d8b-86004dab93a1",
   "metadata": {},
   "source": [
    "## Notices and Disclaimers\n",
    "\n",
    "Intel technologies may require enabled hardware, software or service activation.\n",
    "\n",
    "No product or component can be absolutely secure. \n",
    "\n",
    "Your costs and results may vary. \n",
    "\n",
    "© Intel Corporation. Intel, the Intel logo, and other Intel marks are trademarks of Intel Corporation or its subsidiaries. Other names and brands may be claimed as the property of others. "
   ]
  }
 ],
 "metadata": {
  "kernelspec": {
   "display_name": "Python 3 (Intel® oneAPI 2022.3)",
   "language": "python",
   "name": "c009-intel_distribution_of_python_3_oneapi-beta05-python"
  },
  "language_info": {
   "codemirror_mode": {
    "name": "ipython",
    "version": 3
   },
   "file_extension": ".py",
   "mimetype": "text/x-python",
   "name": "python",
   "nbconvert_exporter": "python",
   "pygments_lexer": "ipython3",
   "version": "3.9.12"
  }
 },
 "nbformat": 4,
 "nbformat_minor": 5
}
