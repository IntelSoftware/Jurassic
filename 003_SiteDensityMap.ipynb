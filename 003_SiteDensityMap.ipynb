{
 "cells": [
  {
   "cell_type": "markdown",
   "id": "93177fc1-9ebf-4b12-8fe4-b2e976586727",
   "metadata": {},
   "source": [
    "# 003 Creating a Site Density Map\n",
    "\n",
    "Next we want to generate a function to help us create a local map of site denisities so that we can go back to our favorite spots and extend the finds without wasting too much time and boot leather\n",
    "\n"
   ]
  },
  {
   "cell_type": "code",
   "execution_count": null,
   "id": "d6241a92-2418-4f23-a4f7-1dba5a41f2df",
   "metadata": {},
   "outputs": [],
   "source": [
    "import numpy as np\n",
    "import matplotlib.pyplot as plt\n",
    "import scipy.stats as st\n",
    "from sklearn.datasets import make_blobs\n",
    "n_components = 4\n",
    "X, truth = make_blobs(n_samples=300, centers=n_components, \n",
    "                      cluster_std = [2, 1.5, 1, 1], \n",
    "                      random_state=42)\n",
    "plt.scatter(X[:, 0], X[:, 1], s=50, c = truth, cmap='Set1')\n",
    "plt.title(f\"Map of a mixture of 300 fossils of {n_components} fossils types \")\n",
    "plt.xlabel(\"longitude\")\n",
    "plt.ylabel(\"latitude\")\n",
    "plt.grid()"
   ]
  },
  {
   "cell_type": "code",
   "execution_count": null,
   "id": "c2607a4f-0777-43d7-b8e4-3b725b23f41b",
   "metadata": {},
   "outputs": [],
   "source": [
    "from matplotlib.pyplot import figure\n",
    "from PIL import Image\n",
    "import matplotlib.pyplot as plt\n",
    "import numpy as np\n",
    "from sklearn.linear_model import LinearRegression\n",
    "\n",
    "figure(figsize=(12, 12), dpi=80)\n",
    "\n",
    "NM = 'data/SomeWhereColorado.png'\n",
    "img = Image.open(NM)\n",
    "implot = plt.imshow(img)\n",
    "\n",
    "# Map X coordinates to Image Coordinates\n",
    "\n",
    "MapCoords = []\n",
    "MapCoords.append(X[:,0].min() )\n",
    "MapCoords.append(X[:,0].max() )\n",
    "MapCoords.append(X[:,1].min() )\n",
    "MapCoords.append(X[:,1].max() )\n",
    "MapCoords = np.array(MapCoords)\n",
    "\n",
    "ImageCoords = []\n",
    "ImageCoords.append(0)\n",
    "ImageCoords.append(img.size[0] )\n",
    "ImageCoords.append(img.size[1])\n",
    "ImageCoords.append(0 )\n",
    "ImageCoords = np.array(ImageCoords)\n",
    "\n",
    "MapX = LinearRegression().fit(MapCoords[:2].reshape(-1,1), ImageCoords[:2].reshape(-1,1))\n",
    "PX = (MapX.predict(X[:,0].reshape(-1,1))).astype(int).squeeze() \n",
    "MapX = LinearRegression().fit(MapCoords[2:].reshape(-1,1), ImageCoords[2:].reshape(-1,1))\n",
    "PY = (MapX.predict(X[:,1].reshape(-1,1))).astype(int).squeeze()\n",
    "plt.scatter(PX,PY, c= 'lime')"
   ]
  },
  {
   "cell_type": "markdown",
   "id": "e84cdee5-1f59-4e6c-a064-31620261b3b3",
   "metadata": {},
   "source": [
    "# Generate Kernel Density Plot"
   ]
  },
  {
   "cell_type": "code",
   "execution_count": null,
   "id": "948bc57b-9640-40d4-b253-91e850ba3d55",
   "metadata": {},
   "outputs": [],
   "source": [
    "import scipy.stats as st\n",
    "# Kernel density, limits are extent of bone finds\n",
    "\n",
    "BW = .5    # to specify BW\n",
    "#BW = None  # to use auto BW\n",
    "\n",
    "# Extract x and y\n",
    "x = PX # n_samples is number of bone locations ~ 5000\n",
    "y = PY # n_samples is number of bone locations ~ 5000\n",
    "\n",
    "# image corners\n",
    "xmin, ymin = 0, 0\n",
    "xmax, ymax = img.size\n",
    "inc = 1  #16x14 = 224 is multiple of 16\n",
    "\n",
    "ymax = ymax//inc*inc\n",
    "\n",
    "# Create meshgrid\n",
    "\n",
    "#xx, yy = np.mgrid[xmin:xmax:inc, ymax:ymin:-inc]\n",
    "xx, yy = np.mgrid[xmin:xmax+inc:inc, ymin:ymax+inc:inc]\n",
    "yy = ymax - yy\n",
    "\n",
    "positions = np.vstack([xx.ravel(), yy.ravel()])\n",
    "values = np.vstack([x, y])\n",
    "\n",
    "if BW == None:\n",
    "    kernel = st.gaussian_kde(values)\n",
    "else:\n",
    "    kernel = st.gaussian_kde(values, bw_method = BW)\n",
    "\n",
    "f = np.reshape(kernel(positions), xx.shape)\n",
    "z = f/f.max()"
   ]
  },
  {
   "cell_type": "markdown",
   "id": "4c21b256-2e92-4c44-a30d-0c064f07614b",
   "metadata": {},
   "source": [
    "# Superimpose Site Density and Image"
   ]
  },
  {
   "cell_type": "code",
   "execution_count": null,
   "id": "b6e1b222-fd0d-4956-9e98-7055a80a3307",
   "metadata": {},
   "outputs": [],
   "source": [
    "fig = plt.figure(figsize=(8,8))\n",
    "ax = fig.gca()\n",
    "# xmax, ymax = 10100, 10256\n",
    "# xmin, ymin = 0,0\n",
    "ax.set_xlim(xmin, xmax)\n",
    "ax.set_ylim(ymax, ymin )\n",
    "\n",
    "cfset = ax.contourf(xx, yy, z, cmap='coolwarm', levels=[i/20 for i in range (20)], alpha =.2)\n",
    "#cfset = ax.contourf(xx, yy, z, cmap='coolwarm', levels= 3, alpha =.2)\n",
    "ax.imshow(np.rot90(z), cmap='coolwarm', extent=[xmin, xmax, ymax, ymin  ])\n",
    "\n",
    "#cset = ax.contour(xx, yy, z, colors='k')\n",
    "cset = ax.contour(xx, yy, z, levels = 5, colors='k')\n",
    "ax.clabel(cset, inline=1, fontsize=10)\n",
    "ax.set_xlabel('X')\n",
    "ax.set_ylabel('Y')\n",
    "plt.title('2D Gaussian Kernel density estimation')\n",
    "\n",
    "implot = plt.imshow(img)\n",
    "\n",
    "# plot a sample piont in lime and read it density\n",
    "X,Y = (800, 600)\n",
    "plt.scatter(X, Y,c='lime')\n",
    "plt.grid()\n",
    "\n",
    "print(\"Image coordinate: \", (X,Y))\n",
    "print('Likelyhood: ', z[X,Y])"
   ]
  },
  {
   "cell_type": "markdown",
   "id": "47a66ba1-2bd2-4c47-82bf-571f5f478569",
   "metadata": {},
   "source": [
    "# Image Patches: Method 1: \n",
    "\n",
    "### Possible Bone Locations (near Known Bone Locations)\n",
    "- Pull Image Patch from sampling location\n",
    "\n",
    "Its label will correspond to its density"
   ]
  },
  {
   "cell_type": "code",
   "execution_count": null,
   "id": "7816c01d-7fda-4a8e-9c9c-b95cde942215",
   "metadata": {},
   "outputs": [],
   "source": [
    "px = 800\n",
    "py = 600\n",
    "print(f\"label at ({px}, {py}) = {z[px,py]:3.1f}\")\n",
    "# Note that the crop region must be given as a 4-tuple \n",
    "# (left, upper, right, lower).\n",
    "\n",
    "\n",
    "crop_rectangle = (px - 112, py - 112, px + 111, py + 111)\n",
    "cropped_im = img.crop(crop_rectangle)\n",
    "\n",
    "cropped_im.show()\n"
   ]
  },
  {
   "cell_type": "markdown",
   "id": "a4b180c8-d31d-4d36-830e-926b0b070a0c",
   "metadata": {},
   "source": [
    "# Image Patches: Method 2: \n",
    "\n",
    "### Known Bone Loations\n",
    "- Pull Image Patch from known bone location\n",
    "\n",
    "It's label will be the maximum label score"
   ]
  },
  {
   "cell_type": "code",
   "execution_count": null,
   "id": "15e0c218-3734-4ba6-be7d-51c3b8f63bc8",
   "metadata": {},
   "outputs": [],
   "source": [
    "px, py = PX[42], PY[42]\n",
    "\n",
    "print(f\"label at ({px}, {py}) = 1.0 by definition we found bone at this site!\")\n",
    "# Note that the crop region must be given as a 4-tuple \n",
    "# (left, upper, right, lower).\n",
    "\n",
    "\n",
    "crop_rectangle = (px - 112, py - 112, px + 111, py + 111)\n",
    "cropped_im = img.crop(crop_rectangle)\n",
    "\n",
    "cropped_im.show()\n"
   ]
  },
  {
   "cell_type": "code",
   "execution_count": null,
   "id": "ce1377f7-4a62-4d2e-bff4-5b36891c5494",
   "metadata": {},
   "outputs": [],
   "source": []
  },
  {
   "cell_type": "markdown",
   "id": "e84bc3b3-6121-4eaa-b881-4d73ec8007ae",
   "metadata": {},
   "source": [
    "# Image Patches: Method 3: \n",
    "\n",
    "### Non Bone Locations\n",
    "- Pull Image Patch from obviously NON Bone Locations\n",
    "- Consult geological map **[National Geological Map Database](https://ngmdb.usgs.gov/mapview/?center=-109.308,40.436&zoom=14)** to find regions NOT in known bone beds: For **NON BONE** locations choose images AWAY from Jurassic Morrison formation and other famous bone beds such as the **\"Hell Creek\"** formation in the western US, **\"Flaming Cliffs\"** Formation in China, **\"Lance Creek\"** & **\"Judith River\"** in North America, etc. Avoid selecting images from KNOWN bones beds - NGMDB with regions starting with \"J\" or \"K\". \"J\" stands for Jurassic. \"K\" stands for cretaceous. For instance, near Dinosaur National Monument the designation Kjcm means this band belongs at the interface of Jurassic Morrison and Creatceous Cedar Mountain. This is a known bone bed generally - so do not choose these images for the NON Bone class!\n",
    "\n",
    "**Note:**\n",
    "\n",
    "In case you are wondering - YES - you could use maps such as these from NGMDB to label various bone beds!  But the map we create goes a step further and identifies more specific image textures WITHIN one of these formations!\n",
    "\n",
    "![assets/National Geological Map Database for Dinosaur National Monument](assets/NGMDB_DNM.PNG)\n"
   ]
  },
  {
   "cell_type": "code",
   "execution_count": null,
   "id": "208d5940-af10-4aa7-a1ba-9ee52f55c7b7",
   "metadata": {},
   "outputs": [],
   "source": [
    "img = Image.open('data/OregonCoastHaystackRock.PNG')\n",
    "implot = plt.imshow(img)\n",
    "plt.title(\"Haystack Rock: No Bones here!\")"
   ]
  },
  {
   "cell_type": "markdown",
   "id": "f78f03ff-aed7-4c0e-8081-8c72e88b299b",
   "metadata": {},
   "source": [
    "# Sample and Save 224x224 Image Patches\n",
    "\n",
    "Sample images for classes 2 = Bone, 0 = Non Bone, and 1 = Bone Possible\n",
    "\n",
    "Write the 224x224 image patches to the folder structure as follows:\n",
    "\n",
    "![assets/Folder Structre](assets/FolderStructure.PNG)"
   ]
  },
  {
   "cell_type": "code",
   "execution_count": null,
   "id": "7f05e6c3-4be4-4fa5-93e8-65612516e4ac",
   "metadata": {},
   "outputs": [],
   "source": []
  }
 ],
 "metadata": {
  "kernelspec": {
   "display_name": "Python 3.8 (Intel® oneAPI)",
   "language": "python",
   "name": "c009-intel_distribution_of_python_3_oneapi-beta05-python"
  },
  "language_info": {
   "codemirror_mode": {
    "name": "ipython",
    "version": 3
   },
   "file_extension": ".py",
   "mimetype": "text/x-python",
   "name": "python",
   "nbconvert_exporter": "python",
   "pygments_lexer": "ipython3",
   "version": "3.9.10"
  }
 },
 "nbformat": 4,
 "nbformat_minor": 5
}
