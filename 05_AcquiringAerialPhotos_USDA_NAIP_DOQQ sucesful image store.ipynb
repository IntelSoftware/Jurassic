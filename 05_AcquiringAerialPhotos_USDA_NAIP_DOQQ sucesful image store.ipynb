{
 "cells": [
  {
   "cell_type": "code",
   "execution_count": null,
   "id": "46779d17",
   "metadata": {},
   "outputs": [],
   "source": [
    "import geemap\n",
    "import ee\n",
    "import os\n",
    "import numpy as np"
   ]
  },
  {
   "cell_type": "code",
   "execution_count": null,
   "id": "cf067861-5467-4e1e-b99e-190181f1071e",
   "metadata": {},
   "outputs": [],
   "source": []
  },
  {
   "cell_type": "code",
   "execution_count": null,
   "id": "a2ae6010-9090-4d38-b87a-aa02da4d958e",
   "metadata": {},
   "outputs": [],
   "source": [
    "#ee.Authenticate()"
   ]
  },
  {
   "cell_type": "markdown",
   "id": "a8f419db-bfec-420c-9b0c-b7c868f03e43",
   "metadata": {},
   "source": [
    "# Define Functions to Retrive, Display, and Save Images"
   ]
  },
  {
   "cell_type": "code",
   "execution_count": null,
   "id": "bb9e99b4-11d9-4f55-bb2e-0109f23d485b",
   "metadata": {},
   "outputs": [],
   "source": [
    "def RetrieveNAIPimage(lat, long, deltalr = 0.00165, deltaud = 0.00135, date1 = '2018-01-01', date2 = '2020-12-31'):\n",
    "    region = ee.Geometry.BBox(long- deltalr, lat - deltaud, long + deltalr, lat + deltaud)\n",
    "    dataset = ee.ImageCollection('USDA/NAIP/DOQQ').filter(ee.Filter.date(date1, date2) ).filter(ee.Filter.bounds(region))\n",
    "    return dataset\n",
    "\n",
    "def DisplayMap(dataset, lat, long, verbose = True, deltalr = 0.00165, deltaud = 0.00135, zoom = 18):  \n",
    "    image = dataset.first()\n",
    "    trueColor = dataset.select(['R', 'G', 'B'])\n",
    "    trueColorVis = {\n",
    "      min: 50,\n",
    "      max: 240,\n",
    "    }\n",
    "    if verbose:\n",
    "        display(\"images found \",dataset.size())\n",
    "        print(geemap.image_props(image).getInfo())\n",
    "        print(geemap.image_stats(image, scale=18).getInfo())\n",
    "        display(image.geometry().getInfo())\n",
    "    region = ee.Geometry.BBox(long- deltalr, lat - deltaud, long + deltalr, lat + deltaud)\n",
    "    regionDebug = ee.Geometry.Polygon(image.getInfo()['properties']['system:footprint']['coordinates'])\n",
    "    Map = geemap.Map(center=(lat, long), zoom=18)\n",
    "    Map.addLayer(trueColor, trueColorVis, 'True Color');\n",
    "    Map.addLayer(region, {'color': 'red'}, '500x500 Image Selected')\n",
    "    Map.addLayer(regionDebug, {'color': 'green'}, 'NAIP Image Boundary')\n",
    "    #Map.setOptions('SATELLITE');\n",
    "    image = dataset.first()\n",
    "\n",
    "    return Map\n",
    "\n",
    "def SaveNAIPimage(image ,lat, long, folder, filename, verbose = True, deltalr = 0.00165, deltaud = 0.00135):\n",
    "    from PIL import Image\n",
    "    import numpy as np\n",
    "    fileError.append((folder,filename, lat, long))\n",
    "    fileTried.append((folder,filename, lat, long, False))\n",
    "    try:\n",
    "        region = ee.Geometry.BBox(long - deltalr, lat - deltaud, long + deltalr, lat + deltaud)\n",
    "        rgb_img = geemap.ee_to_numpy(image, bands=['R', 'G', 'B'], region=region)\n",
    "\n",
    "#         rgb_img[:,2] = rgb_img[:,2] \n",
    "#         rgb_img[:,1] = rgb_img[:,1] \n",
    "       \n",
    "        if verbose:\n",
    "            print(rgb_img.shape)\n",
    "            print(image.getInfo()['properties']['system:footprint']['coordinates'])\n",
    "        PIL_image = Image.fromarray(np.uint8(rgb_img)).convert('RGB')\n",
    "        # Setting the points for cropped image\n",
    "        left = 9\n",
    "        top = 0 \n",
    "        right = 500\n",
    "        bottom = 500\n",
    "         \n",
    "        # Cropped image of above dimension\n",
    "        # (It will not change original image)\n",
    "        PIL_image = PIL_image.crop((left, top, right, bottom))\n",
    "             \n",
    "        PIL_image.save(f\"{folder}/{filename}.png\")\n",
    "        fileError.remove((folder,filename, lat, long))\n",
    "        fileTried.remove((folder,filename, lat, long, False))\n",
    "        fileTried.append((folder,filename, lat, long, True))\n",
    "    except:\n",
    "        print(f'{(folder,filename, lat, long)}\\nThere was a problem:\\nLikely the requested image lies outside or overlaps two NAIP images\\nOR deltalr and deltaud may be too large for this coordinate - try reducing - the request image is too large' )"
   ]
  },
  {
   "cell_type": "code",
   "execution_count": null,
   "id": "1967bc0c-94c8-4b2e-9029-bad444d8e047",
   "metadata": {},
   "outputs": [],
   "source": [
    "# from PIL import Image \n",
    "# im = Image.open(\"Downloads/Morrison/151swe1.png\")\n",
    "# width, height = im.size\n",
    "# print(width, height)\n",
    "# # Setting the points for cropped image\n",
    "# left = 9\n",
    "# top = 0 \n",
    "# right = width\n",
    "# bottom = 500\n",
    " \n",
    "# # Cropped image of above dimension\n",
    "# # (It will not change original image)\n",
    "# im1 = im.crop((left, top, right, bottom))\n",
    "# im1"
   ]
  },
  {
   "cell_type": "markdown",
   "id": "96f4f572-021c-4bfc-9bf5-cafad0b16306",
   "metadata": {},
   "source": [
    "# Display Map\n",
    "\n",
    "Red region is area to be saved"
   ]
  },
  {
   "cell_type": "code",
   "execution_count": null,
   "id": "a978bfdc",
   "metadata": {
    "ExecuteTime": {
     "end_time": "2023-06-16T17:14:18.042562Z",
     "start_time": "2023-06-16T17:14:13.012269Z"
    },
    "scrolled": true,
    "tags": []
   },
   "outputs": [],
   "source": [
    "import geemap\n",
    "import ee\n",
    "import os\n",
    "# If it is not yet authenticated, uncomment the line below\n",
    "# ee.Authenticate()\n",
    "\n",
    "ee.Initialize()\n",
    "\n",
    "long, lat = -106.922, 35.5123  # MM good\n",
    "long, lat = -109.30146919370144, 40.44057649432536 # DNM\n",
    "\n",
    "\n",
    "dataset = RetrieveNAIPimage(lat, long)\n",
    "Map = DisplayMap(dataset, lat, long, verbose = True, zoom = 18)\n",
    "Map"
   ]
  },
  {
   "cell_type": "markdown",
   "id": "ef1e03b2-9b09-4129-a8ab-ac5b1cf367e9",
   "metadata": {},
   "source": [
    "# Find name of larger maps from NAIP\n",
    "\n",
    "Yrun Verbosity to True to see more iamge stats:\n",
    "- near Dinosaur National Monument we find the NAIP image depicted by the green boundary in the map above.\n",
    "- m_4010938_ne_12_060_20180910. \n",
    "\n",
    "I use USGS Earth Explorer to easily grab that map"
   ]
  },
  {
   "cell_type": "markdown",
   "id": "fd195068-099d-4148-973d-5e21e726f086",
   "metadata": {},
   "source": [
    "# Images from NAIP: Public Domain\n",
    "\n",
    "https://data.nal.usda.gov/dataset/naip-digital-ortho-photo-image-geospatialdatapresentationform-remote-sensing-image"
   ]
  },
  {
   "cell_type": "code",
   "execution_count": null,
   "id": "da3e9e44-5e5c-4a3d-934b-e33bb2fef7a1",
   "metadata": {},
   "outputs": [],
   "source": [
    "dataset.getInfo()['properties']['description']"
   ]
  },
  {
   "cell_type": "code",
   "execution_count": null,
   "id": "eb52fa8c-c45b-4eba-abfd-bb2b330723ea",
   "metadata": {},
   "outputs": [],
   "source": [
    "# Debug\n",
    "from PIL import Image\n",
    "import numpy as np\n",
    "\n",
    "dataset = RetrieveNAIPimage(lat, long)\n",
    "image = dataset.first()\n",
    "# folder = 'Downloads/NotMorrison'\n",
    "# filename = 'bob'\n",
    "# verbose = False\n",
    "deltalr = 0.00164\n",
    "deltaud = 0.00134\n",
    "region = ee.Geometry.BBox(long - deltalr, lat - deltaud, long + deltalr, lat + deltaud)\n",
    "rgb_img = geemap.ee_to_numpy(image, bands=['R', 'G', 'B'], region=region)\n",
    "\n",
    "# region = ee.Geometry.BBox(long - deltalr, lat - deltaud, long + deltalr, lat + deltaud)\n",
    "# rgb_img = geemap.ee_to_numpy(image, bands=['R', 'G', 'B'], region=region)\n",
    "\n",
    "# rgb_img[:,2] = rgb_img[:,2] \n",
    "# rgb_img[:,1] = rgb_img[:,1] \n",
    "\n",
    "# if verbose:\n",
    "#     print(rgb_img.shape)\n",
    "#     print(image.getInfo()['properties']['system:footprint']['coordinates'])\n",
    "# PIL_image = Image.fromarray(np.uint8(rgb_img)).convert('RGB')\n",
    "# # Setting the points for cropped image\n",
    "# left = 9\n",
    "# top = 0 \n",
    "# right = 500\n",
    "# bottom = 500\n",
    " \n",
    "# # Cropped image of above dimension\n",
    "# # (It will not change original image)\n",
    "# PIL_image = PIL_image.crop((left, top, right, bottom))\n",
    "     \n",
    "# PIL_image.save(f\"{folder}/{filename}.png\")"
   ]
  },
  {
   "cell_type": "markdown",
   "id": "83fa59c8-11b6-480e-a309-4070cf36a501",
   "metadata": {},
   "source": [
    "# Save Image\n",
    "\n",
    "Must reduce dataset down to a single image via filtering and perhaps median aggregation\n"
   ]
  },
  {
   "cell_type": "code",
   "execution_count": null,
   "id": "bdc3b309-f2f8-45a1-9efc-0769d6383481",
   "metadata": {},
   "outputs": [],
   "source": [
    "# from PIL import Image\n",
    "# import numpy as np\n",
    "# fileError = []\n",
    "# fileTried = []\n",
    "# dataset = RetrieveNAIPimage(lat, long)\n",
    "# image = dataset.first()\n",
    "# folder = 'Downloads/NotMorrison'\n",
    "# filename = 'bob'\n",
    "# SaveNAIPimage(image, lat, long, folder, filename, verbose = False)\n"
   ]
  },
  {
   "cell_type": "code",
   "execution_count": null,
   "id": "4c67ef10-1fe6-443c-a58a-55e0037709b4",
   "metadata": {},
   "outputs": [],
   "source": []
  },
  {
   "cell_type": "code",
   "execution_count": null,
   "id": "acebc92d-975b-41b2-88f6-34a3a74c5ab0",
   "metadata": {},
   "outputs": [],
   "source": []
  },
  {
   "cell_type": "markdown",
   "id": "27acb435-545a-41c7-8706-f6e6ea5c0188",
   "metadata": {},
   "source": [
    "# Get Coordinates of Region of interest"
   ]
  },
  {
   "cell_type": "code",
   "execution_count": null,
   "id": "766857bb-a16b-4275-84cd-fd55fa642043",
   "metadata": {},
   "outputs": [],
   "source": [
    "#ee.Geometry.Polygon(image.getInfo()['properties']['system:footprint']['coordinates'])\n",
    "image.getInfo()['properties']['system:footprint']['coordinates']"
   ]
  },
  {
   "cell_type": "code",
   "execution_count": null,
   "id": "fcaa90d6-92ea-4ef9-9fa8-d23af53170bb",
   "metadata": {},
   "outputs": [],
   "source": [
    "import pandas as pd\n",
    "import time\n",
    "time.time()\n",
    "SampleTheseCoords = pd.read_csv('SampleTheseCoordsEdited.csv')\n",
    "arr = SampleTheseCoords.to_numpy()\n",
    "N = arr.shape[0]\n",
    "N"
   ]
  },
  {
   "cell_type": "code",
   "execution_count": null,
   "id": "49b4789c-3437-4ae7-bb6d-856adc445052",
   "metadata": {},
   "outputs": [],
   "source": [
    "SampleTheseCoords"
   ]
  },
  {
   "cell_type": "markdown",
   "id": "02fc1cdb-23e8-42f1-8d07-37b6ba91306a",
   "metadata": {},
   "source": [
    "# Serial acuisition of images"
   ]
  },
  {
   "cell_type": "code",
   "execution_count": null,
   "id": "cb21cb51",
   "metadata": {
    "ExecuteTime": {
     "end_time": "2023-06-16T17:47:50.238567Z",
     "start_time": "2023-06-16T17:47:50.233540Z"
    }
   },
   "outputs": [],
   "source": [
    "# from tqdm import tqdm\n",
    "\n",
    "# start = time.time()\n",
    "# print(start)\n",
    "# for i, row in enumerate(tqdm(arr)):\n",
    "#     folder = f'Downloads/{row[0]}/'\n",
    "#     filename = f'{i:03}{row[1]}.png'\n",
    "#     long = row[2]\n",
    "#     lat = row[3]\n",
    "#     dataset = RetrieveNAIPimage(lat, long)\n",
    "#     image = dataset.first()\n",
    "#     SaveNAIPimage(image ,lat, long, folder, filename, verbose = False)\n",
    "# end = time.time()\n",
    "# print(f'Elapsed: {(end-start)/60:5.1f} min')"
   ]
  },
  {
   "cell_type": "markdown",
   "id": "339e1afa-bdbe-48d8-bd96-ea6e222dedf4",
   "metadata": {},
   "source": [
    "# Dask Parallel Acquisition of images"
   ]
  },
  {
   "cell_type": "code",
   "execution_count": null,
   "id": "f0f243aa-a242-400a-902d-ddede7e5970d",
   "metadata": {},
   "outputs": [],
   "source": []
  },
  {
   "cell_type": "code",
   "execution_count": null,
   "id": "2ab08973",
   "metadata": {},
   "outputs": [],
   "source": [
    "from tqdm import tqdm\n",
    "import dask\n",
    "lazy  = []\n",
    "fileError = []\n",
    "fileTried = []\n",
    "\n",
    "def kernel(row):\n",
    "    #print(row)\n",
    "    folder = row[0]\n",
    "    filename = row[1]\n",
    "    long = float(row[2])\n",
    "    lat = float(row[3])\n",
    "    dataset = RetrieveNAIPimage(lat, long)\n",
    "    image = dataset.first()\n",
    "    SaveNAIPimage(image, lat, long, folder, filename, verbose = False)\n",
    "    lazy.append(row)\n",
    "    return row\n",
    "    \n",
    "ee.Initialize()\n",
    "start = time.time()\n",
    "print(start)\n",
    "for i in range(0,N):\n",
    "    row = arr[i]\n",
    "    row[0] = f'data/geemap/{row[0]}/'\n",
    "    row[1] = f'{i:03}{row[1]}'\n",
    "    res = dask.delayed(kernel)(row)\n",
    "    lazy.append(res)\n",
    "start = time.time()    \n",
    "dask.compute(*lazy)\n",
    "end = time.time()\n",
    "print(f'Elapsed: {(end-start)/60:5.1f} min')"
   ]
  },
  {
   "cell_type": "code",
   "execution_count": null,
   "id": "b3cdcb7b-2ac1-408d-a910-2993b7470928",
   "metadata": {},
   "outputs": [],
   "source": [
    "\n",
    "Files = np.array(fileTried)\n",
    "Files"
   ]
  },
  {
   "cell_type": "code",
   "execution_count": null,
   "id": "97b3af05-fd5a-484a-ab91-c138e4ae5341",
   "metadata": {},
   "outputs": [],
   "source": []
  },
  {
   "cell_type": "code",
   "execution_count": null,
   "id": "cf613593-dcbb-43a8-80cd-4feabd23774f",
   "metadata": {},
   "outputs": [],
   "source": [
    "FilesAfterAcquisition = pd.DataFrame(Files, columns=['Folder', 'Filename', 'Latitude', 'Longitude', 'Exists'])\n",
    "FilesAfterAcquisition"
   ]
  },
  {
   "cell_type": "code",
   "execution_count": null,
   "id": "6d0614c7-e6c8-4937-a38c-268e4282ee9c",
   "metadata": {},
   "outputs": [],
   "source": [
    "FilesAfterAcquisition[ (FilesAfterAcquisition['Exists'] == 'True')].to_csv('FilesAfterAcquisition.csv')\n",
    "FilesAfterAcquisition[ (FilesAfterAcquisition['Exists'] == 'False')].to_csv('FilesFailedAcquisition.csv')\n",
    "FilesAfterAcquisition[ (FilesAfterAcquisition['Exists'] == 'True') & (FilesAfterAcquisition['Folder'] == 'data/geemap/NotMorrison/')  ]"
   ]
  },
  {
   "cell_type": "code",
   "execution_count": null,
   "id": "1aa11b4f-376f-4d25-9022-b7bc815d783b",
   "metadata": {},
   "outputs": [],
   "source": [
    "FilesAfterAcquisition[ (FilesAfterAcquisition['Exists'] == 'True') & (FilesAfterAcquisition['Folder'] == 'data/geemap/Morrison/')  ]"
   ]
  },
  {
   "cell_type": "code",
   "execution_count": null,
   "id": "13551627-8519-4a0d-b3d4-7a0f0b76b1a7",
   "metadata": {},
   "outputs": [],
   "source": []
  },
  {
   "cell_type": "markdown",
   "id": "6751455a-350a-4528-9bd9-edb203a3011f",
   "metadata": {},
   "source": [
    "# Populate train & val folders"
   ]
  },
  {
   "cell_type": "code",
   "execution_count": null,
   "id": "a32a7869-613d-4c31-8126-c75c18110104",
   "metadata": {},
   "outputs": [],
   "source": [
    "import glob\n",
    "import os\n",
    "import numpy as np\n",
    "from sklearn.model_selection import train_test_split\n",
    "import pandas as pd"
   ]
  },
  {
   "cell_type": "markdown",
   "id": "f03ee9f2-1a9c-4b2b-872a-b376915ec017",
   "metadata": {},
   "source": [
    "### Use train test split to partition my list of file names"
   ]
  },
  {
   "cell_type": "code",
   "execution_count": null,
   "id": "90cd1bea-bc79-4166-8e5c-7d34c543e2ce",
   "metadata": {},
   "outputs": [],
   "source": [
    "# Prep Morrison\n",
    "df = pd.read_csv('FilesAfterAcquisition.csv')\n",
    "MorrisonAll = df[df['Folder'] == 'data/geemap/Morrison/']['Filename'].tolist()\n",
    "\n",
    "Morrison_train, Morrison_val = train_test_split(\n",
    "    MorrisonAll,  test_size=0.10, random_state=42)"
   ]
  },
  {
   "cell_type": "code",
   "execution_count": null,
   "id": "14749b80-ef6a-4694-a721-6e82d3ddf735",
   "metadata": {},
   "outputs": [],
   "source": [
    "# Prep NotMorrison\n",
    "NotMorrisonAll = df[df['Folder'] == 'data/geemap/NotMorrison/']['Filename'].tolist()\n",
    "\n",
    "NotMorrison_train, NotMorrison_val = train_test_split(\n",
    "    NotMorrisonAll,  test_size=0.10, random_state=42)"
   ]
  },
  {
   "cell_type": "markdown",
   "id": "5aea5b28-bd04-4bcf-9179-87288d697ab9",
   "metadata": {},
   "source": [
    "# Moved Train Test split images to associated folders"
   ]
  },
  {
   "cell_type": "code",
   "execution_count": null,
   "id": "bcd423e6-4475-43d7-b673-060f62a39b69",
   "metadata": {},
   "outputs": [],
   "source": [
    "import shutil\n",
    "import os\n",
    "\n",
    "MT_path = 'data/geemap/train/Morrison/'\n",
    "MV_path = 'data/geemap/val/Morrison/'\n",
    "NT_path = 'data/geemap/train/NotMorrison/'\n",
    "NV_path = 'data/geemap/val/NotMorrison/'\n",
    "\n",
    "MSrc_path = 'data/geemap/Morrison/'\n",
    "NSrc_path = 'data/geemap/NotMorrison/'\n",
    "\n",
    "if not os.path.exists(MT_path):\n",
    "       os.makedirs(MT_path)\n",
    "if not os.path.exists(MV_path):\n",
    "       os.makedirs(MV_path)\n",
    "if not os.path.exists(NT_path):\n",
    "       os.makedirs(NT_path)\n",
    "if not os.path.exists(NV_path):\n",
    "       os.makedirs(NV_path)\n",
    "        \n",
    "for fn in Morrison_train:\n",
    "    fnm = fn+'.png'\n",
    "    shutil.copyfile(f'{MSrc_path}{fnm}', f'{MT_path}{fnm}')\n",
    "for fn in Morrison_val:\n",
    "    fnm = fn+'.png'\n",
    "    shutil.copyfile(f'{MSrc_path}{fnm}', f'{MV_path}{fnm}')\n",
    "        \n",
    "for fn in NotMorrison_train:\n",
    "    fnm = fn+'.png'\n",
    "    shutil.copyfile(f'{NSrc_path}{fnm}', f'{NT_path}{fnm}')\n",
    "for fn in NotMorrison_val:\n",
    "    fnm = fn+'.png'\n",
    "    shutil.copyfile(f'{NSrc_path}{fnm}', f'{NV_path}{fnm}')\n"
   ]
  },
  {
   "cell_type": "code",
   "execution_count": null,
   "id": "1ebd7fe9-b898-459a-89a5-43499a4e9799",
   "metadata": {},
   "outputs": [],
   "source": []
  },
  {
   "cell_type": "code",
   "execution_count": null,
   "id": "ed673585-7422-4a1e-959a-3cb5d7ac6582",
   "metadata": {},
   "outputs": [],
   "source": []
  },
  {
   "cell_type": "code",
   "execution_count": null,
   "id": "919e2bb7-a93a-412c-90a2-0059877f5168",
   "metadata": {},
   "outputs": [],
   "source": []
  },
  {
   "cell_type": "code",
   "execution_count": null,
   "id": "88284b66-70a6-4fe6-ae36-f723e3137edd",
   "metadata": {},
   "outputs": [],
   "source": []
  },
  {
   "cell_type": "code",
   "execution_count": null,
   "id": "8d4a5127-8f3c-4340-b2b5-d16ed6a0fad1",
   "metadata": {},
   "outputs": [],
   "source": [
    "print(\"Done!\")"
   ]
  }
 ],
 "metadata": {
  "kernelspec": {
   "display_name": "gee",
   "language": "python",
   "name": "gee"
  },
  "language_info": {
   "codemirror_mode": {
    "name": "ipython",
    "version": 3
   },
   "file_extension": ".py",
   "mimetype": "text/x-python",
   "name": "python",
   "nbconvert_exporter": "python",
   "pygments_lexer": "ipython3",
   "version": "3.9.16"
  }
 },
 "nbformat": 4,
 "nbformat_minor": 5
}
