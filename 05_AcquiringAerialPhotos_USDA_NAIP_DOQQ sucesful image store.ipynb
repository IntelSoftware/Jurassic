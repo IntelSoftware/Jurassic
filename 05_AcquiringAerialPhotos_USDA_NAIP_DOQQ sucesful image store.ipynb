{
 "cells": [
  {
   "cell_type": "code",
   "execution_count": 1,
   "id": "46779d17",
   "metadata": {},
   "outputs": [],
   "source": [
    "import geemap\n",
    "import ee\n",
    "import os\n",
    "import numpy as np"
   ]
  },
  {
   "cell_type": "code",
   "execution_count": 10,
   "id": "cf067861-5467-4e1e-b99e-190181f1071e",
   "metadata": {},
   "outputs": [
    {
     "data": {
      "text/html": [
       "\n",
       "            <style>\n",
       "                .geemap-dark {\n",
       "                    --jp-widgets-color: white;\n",
       "                    --jp-widgets-label-color: white;\n",
       "                    --jp-ui-font-color1: white;\n",
       "                    --jp-layout-color2: #454545;\n",
       "                    background-color: #383838;\n",
       "                }\n",
       "                    \n",
       "                .geemap-dark .jupyter-button {\n",
       "                    --jp-layout-color3: #383838;\n",
       "                }\n",
       "                \n",
       "                .geemap-colab {\n",
       "                    background-color: var(--colab-primary-surface-color, white);\n",
       "                }\n",
       "                    \n",
       "                .geemap-colab .jupyter-button {\n",
       "                    --jp-layout-color3: var(--colab-primary-surface-color, white);\n",
       "                }\n",
       "            </style>\n",
       "            "
      ],
      "text/plain": [
       "<IPython.core.display.HTML object>"
      ]
     },
     "metadata": {},
     "output_type": "display_data"
    },
    {
     "name": "stdout",
     "output_type": "stream",
     "text": [
      "Defaulting to user installation because normal site-packages is not writeable\n",
      "Requirement already satisfied: dask[complete] in /home/u9999ad7367849478acc6568ce06912b/.local/lib/python3.9/site-packages (2023.10.0)\n",
      "Requirement already satisfied: click>=8.0 in /home/u9999ad7367849478acc6568ce06912b/.local/lib/python3.9/site-packages (from dask[complete]) (8.1.7)\n",
      "Requirement already satisfied: cloudpickle>=1.5.0 in /home/u9999ad7367849478acc6568ce06912b/.local/lib/python3.9/site-packages (from dask[complete]) (2.2.1)\n",
      "Requirement already satisfied: fsspec>=2021.09.0 in /home/u9999ad7367849478acc6568ce06912b/.local/lib/python3.9/site-packages (from dask[complete]) (2023.9.2)\n",
      "Requirement already satisfied: packaging>=20.0 in /opt/intel/oneapi/intelpython/python3.9/lib/python3.9/site-packages (from dask[complete]) (23.1)\n",
      "Requirement already satisfied: partd>=1.2.0 in /home/u9999ad7367849478acc6568ce06912b/.local/lib/python3.9/site-packages (from dask[complete]) (1.4.1)\n",
      "Requirement already satisfied: pyyaml>=5.3.1 in /opt/intel/oneapi/intelpython/python3.9/lib/python3.9/site-packages (from dask[complete]) (6.0)\n",
      "Requirement already satisfied: toolz>=0.10.0 in /opt/intel/oneapi/intelpython/python3.9/lib/python3.9/site-packages (from dask[complete]) (0.12.0)\n",
      "Requirement already satisfied: importlib-metadata>=4.13.0 in /opt/intel/oneapi/intelpython/python3.9/lib/python3.9/site-packages (from dask[complete]) (6.0.0)\n",
      "Requirement already satisfied: pyarrow>=7.0 in /home/u9999ad7367849478acc6568ce06912b/.local/lib/python3.9/site-packages (from dask[complete]) (13.0.0)\n",
      "Requirement already satisfied: lz4>=4.3.2 in /home/u9999ad7367849478acc6568ce06912b/.local/lib/python3.9/site-packages (from dask[complete]) (4.3.2)\n",
      "Requirement already satisfied: zipp>=0.5 in /opt/intel/oneapi/intelpython/python3.9/lib/python3.9/site-packages (from importlib-metadata>=4.13.0->dask[complete]) (3.11.0)\n",
      "Requirement already satisfied: locket in /home/u9999ad7367849478acc6568ce06912b/.local/lib/python3.9/site-packages (from partd>=1.2.0->dask[complete]) (1.0.0)\n",
      "Requirement already satisfied: numpy>=1.16.6 in /opt/intel/oneapi/intelpython/python3.9/lib/python3.9/site-packages (from pyarrow>=7.0->dask[complete]) (1.24.3)\n",
      "Requirement already satisfied: bokeh>=2.4.2 in /home/u9999ad7367849478acc6568ce06912b/.local/lib/python3.9/site-packages (from dask[complete]) (3.3.0)\n",
      "Requirement already satisfied: jinja2>=2.10.3 in /home/u9999ad7367849478acc6568ce06912b/.local/lib/python3.9/site-packages (from dask[complete]) (3.1.2)\n",
      "Requirement already satisfied: distributed==2023.10.0 in /home/u9999ad7367849478acc6568ce06912b/.local/lib/python3.9/site-packages (from dask[complete]) (2023.10.0)\n",
      "Requirement already satisfied: pandas>=1.3 in /opt/intel/oneapi/intelpython/python3.9/lib/python3.9/site-packages (from dask[complete]) (2.0.3)\n",
      "Requirement already satisfied: msgpack>=1.0.0 in /home/u9999ad7367849478acc6568ce06912b/.local/lib/python3.9/site-packages (from distributed==2023.10.0->dask[complete]) (1.0.7)\n",
      "Requirement already satisfied: psutil>=5.7.2 in /opt/intel/oneapi/intelpython/python3.9/lib/python3.9/site-packages (from distributed==2023.10.0->dask[complete]) (5.9.0)\n",
      "Requirement already satisfied: sortedcontainers>=2.0.5 in /home/u9999ad7367849478acc6568ce06912b/.local/lib/python3.9/site-packages (from distributed==2023.10.0->dask[complete]) (2.4.0)\n",
      "Requirement already satisfied: tblib>=1.6.0 in /home/u9999ad7367849478acc6568ce06912b/.local/lib/python3.9/site-packages (from distributed==2023.10.0->dask[complete]) (2.0.0)\n",
      "Requirement already satisfied: tornado>=6.0.4 in /opt/intel/oneapi/intelpython/python3.9/lib/python3.9/site-packages (from distributed==2023.10.0->dask[complete]) (6.3.2)\n",
      "Requirement already satisfied: urllib3>=1.24.3 in /opt/intel/oneapi/intelpython/python3.9/lib/python3.9/site-packages (from distributed==2023.10.0->dask[complete]) (2.0.3)\n",
      "Requirement already satisfied: zict>=3.0.0 in /home/u9999ad7367849478acc6568ce06912b/.local/lib/python3.9/site-packages (from distributed==2023.10.0->dask[complete]) (3.0.0)\n",
      "Requirement already satisfied: contourpy>=1 in /opt/intel/oneapi/intelpython/python3.9/lib/python3.9/site-packages (from bokeh>=2.4.2->dask[complete]) (1.0.5)\n",
      "Requirement already satisfied: pillow>=7.1.0 in /opt/intel/oneapi/intelpython/python3.9/lib/python3.9/site-packages (from bokeh>=2.4.2->dask[complete]) (10.0.0)\n",
      "Requirement already satisfied: xyzservices>=2021.09.1 in /home/u9999ad7367849478acc6568ce06912b/.local/lib/python3.9/site-packages (from bokeh>=2.4.2->dask[complete]) (2023.10.0)\n",
      "Requirement already satisfied: MarkupSafe>=2.0 in /home/u9999ad7367849478acc6568ce06912b/.local/lib/python3.9/site-packages (from jinja2>=2.10.3->dask[complete]) (2.1.3)\n",
      "Requirement already satisfied: python-dateutil>=2.8.2 in /opt/intel/oneapi/intelpython/python3.9/lib/python3.9/site-packages (from pandas>=1.3->dask[complete]) (2.8.2)\n",
      "Requirement already satisfied: pytz>=2020.1 in /opt/intel/oneapi/intelpython/python3.9/lib/python3.9/site-packages (from pandas>=1.3->dask[complete]) (2023.3)\n",
      "Requirement already satisfied: tzdata>=2022.1 in /opt/intel/oneapi/intelpython/python3.9/lib/python3.9/site-packages (from pandas>=1.3->dask[complete]) (2023.3)\n",
      "Requirement already satisfied: six>=1.5 in /opt/intel/oneapi/intelpython/python3.9/lib/python3.9/site-packages (from python-dateutil>=2.8.2->pandas>=1.3->dask[complete]) (1.16.0)\n"
     ]
    }
   ],
   "source": [
    "#!python -m pip install geemap\n",
    "!export PATH=\"/home/u9999ad7367849478acc6568ce06912b/.local/bin:$PATH\"\n",
    "!python -m pip install dask[complete]"
   ]
  },
  {
   "cell_type": "code",
   "execution_count": 4,
   "id": "a2ae6010-9090-4d38-b87a-aa02da4d958e",
   "metadata": {},
   "outputs": [
    {
     "data": {
      "text/html": [
       "\n",
       "            <style>\n",
       "                .geemap-dark {\n",
       "                    --jp-widgets-color: white;\n",
       "                    --jp-widgets-label-color: white;\n",
       "                    --jp-ui-font-color1: white;\n",
       "                    --jp-layout-color2: #454545;\n",
       "                    background-color: #383838;\n",
       "                }\n",
       "                    \n",
       "                .geemap-dark .jupyter-button {\n",
       "                    --jp-layout-color3: #383838;\n",
       "                }\n",
       "                \n",
       "                .geemap-colab {\n",
       "                    background-color: var(--colab-primary-surface-color, white);\n",
       "                }\n",
       "                    \n",
       "                .geemap-colab .jupyter-button {\n",
       "                    --jp-layout-color3: var(--colab-primary-surface-color, white);\n",
       "                }\n",
       "            </style>\n",
       "            "
      ],
      "text/plain": [
       "<IPython.core.display.HTML object>"
      ]
     },
     "metadata": {},
     "output_type": "display_data"
    }
   ],
   "source": [
    "#ee.Authenticate()"
   ]
  },
  {
   "cell_type": "markdown",
   "id": "a8f419db-bfec-420c-9b0c-b7c868f03e43",
   "metadata": {},
   "source": [
    "# Define Functions to Retrive, Display, and Save Images"
   ]
  },
  {
   "cell_type": "code",
   "execution_count": 6,
   "id": "bb9e99b4-11d9-4f55-bb2e-0109f23d485b",
   "metadata": {},
   "outputs": [
    {
     "data": {
      "text/html": [
       "\n",
       "            <style>\n",
       "                .geemap-dark {\n",
       "                    --jp-widgets-color: white;\n",
       "                    --jp-widgets-label-color: white;\n",
       "                    --jp-ui-font-color1: white;\n",
       "                    --jp-layout-color2: #454545;\n",
       "                    background-color: #383838;\n",
       "                }\n",
       "                    \n",
       "                .geemap-dark .jupyter-button {\n",
       "                    --jp-layout-color3: #383838;\n",
       "                }\n",
       "                \n",
       "                .geemap-colab {\n",
       "                    background-color: var(--colab-primary-surface-color, white);\n",
       "                }\n",
       "                    \n",
       "                .geemap-colab .jupyter-button {\n",
       "                    --jp-layout-color3: var(--colab-primary-surface-color, white);\n",
       "                }\n",
       "            </style>\n",
       "            "
      ],
      "text/plain": [
       "<IPython.core.display.HTML object>"
      ]
     },
     "metadata": {},
     "output_type": "display_data"
    }
   ],
   "source": [
    "def RetrieveNAIPimage(lat, long, deltalr = 0.00165, deltaud = 0.00135, date1 = '2018-01-01', date2 = '2020-12-31'):\n",
    "    region = ee.Geometry.BBox(long- deltalr, lat - deltaud, long + deltalr, lat + deltaud)\n",
    "    dataset = ee.ImageCollection('USDA/NAIP/DOQQ').filter(ee.Filter.date(date1, date2) ).filter(ee.Filter.bounds(region))\n",
    "    return dataset\n",
    "\n",
    "def DisplayMap(dataset, lat, long, verbose = True, deltalr = 0.00165, deltaud = 0.00135, zoom = 18):  \n",
    "    image = dataset.first()\n",
    "    trueColor = dataset.select(['R', 'G', 'B'])\n",
    "    trueColorVis = {\n",
    "      min: 50,\n",
    "      max: 240,\n",
    "    }\n",
    "    if verbose:\n",
    "        display(\"images found \",dataset.size())\n",
    "        print(geemap.image_props(image).getInfo())\n",
    "        print(geemap.image_stats(image, scale=18).getInfo())\n",
    "        display(image.geometry().getInfo())\n",
    "    region = ee.Geometry.BBox(long- deltalr, lat - deltaud, long + deltalr, lat + deltaud)\n",
    "    regionDebug = ee.Geometry.Polygon(image.getInfo()['properties']['system:footprint']['coordinates'])\n",
    "    Map = geemap.Map(center=(lat, long), zoom=18)\n",
    "    Map.addLayer(trueColor, trueColorVis, 'True Color');\n",
    "    Map.addLayer(region, {'color': 'red'}, '500x500 Image Selected')\n",
    "    Map.addLayer(regionDebug, {'color': 'green'}, 'NAIP Image Boundary')\n",
    "    #Map.setOptions('SATELLITE');\n",
    "    image = dataset.first()\n",
    "\n",
    "    return Map\n",
    "\n",
    "def SaveNAIPimage(image ,lat, long, folder, filename, verbose = True, deltalr = 0.00165, deltaud = 0.00135):\n",
    "    from PIL import Image\n",
    "    import numpy as np\n",
    "    fileError.append((folder,filename, lat, long))\n",
    "    fileTried.append((folder,filename, lat, long, False))\n",
    "    try:\n",
    "        region = ee.Geometry.BBox(long - deltalr, lat - deltaud, long + deltalr, lat + deltaud)\n",
    "        rgb_img = geemap.ee_to_numpy(image, bands=['R', 'G', 'B'], region=region)\n",
    "\n",
    "#         rgb_img[:,2] = rgb_img[:,2] \n",
    "#         rgb_img[:,1] = rgb_img[:,1] \n",
    "       \n",
    "        if verbose:\n",
    "            print(rgb_img.shape)\n",
    "            print(image.getInfo()['properties']['system:footprint']['coordinates'])\n",
    "        PIL_image = Image.fromarray(np.uint8(rgb_img)).convert('RGB')\n",
    "        # Setting the points for cropped image\n",
    "        left = 9\n",
    "        top = 0 \n",
    "        right = 500\n",
    "        bottom = 500\n",
    "         \n",
    "        # Cropped image of above dimension\n",
    "        # (It will not change original image)\n",
    "        PIL_image = PIL_image.crop((left, top, right, bottom))\n",
    "             \n",
    "        PIL_image.save(f\"{folder}/{filename}.png\")\n",
    "        fileError.remove((folder,filename, lat, long))\n",
    "        fileTried.remove((folder,filename, lat, long, False))\n",
    "        fileTried.append((folder,filename, lat, long, True))\n",
    "    except:\n",
    "        print(f'{(folder,filename, lat, long)}\\nThere was a problem:\\nLikely the requested image lies outside or overlaps two NAIP images\\nOR deltalr and deltaud may be too large for this coordinate - try reducing - the request image is too large' )"
   ]
  },
  {
   "cell_type": "code",
   "execution_count": 7,
   "id": "1967bc0c-94c8-4b2e-9029-bad444d8e047",
   "metadata": {},
   "outputs": [
    {
     "data": {
      "text/html": [
       "\n",
       "            <style>\n",
       "                .geemap-dark {\n",
       "                    --jp-widgets-color: white;\n",
       "                    --jp-widgets-label-color: white;\n",
       "                    --jp-ui-font-color1: white;\n",
       "                    --jp-layout-color2: #454545;\n",
       "                    background-color: #383838;\n",
       "                }\n",
       "                    \n",
       "                .geemap-dark .jupyter-button {\n",
       "                    --jp-layout-color3: #383838;\n",
       "                }\n",
       "                \n",
       "                .geemap-colab {\n",
       "                    background-color: var(--colab-primary-surface-color, white);\n",
       "                }\n",
       "                    \n",
       "                .geemap-colab .jupyter-button {\n",
       "                    --jp-layout-color3: var(--colab-primary-surface-color, white);\n",
       "                }\n",
       "            </style>\n",
       "            "
      ],
      "text/plain": [
       "<IPython.core.display.HTML object>"
      ]
     },
     "metadata": {},
     "output_type": "display_data"
    }
   ],
   "source": [
    "# from PIL import Image \n",
    "# im = Image.open(\"Downloads/Morrison/151swe1.png\")\n",
    "# width, height = im.size\n",
    "# print(width, height)\n",
    "# # Setting the points for cropped image\n",
    "# left = 9\n",
    "# top = 0 \n",
    "# right = width\n",
    "# bottom = 500\n",
    " \n",
    "# # Cropped image of above dimension\n",
    "# # (It will not change original image)\n",
    "# im1 = im.crop((left, top, right, bottom))\n",
    "# im1"
   ]
  },
  {
   "cell_type": "markdown",
   "id": "96f4f572-021c-4bfc-9bf5-cafad0b16306",
   "metadata": {},
   "source": [
    "# Display Map\n",
    "\n",
    "Red region is area to be saved"
   ]
  },
  {
   "cell_type": "code",
   "execution_count": 8,
   "id": "a978bfdc",
   "metadata": {
    "ExecuteTime": {
     "end_time": "2023-06-16T17:14:18.042562Z",
     "start_time": "2023-06-16T17:14:13.012269Z"
    },
    "scrolled": true,
    "tags": []
   },
   "outputs": [
    {
     "data": {
      "text/html": [
       "\n",
       "            <style>\n",
       "                .geemap-dark {\n",
       "                    --jp-widgets-color: white;\n",
       "                    --jp-widgets-label-color: white;\n",
       "                    --jp-ui-font-color1: white;\n",
       "                    --jp-layout-color2: #454545;\n",
       "                    background-color: #383838;\n",
       "                }\n",
       "                    \n",
       "                .geemap-dark .jupyter-button {\n",
       "                    --jp-layout-color3: #383838;\n",
       "                }\n",
       "                \n",
       "                .geemap-colab {\n",
       "                    background-color: var(--colab-primary-surface-color, white);\n",
       "                }\n",
       "                    \n",
       "                .geemap-colab .jupyter-button {\n",
       "                    --jp-layout-color3: var(--colab-primary-surface-color, white);\n",
       "                }\n",
       "            </style>\n",
       "            "
      ],
      "text/plain": [
       "<IPython.core.display.HTML object>"
      ]
     },
     "metadata": {},
     "output_type": "display_data"
    },
    {
     "data": {
      "text/plain": [
       "'images found '"
      ]
     },
     "metadata": {},
     "output_type": "display_data"
    },
    {
     "data": {
      "text/html": [
       "<div><style>:root {\n",
       "  --font-color-primary: var(--jp-content-font-color0, rgba(0, 0, 0, 1));\n",
       "  --font-color-secondary: var(--jp-content-font-color2, rgba(0, 0, 0, 0.6));\n",
       "  --font-color-accent: rgba(123, 31, 162, 1);\n",
       "  --border-color: var(--jp-border-color2, #e0e0e0);\n",
       "  --background-color: var(--jp-layout-color0, white);\n",
       "  --background-color-row-even: var(--jp-layout-color1, white);\n",
       "  --background-color-row-odd: var(--jp-layout-color2, #eeeeee);\n",
       "}\n",
       "\n",
       "html[theme=\"dark\"],\n",
       "body[data-theme=\"dark\"],\n",
       "body.vscode-dark {\n",
       "  --font-color-primary: rgba(255, 255, 255, 1);\n",
       "  --font-color-secondary: rgba(255, 255, 255, 0.6);\n",
       "  --font-color-accent: rgb(173, 132, 190);\n",
       "  --border-color: #2e2e2e;\n",
       "  --background-color: #111111;\n",
       "  --background-color-row-even: #111111;\n",
       "  --background-color-row-odd: #313131;\n",
       "}\n",
       "\n",
       ".ee {\n",
       "  padding: 1em;\n",
       "  line-height: 1.5em;\n",
       "  min-width: 300px;\n",
       "  max-width: 1200px;\n",
       "  overflow-y: scroll;\n",
       "  max-height: 600px;\n",
       "  border: 1px solid var(--border-color);\n",
       "  font-family: monospace;\n",
       "}\n",
       "\n",
       ".ee li {\n",
       "  list-style-type: none;\n",
       "}\n",
       "\n",
       ".ee ul {\n",
       "  padding-left: 1.5em !important;\n",
       "  margin: 0;\n",
       "}\n",
       "\n",
       ".ee > ul {\n",
       "  padding-left: 0 !important;\n",
       "}\n",
       "\n",
       ".ee-open,\n",
       ".ee-shut {\n",
       "  color: var(--font-color-secondary);\n",
       "  cursor: pointer;\n",
       "  margin: 0;\n",
       "}\n",
       "\n",
       ".ee-open:hover,\n",
       ".ee-shut:hover {\n",
       "  color: var(--font-color-primary);\n",
       "}\n",
       "\n",
       ".ee-k {\n",
       "  color: var(--font-color-accent);\n",
       "  margin-right: 6px;\n",
       "}\n",
       "\n",
       ".ee-v {\n",
       "  color: var(--font-color-primary);\n",
       "}\n",
       "\n",
       ".ee-toggle {\n",
       "  display: none;\n",
       "}\n",
       "\n",
       ".ee-shut + ul {\n",
       "  display: none;\n",
       "}\n",
       "\n",
       ".ee-open + ul {\n",
       "  display: block;\n",
       "}\n",
       "\n",
       ".ee-shut::before {\n",
       "  display: inline-block;\n",
       "  content: \"▼\";\n",
       "  margin-right: 6px;\n",
       "  transform: rotate(-90deg);\n",
       "  transition: transform 0.2s;\n",
       "}\n",
       "\n",
       ".ee-open::before {\n",
       "  transform: rotate(0deg);\n",
       "  display: inline-block;\n",
       "  content: \"▼\";\n",
       "  margin-right: 6px;\n",
       "  transition: transform 0.2s;\n",
       "}\n",
       "</style><div class='ee'><ul><li><span class='ee-v'>2</span></li></ul></div><script>function toggleHeader() {\n",
       "    const parent = this.parentElement;\n",
       "    parent.className = parent.className === \"ee-open\" ? \"ee-shut\" : \"ee-open\";\n",
       "}\n",
       "\n",
       "for (let c of document.getElementsByClassName(\"ee-toggle\")) {\n",
       "    c.onclick = toggleHeader;\n",
       "}</script></div>"
      ],
      "text/plain": [
       "<ee.ee_number.Number at 0x14fac75db850>"
      ]
     },
     "metadata": {},
     "output_type": "display_data"
    },
    {
     "name": "stdout",
     "output_type": "stream",
     "text": [
      "{'IMAGE_DATE': '2018-09-10', 'NOMINAL_SCALE': 0.6, 'system:asset_size': '492.969715 MB', 'system:band_names': ['R', 'G', 'B', 'N'], 'system:id': 'USDA/NAIP/DOQQ/m_4010938_ne_12_060_20180910', 'system:index': 'm_4010938_ne_12_060_20180910', 'system:time_end': '2018-09-10 00:00:00', 'system:time_start': '2018-09-10 00:00:00', 'system:version': 1584779809150912}\n",
      "{'max': {'B': 203, 'G': 206, 'N': 210, 'R': 207}, 'mean': {'B': 102.3803745795375, 'G': 121.16032230906237, 'N': 175.5390434501865, 'R': 128.88745358421403}, 'min': {'B': 35, 'G': 31, 'N': 31, 'R': 26}, 'std': {'B': 28.071456177398634, 'G': 30.819411461475234, 'N': 23.146170546525116, 'R': 33.46353217341902}, 'sum': {'B': 13313702.098039199, 'G': 15755875.517647048, 'N': 22827368.43529431, 'R': 16760723.607843162}}\n"
     ]
    },
    {
     "data": {
      "text/plain": [
       "{'type': 'Polygon',\n",
       " 'coordinates': [[[-109.24831419354732, 40.43517348919539],\n",
       "   [-109.24831410280427, 40.435174179219196],\n",
       "   [-109.24659370860434, 40.501338191977624],\n",
       "   [-109.2465965216283, 40.5013407008658],\n",
       "   [-109.24659888093875, 40.50134351253056],\n",
       "   [-109.24660006059396, 40.50134368336769],\n",
       "   [-109.3142308612582, 40.50235027449777],\n",
       "   [-109.3142342192214, 40.50234812192214],\n",
       "   [-109.31423784945191, 40.50234629635841],\n",
       "   [-109.31423803096345, 40.502345666323585],\n",
       "   [-109.31423812171921, 40.5023449771696],\n",
       "   [-109.3158922391268, 40.43617860998536],\n",
       "   [-109.31588942568838, 40.4361761003902],\n",
       "   [-109.31588697527431, 40.43617330324803],\n",
       "   [-109.3158858862014, 40.436173117142665],\n",
       "   [-109.24832136224792, 40.43516888154977],\n",
       "   [-109.2483180047552, 40.435171033870105],\n",
       "   [-109.2483143750334, 40.43517278352931],\n",
       "   [-109.24831419354732, 40.43517348919539]]]}"
      ]
     },
     "metadata": {},
     "output_type": "display_data"
    },
    {
     "data": {
      "application/vnd.jupyter.widget-view+json": {
       "model_id": "343bbc11e1b5421ab43635f24eafab0a",
       "version_major": 2,
       "version_minor": 0
      },
      "text/plain": [
       "Map(center=[40.44057649432536, -109.30146919370144], controls=(WidgetControl(options=['position', 'transparent…"
      ]
     },
     "execution_count": 8,
     "metadata": {},
     "output_type": "execute_result"
    }
   ],
   "source": [
    "import geemap\n",
    "import ee\n",
    "import os\n",
    "# If it is not yet authenticated, uncomment the line below\n",
    "# ee.Authenticate()\n",
    "\n",
    "ee.Initialize()\n",
    "\n",
    "long, lat = -106.922, 35.5123  # MM good\n",
    "long, lat = -109.30146919370144, 40.44057649432536 # DNM\n",
    "\n",
    "\n",
    "dataset = RetrieveNAIPimage(lat, long)\n",
    "Map = DisplayMap(dataset, lat, long, verbose = True, zoom = 18)\n",
    "Map"
   ]
  },
  {
   "cell_type": "markdown",
   "id": "ef1e03b2-9b09-4129-a8ab-ac5b1cf367e9",
   "metadata": {},
   "source": [
    "# Find name of larger maps from NAIP\n",
    "\n",
    "Yrun Verbosity to True to see more iamge stats:\n",
    "- near Dinosaur National Monument we find the NAIP image depicted by the green boundary in the map above.\n",
    "- m_4010938_ne_12_060_20180910. \n",
    "\n",
    "I use USGS Earth Explorer to easily grab that map"
   ]
  },
  {
   "cell_type": "markdown",
   "id": "fd195068-099d-4148-973d-5e21e726f086",
   "metadata": {},
   "source": [
    "# Images from NAIP: Public Domain\n",
    "\n",
    "https://data.nal.usda.gov/dataset/naip-digital-ortho-photo-image-geospatialdatapresentationform-remote-sensing-image"
   ]
  },
  {
   "cell_type": "code",
   "execution_count": 17,
   "id": "da3e9e44-5e5c-4a3d-934b-e33bb2fef7a1",
   "metadata": {},
   "outputs": [
    {
     "data": {
      "text/html": [
       "\n",
       "            <style>\n",
       "                .geemap-dark {\n",
       "                    --jp-widgets-color: white;\n",
       "                    --jp-widgets-label-color: white;\n",
       "                    --jp-ui-font-color1: white;\n",
       "                    --jp-layout-color2: #454545;\n",
       "                    background-color: #383838;\n",
       "                }\n",
       "                    \n",
       "                .geemap-dark .jupyter-button {\n",
       "                    --jp-layout-color3: #383838;\n",
       "                }\n",
       "                \n",
       "                .geemap-colab {\n",
       "                    background-color: var(--colab-primary-surface-color, white);\n",
       "                }\n",
       "                    \n",
       "                .geemap-colab .jupyter-button {\n",
       "                    --jp-layout-color3: var(--colab-primary-surface-color, white);\n",
       "                }\n",
       "            </style>\n",
       "            "
      ],
      "text/plain": [
       "<IPython.core.display.HTML object>"
      ]
     },
     "metadata": {},
     "output_type": "display_data"
    },
    {
     "data": {
      "text/plain": [
       "'<p>The National Agriculture Imagery Program (NAIP) acquires aerial imagery\\nduring the agricultural growing seasons in the continental U.S.</p><p>NAIP projects are contracted each year based upon available funding and the\\nimagery acquisition cycle. Beginning in 2003, NAIP was acquired on\\na 5-year cycle. 2008 was a transition year, and a three-year cycle began\\nin 2009.</p><p>NAIP imagery is acquired at a one-meter ground sample distance (GSD) with a\\nhorizontal accuracy that matches within six meters of photo-identifiable\\nground control points, which are used during image inspection.</p><p>Older images were collected using 3 bands (Red, Green, and Blue: RGB), but\\nnewer imagery is usually collected with an additional near-infrared band\\n(RGBN). RGB asset ids begin with &#39;n<em>&#39;, NRG asset ids begin with &#39;c</em>&#39;, RGBN\\nasset ids begin with &#39;m_&#39;.</p><p><b>Provider: <a href=\"https://www.fsa.usda.gov/programs-and-services/aerial-photography/imagery-programs/naip-imagery/\">USDA Farm Production and Conservation - Business Center, Geospatial Enterprise Operations</a></b><br><p><b>Resolution</b><br>1 meter\\n</p><p><b>Bands</b><table class=\"eecat\"><tr><th scope=\"col\">Name</th><th scope=\"col\">Description</th></tr><tr><td>R</td><td><p>Red</p></td></tr><tr><td>G</td><td><p>Green</p></td></tr><tr><td>B</td><td><p>Blue</p></td></tr><tr><td>N</td><td><p>Near infrared</p></td></tr></table><p><b>Terms of Use</b><br><p>Most information presented on the FSA Web site is considered public domain\\ninformation. Public domain information may be freely distributed or copied,\\nbut use of appropriate byline/photo/image credits is requested. For more\\ninformation visit the <a href=\"https://www.fsa.usda.gov/help/policies-and-links\">FSA Policies and Links</a>\\nwebsite.</p><p>Users should acknowledge USDA Farm Production and Conservation -\\nBusiness Center, Geospatial Enterprise Operations when using or\\ndistributing this data set.</p><p><b>Suggested citation(s)</b><ul><li><p>USDA Farm Production and Conservation - Business Center, Geospatial Enterprise Operations</p></li></ul><style>\\n  table.eecat {\\n  border: 1px solid black;\\n  border-collapse: collapse;\\n  font-size: 13px;\\n  }\\n  table.eecat td, tr, th {\\n  text-align: left; vertical-align: top;\\n  border: 1px solid gray; padding: 3px;\\n  }\\n  td.nobreak { white-space: nowrap; }\\n</style>'"
      ]
     },
     "execution_count": 17,
     "metadata": {},
     "output_type": "execute_result"
    }
   ],
   "source": [
    "dataset.getInfo()['properties']['description']"
   ]
  },
  {
   "cell_type": "code",
   "execution_count": 18,
   "id": "eb52fa8c-c45b-4eba-abfd-bb2b330723ea",
   "metadata": {},
   "outputs": [
    {
     "data": {
      "text/html": [
       "\n",
       "            <style>\n",
       "                .geemap-dark {\n",
       "                    --jp-widgets-color: white;\n",
       "                    --jp-widgets-label-color: white;\n",
       "                    --jp-ui-font-color1: white;\n",
       "                    --jp-layout-color2: #454545;\n",
       "                    background-color: #383838;\n",
       "                }\n",
       "                    \n",
       "                .geemap-dark .jupyter-button {\n",
       "                    --jp-layout-color3: #383838;\n",
       "                }\n",
       "                \n",
       "                .geemap-colab {\n",
       "                    background-color: var(--colab-primary-surface-color, white);\n",
       "                }\n",
       "                    \n",
       "                .geemap-colab .jupyter-button {\n",
       "                    --jp-layout-color3: var(--colab-primary-surface-color, white);\n",
       "                }\n",
       "            </style>\n",
       "            "
      ],
      "text/plain": [
       "<IPython.core.display.HTML object>"
      ]
     },
     "metadata": {},
     "output_type": "display_data"
    }
   ],
   "source": [
    "# Debug\n",
    "from PIL import Image\n",
    "import numpy as np\n",
    "\n",
    "dataset = RetrieveNAIPimage(lat, long)\n",
    "image = dataset.first()\n",
    "# folder = 'Downloads/NotMorrison'\n",
    "# filename = 'bob'\n",
    "# verbose = False\n",
    "deltalr = 0.00164\n",
    "deltaud = 0.00134\n",
    "region = ee.Geometry.BBox(long - deltalr, lat - deltaud, long + deltalr, lat + deltaud)\n",
    "rgb_img = geemap.ee_to_numpy(image, bands=['R', 'G', 'B'], region=region)\n",
    "\n",
    "# region = ee.Geometry.BBox(long - deltalr, lat - deltaud, long + deltalr, lat + deltaud)\n",
    "# rgb_img = geemap.ee_to_numpy(image, bands=['R', 'G', 'B'], region=region)\n",
    "\n",
    "# rgb_img[:,2] = rgb_img[:,2] \n",
    "# rgb_img[:,1] = rgb_img[:,1] \n",
    "\n",
    "# if verbose:\n",
    "#     print(rgb_img.shape)\n",
    "#     print(image.getInfo()['properties']['system:footprint']['coordinates'])\n",
    "# PIL_image = Image.fromarray(np.uint8(rgb_img)).convert('RGB')\n",
    "# # Setting the points for cropped image\n",
    "# left = 9\n",
    "# top = 0 \n",
    "# right = 500\n",
    "# bottom = 500\n",
    " \n",
    "# # Cropped image of above dimension\n",
    "# # (It will not change original image)\n",
    "# PIL_image = PIL_image.crop((left, top, right, bottom))\n",
    "     \n",
    "# PIL_image.save(f\"{folder}/{filename}.png\")"
   ]
  },
  {
   "cell_type": "markdown",
   "id": "83fa59c8-11b6-480e-a309-4070cf36a501",
   "metadata": {},
   "source": [
    "# Save Image\n",
    "\n",
    "Must reduce dataset down to a single image via filtering and perhaps median aggregation\n"
   ]
  },
  {
   "cell_type": "code",
   "execution_count": null,
   "id": "bdc3b309-f2f8-45a1-9efc-0769d6383481",
   "metadata": {},
   "outputs": [],
   "source": [
    "# from PIL import Image\n",
    "# import numpy as np\n",
    "# fileError = []\n",
    "# fileTried = []\n",
    "# dataset = RetrieveNAIPimage(lat, long)\n",
    "# image = dataset.first()\n",
    "# folder = 'Downloads/NotMorrison'\n",
    "# filename = 'bob'\n",
    "# SaveNAIPimage(image, lat, long, folder, filename, verbose = False)\n"
   ]
  },
  {
   "cell_type": "code",
   "execution_count": null,
   "id": "4c67ef10-1fe6-443c-a58a-55e0037709b4",
   "metadata": {},
   "outputs": [],
   "source": []
  },
  {
   "cell_type": "code",
   "execution_count": null,
   "id": "acebc92d-975b-41b2-88f6-34a3a74c5ab0",
   "metadata": {},
   "outputs": [],
   "source": []
  },
  {
   "cell_type": "markdown",
   "id": "27acb435-545a-41c7-8706-f6e6ea5c0188",
   "metadata": {},
   "source": [
    "# Get Coordinates of Region of interest"
   ]
  },
  {
   "cell_type": "code",
   "execution_count": 19,
   "id": "766857bb-a16b-4275-84cd-fd55fa642043",
   "metadata": {},
   "outputs": [
    {
     "data": {
      "text/html": [
       "\n",
       "            <style>\n",
       "                .geemap-dark {\n",
       "                    --jp-widgets-color: white;\n",
       "                    --jp-widgets-label-color: white;\n",
       "                    --jp-ui-font-color1: white;\n",
       "                    --jp-layout-color2: #454545;\n",
       "                    background-color: #383838;\n",
       "                }\n",
       "                    \n",
       "                .geemap-dark .jupyter-button {\n",
       "                    --jp-layout-color3: #383838;\n",
       "                }\n",
       "                \n",
       "                .geemap-colab {\n",
       "                    background-color: var(--colab-primary-surface-color, white);\n",
       "                }\n",
       "                    \n",
       "                .geemap-colab .jupyter-button {\n",
       "                    --jp-layout-color3: var(--colab-primary-surface-color, white);\n",
       "                }\n",
       "            </style>\n",
       "            "
      ],
      "text/plain": [
       "<IPython.core.display.HTML object>"
      ]
     },
     "metadata": {},
     "output_type": "display_data"
    },
    {
     "data": {
      "text/plain": [
       "[[-109.24831419354732, 40.43517348919539],\n",
       " [-109.24831410280427, 40.435174179219196],\n",
       " [-109.24659370860434, 40.501338191977624],\n",
       " [-109.2465965216283, 40.5013407008658],\n",
       " [-109.24659888093875, 40.50134351253056],\n",
       " [-109.24660006059396, 40.50134368336769],\n",
       " [-109.3142308612582, 40.50235027449777],\n",
       " [-109.3142342192214, 40.50234812192214],\n",
       " [-109.31423784945191, 40.50234629635841],\n",
       " [-109.31423803096345, 40.502345666323585],\n",
       " [-109.31423812171921, 40.5023449771696],\n",
       " [-109.3158922391268, 40.43617860998536],\n",
       " [-109.31588942568838, 40.4361761003902],\n",
       " [-109.31588697527431, 40.43617330324803],\n",
       " [-109.3158858862014, 40.436173117142665],\n",
       " [-109.24832136224792, 40.43516888154977],\n",
       " [-109.2483180047552, 40.435171033870105],\n",
       " [-109.2483143750334, 40.43517278352931],\n",
       " [-109.24831419354732, 40.43517348919539]]"
      ]
     },
     "execution_count": 19,
     "metadata": {},
     "output_type": "execute_result"
    }
   ],
   "source": [
    "#ee.Geometry.Polygon(image.getInfo()['properties']['system:footprint']['coordinates'])\n",
    "image.getInfo()['properties']['system:footprint']['coordinates']"
   ]
  },
  {
   "cell_type": "code",
   "execution_count": 28,
   "id": "fcaa90d6-92ea-4ef9-9fa8-d23af53170bb",
   "metadata": {},
   "outputs": [
    {
     "data": {
      "text/html": [
       "\n",
       "            <style>\n",
       "                .geemap-dark {\n",
       "                    --jp-widgets-color: white;\n",
       "                    --jp-widgets-label-color: white;\n",
       "                    --jp-ui-font-color1: white;\n",
       "                    --jp-layout-color2: #454545;\n",
       "                    background-color: #383838;\n",
       "                }\n",
       "                    \n",
       "                .geemap-dark .jupyter-button {\n",
       "                    --jp-layout-color3: #383838;\n",
       "                }\n",
       "                \n",
       "                .geemap-colab {\n",
       "                    background-color: var(--colab-primary-surface-color, white);\n",
       "                }\n",
       "                    \n",
       "                .geemap-colab .jupyter-button {\n",
       "                    --jp-layout-color3: var(--colab-primary-surface-color, white);\n",
       "                }\n",
       "            </style>\n",
       "            "
      ],
      "text/plain": [
       "<IPython.core.display.HTML object>"
      ]
     },
     "metadata": {},
     "output_type": "display_data"
    },
    {
     "data": {
      "text/plain": [
       "367"
      ]
     },
     "execution_count": 28,
     "metadata": {},
     "output_type": "execute_result"
    }
   ],
   "source": [
    "import pandas as pd\n",
    "import time\n",
    "time.time()\n",
    "SampleTheseCoords = pd.read_csv('SampleTheseCoordsEdited.csv')\n",
    "arr = SampleTheseCoords.to_numpy()\n",
    "N = arr.shape[0]\n",
    "N"
   ]
  },
  {
   "cell_type": "code",
   "execution_count": 21,
   "id": "49b4789c-3437-4ae7-bb6d-856adc445052",
   "metadata": {},
   "outputs": [
    {
     "data": {
      "text/html": [
       "\n",
       "            <style>\n",
       "                .geemap-dark {\n",
       "                    --jp-widgets-color: white;\n",
       "                    --jp-widgets-label-color: white;\n",
       "                    --jp-ui-font-color1: white;\n",
       "                    --jp-layout-color2: #454545;\n",
       "                    background-color: #383838;\n",
       "                }\n",
       "                    \n",
       "                .geemap-dark .jupyter-button {\n",
       "                    --jp-layout-color3: #383838;\n",
       "                }\n",
       "                \n",
       "                .geemap-colab {\n",
       "                    background-color: var(--colab-primary-surface-color, white);\n",
       "                }\n",
       "                    \n",
       "                .geemap-colab .jupyter-button {\n",
       "                    --jp-layout-color3: var(--colab-primary-surface-color, white);\n",
       "                }\n",
       "            </style>\n",
       "            "
      ],
      "text/plain": [
       "<IPython.core.display.HTML object>"
      ]
     },
     "metadata": {},
     "output_type": "display_data"
    },
    {
     "data": {
      "text/html": [
       "<div>\n",
       "<style scoped>\n",
       "    .dataframe tbody tr th:only-of-type {\n",
       "        vertical-align: middle;\n",
       "    }\n",
       "\n",
       "    .dataframe tbody tr th {\n",
       "        vertical-align: top;\n",
       "    }\n",
       "\n",
       "    .dataframe thead th {\n",
       "        text-align: right;\n",
       "    }\n",
       "</style>\n",
       "<table border=\"1\" class=\"dataframe\">\n",
       "  <thead>\n",
       "    <tr style=\"text-align: right;\">\n",
       "      <th></th>\n",
       "      <th>Folder</th>\n",
       "      <th>Filename</th>\n",
       "      <th>Longitude</th>\n",
       "      <th>Latitude</th>\n",
       "    </tr>\n",
       "  </thead>\n",
       "  <tbody>\n",
       "    <tr>\n",
       "      <th>0</th>\n",
       "      <td>NotMorrison</td>\n",
       "      <td>Untitled Placemark</td>\n",
       "      <td>-124.336376</td>\n",
       "      <td>40.262478</td>\n",
       "    </tr>\n",
       "    <tr>\n",
       "      <th>1</th>\n",
       "      <td>NotMorrison</td>\n",
       "      <td>Untitled Placemark</td>\n",
       "      <td>-124.237530</td>\n",
       "      <td>40.293367</td>\n",
       "    </tr>\n",
       "    <tr>\n",
       "      <th>2</th>\n",
       "      <td>NotMorrison</td>\n",
       "      <td>Untitled Placemark</td>\n",
       "      <td>-124.088025</td>\n",
       "      <td>40.333130</td>\n",
       "    </tr>\n",
       "    <tr>\n",
       "      <th>3</th>\n",
       "      <td>NotMorrison</td>\n",
       "      <td>Untitled Placemark</td>\n",
       "      <td>-123.972598</td>\n",
       "      <td>40.388938</td>\n",
       "    </tr>\n",
       "    <tr>\n",
       "      <th>4</th>\n",
       "      <td>NotMorrison</td>\n",
       "      <td>Untitled Placemark</td>\n",
       "      <td>-123.739353</td>\n",
       "      <td>40.463355</td>\n",
       "    </tr>\n",
       "    <tr>\n",
       "      <th>...</th>\n",
       "      <td>...</td>\n",
       "      <td>...</td>\n",
       "      <td>...</td>\n",
       "      <td>...</td>\n",
       "    </tr>\n",
       "    <tr>\n",
       "      <th>362</th>\n",
       "      <td>NotMorrison</td>\n",
       "      <td>Untitled Placemark</td>\n",
       "      <td>-106.356988</td>\n",
       "      <td>35.102934</td>\n",
       "    </tr>\n",
       "    <tr>\n",
       "      <th>363</th>\n",
       "      <td>NotMorrison</td>\n",
       "      <td>Untitled Placemark</td>\n",
       "      <td>-106.354295</td>\n",
       "      <td>35.204744</td>\n",
       "    </tr>\n",
       "    <tr>\n",
       "      <th>364</th>\n",
       "      <td>NotMorrison</td>\n",
       "      <td>Untitled Placemark</td>\n",
       "      <td>-106.343791</td>\n",
       "      <td>35.105398</td>\n",
       "    </tr>\n",
       "    <tr>\n",
       "      <th>365</th>\n",
       "      <td>NotMorrison</td>\n",
       "      <td>Untitled Placemark</td>\n",
       "      <td>-106.328170</td>\n",
       "      <td>35.115568</td>\n",
       "    </tr>\n",
       "    <tr>\n",
       "      <th>366</th>\n",
       "      <td>NotMorrison</td>\n",
       "      <td>Untitled Placemark</td>\n",
       "      <td>-106.311346</td>\n",
       "      <td>35.112240</td>\n",
       "    </tr>\n",
       "  </tbody>\n",
       "</table>\n",
       "<p>367 rows × 4 columns</p>\n",
       "</div>"
      ],
      "text/plain": [
       "          Folder            Filename   Longitude   Latitude\n",
       "0    NotMorrison  Untitled Placemark -124.336376  40.262478\n",
       "1    NotMorrison  Untitled Placemark -124.237530  40.293367\n",
       "2    NotMorrison  Untitled Placemark -124.088025  40.333130\n",
       "3    NotMorrison  Untitled Placemark -123.972598  40.388938\n",
       "4    NotMorrison  Untitled Placemark -123.739353  40.463355\n",
       "..           ...                 ...         ...        ...\n",
       "362  NotMorrison  Untitled Placemark -106.356988  35.102934\n",
       "363  NotMorrison  Untitled Placemark -106.354295  35.204744\n",
       "364  NotMorrison  Untitled Placemark -106.343791  35.105398\n",
       "365  NotMorrison  Untitled Placemark -106.328170  35.115568\n",
       "366  NotMorrison  Untitled Placemark -106.311346  35.112240\n",
       "\n",
       "[367 rows x 4 columns]"
      ]
     },
     "execution_count": 21,
     "metadata": {},
     "output_type": "execute_result"
    }
   ],
   "source": [
    "SampleTheseCoords"
   ]
  },
  {
   "cell_type": "markdown",
   "id": "02fc1cdb-23e8-42f1-8d07-37b6ba91306a",
   "metadata": {},
   "source": [
    "# Serial acuisition of images"
   ]
  },
  {
   "cell_type": "code",
   "execution_count": null,
   "id": "cb21cb51",
   "metadata": {
    "ExecuteTime": {
     "end_time": "2023-06-16T17:47:50.238567Z",
     "start_time": "2023-06-16T17:47:50.233540Z"
    }
   },
   "outputs": [],
   "source": [
    "# from tqdm import tqdm\n",
    "\n",
    "# start = time.time()\n",
    "# print(start)\n",
    "# for i, row in enumerate(tqdm(arr)):\n",
    "#     folder = f'Downloads/{row[0]}/'\n",
    "#     filename = f'{i:03}{row[1]}.png'\n",
    "#     long = row[2]\n",
    "#     lat = row[3]\n",
    "#     dataset = RetrieveNAIPimage(lat, long)\n",
    "#     image = dataset.first()\n",
    "#     SaveNAIPimage(image ,lat, long, folder, filename, verbose = False)\n",
    "# end = time.time()\n",
    "# print(f'Elapsed: {(end-start)/60:5.1f} min')"
   ]
  },
  {
   "cell_type": "markdown",
   "id": "339e1afa-bdbe-48d8-bd96-ea6e222dedf4",
   "metadata": {},
   "source": [
    "# Dask Parallel Acquisition of images"
   ]
  },
  {
   "cell_type": "code",
   "execution_count": null,
   "id": "f0f243aa-a242-400a-902d-ddede7e5970d",
   "metadata": {},
   "outputs": [],
   "source": []
  },
  {
   "cell_type": "code",
   "execution_count": 11,
   "id": "2ab08973",
   "metadata": {},
   "outputs": [
    {
     "data": {
      "text/html": [
       "\n",
       "            <style>\n",
       "                .geemap-dark {\n",
       "                    --jp-widgets-color: white;\n",
       "                    --jp-widgets-label-color: white;\n",
       "                    --jp-ui-font-color1: white;\n",
       "                    --jp-layout-color2: #454545;\n",
       "                    background-color: #383838;\n",
       "                }\n",
       "                    \n",
       "                .geemap-dark .jupyter-button {\n",
       "                    --jp-layout-color3: #383838;\n",
       "                }\n",
       "                \n",
       "                .geemap-colab {\n",
       "                    background-color: var(--colab-primary-surface-color, white);\n",
       "                }\n",
       "                    \n",
       "                .geemap-colab .jupyter-button {\n",
       "                    --jp-layout-color3: var(--colab-primary-surface-color, white);\n",
       "                }\n",
       "            </style>\n",
       "            "
      ],
      "text/plain": [
       "<IPython.core.display.HTML object>"
      ]
     },
     "metadata": {},
     "output_type": "display_data"
    },
    {
     "ename": "ModuleNotFoundError",
     "evalue": "No module named 'tlz'",
     "output_type": "error",
     "traceback": [
      "\u001b[0;31m---------------------------------------------------------------------------\u001b[0m",
      "\u001b[0;31mModuleNotFoundError\u001b[0m                       Traceback (most recent call last)",
      "Cell \u001b[0;32mIn[11], line 2\u001b[0m\n\u001b[1;32m      1\u001b[0m \u001b[38;5;66;03m#from tqdm import tqdm\u001b[39;00m\n\u001b[0;32m----> 2\u001b[0m \u001b[38;5;28;01mimport\u001b[39;00m \u001b[38;5;21;01mdask\u001b[39;00m\n\u001b[1;32m      3\u001b[0m lazy  \u001b[38;5;241m=\u001b[39m []\n\u001b[1;32m      4\u001b[0m fileError \u001b[38;5;241m=\u001b[39m []\n",
      "File \u001b[0;32m~/.local/lib/python3.9/site-packages/dask/__init__.py:3\u001b[0m\n\u001b[1;32m      1\u001b[0m \u001b[38;5;28;01mfrom\u001b[39;00m \u001b[38;5;21;01m__future__\u001b[39;00m \u001b[38;5;28;01mimport\u001b[39;00m annotations\n\u001b[0;32m----> 3\u001b[0m \u001b[38;5;28;01mfrom\u001b[39;00m \u001b[38;5;21;01mdask\u001b[39;00m \u001b[38;5;28;01mimport\u001b[39;00m config, datasets\n\u001b[1;32m      4\u001b[0m \u001b[38;5;28;01mfrom\u001b[39;00m \u001b[38;5;21;01mdask\u001b[39;00m\u001b[38;5;21;01m.\u001b[39;00m\u001b[38;5;21;01m_version\u001b[39;00m \u001b[38;5;28;01mimport\u001b[39;00m get_versions\n\u001b[1;32m      5\u001b[0m \u001b[38;5;28;01mfrom\u001b[39;00m \u001b[38;5;21;01mdask\u001b[39;00m\u001b[38;5;21;01m.\u001b[39;00m\u001b[38;5;21;01mbase\u001b[39;00m \u001b[38;5;28;01mimport\u001b[39;00m (\n\u001b[1;32m      6\u001b[0m     annotate,\n\u001b[1;32m      7\u001b[0m     compute,\n\u001b[0;32m   (...)\u001b[0m\n\u001b[1;32m     12\u001b[0m     visualize,\n\u001b[1;32m     13\u001b[0m )\n",
      "File \u001b[0;32m~/.local/lib/python3.9/site-packages/dask/datasets.py:7\u001b[0m\n\u001b[1;32m      3\u001b[0m \u001b[38;5;28;01mimport\u001b[39;00m \u001b[38;5;21;01mrandom\u001b[39;00m\n\u001b[1;32m      5\u001b[0m \u001b[38;5;28;01mfrom\u001b[39;00m \u001b[38;5;21;01mpackaging\u001b[39;00m\u001b[38;5;21;01m.\u001b[39;00m\u001b[38;5;21;01mversion\u001b[39;00m \u001b[38;5;28;01mimport\u001b[39;00m Version\n\u001b[0;32m----> 7\u001b[0m \u001b[38;5;28;01mfrom\u001b[39;00m \u001b[38;5;21;01mdask\u001b[39;00m\u001b[38;5;21;01m.\u001b[39;00m\u001b[38;5;21;01mutils\u001b[39;00m \u001b[38;5;28;01mimport\u001b[39;00m import_required\n\u001b[1;32m     10\u001b[0m \u001b[38;5;28;01mdef\u001b[39;00m \u001b[38;5;21mtimeseries\u001b[39m(\n\u001b[1;32m     11\u001b[0m     start\u001b[38;5;241m=\u001b[39m\u001b[38;5;124m\"\u001b[39m\u001b[38;5;124m2000-01-01\u001b[39m\u001b[38;5;124m\"\u001b[39m,\n\u001b[1;32m     12\u001b[0m     end\u001b[38;5;241m=\u001b[39m\u001b[38;5;124m\"\u001b[39m\u001b[38;5;124m2000-01-31\u001b[39m\u001b[38;5;124m\"\u001b[39m,\n\u001b[0;32m   (...)\u001b[0m\n\u001b[1;32m     17\u001b[0m     \u001b[38;5;241m*\u001b[39m\u001b[38;5;241m*\u001b[39mkwargs,\n\u001b[1;32m     18\u001b[0m ):\n\u001b[1;32m     19\u001b[0m \u001b[38;5;250m    \u001b[39m\u001b[38;5;124;03m\"\"\"Create timeseries dataframe with random data\u001b[39;00m\n\u001b[1;32m     20\u001b[0m \n\u001b[1;32m     21\u001b[0m \u001b[38;5;124;03m    Parameters\u001b[39;00m\n\u001b[0;32m   (...)\u001b[0m\n\u001b[1;32m     56\u001b[0m \u001b[38;5;124;03m    ... )\u001b[39;00m\n\u001b[1;32m     57\u001b[0m \u001b[38;5;124;03m    \"\"\"\u001b[39;00m\n",
      "File \u001b[0;32m~/.local/lib/python3.9/site-packages/dask/utils.py:26\u001b[0m\n\u001b[1;32m     23\u001b[0m \u001b[38;5;28;01mfrom\u001b[39;00m \u001b[38;5;21;01mtyping\u001b[39;00m \u001b[38;5;28;01mimport\u001b[39;00m Any, ClassVar, Literal, TypeVar, overload\n\u001b[1;32m     24\u001b[0m \u001b[38;5;28;01mfrom\u001b[39;00m \u001b[38;5;21;01mweakref\u001b[39;00m \u001b[38;5;28;01mimport\u001b[39;00m WeakValueDictionary\n\u001b[0;32m---> 26\u001b[0m \u001b[38;5;28;01mimport\u001b[39;00m \u001b[38;5;21;01mtlz\u001b[39;00m \u001b[38;5;28;01mas\u001b[39;00m \u001b[38;5;21;01mtoolz\u001b[39;00m\n\u001b[1;32m     28\u001b[0m \u001b[38;5;28;01mfrom\u001b[39;00m \u001b[38;5;21;01mdask\u001b[39;00m \u001b[38;5;28;01mimport\u001b[39;00m config\n\u001b[1;32m     29\u001b[0m \u001b[38;5;28;01mfrom\u001b[39;00m \u001b[38;5;21;01mdask\u001b[39;00m\u001b[38;5;21;01m.\u001b[39;00m\u001b[38;5;21;01mcore\u001b[39;00m \u001b[38;5;28;01mimport\u001b[39;00m get_deps\n",
      "\u001b[0;31mModuleNotFoundError\u001b[0m: No module named 'tlz'"
     ]
    }
   ],
   "source": [
    "#from tqdm import tqdm\n",
    "import dask\n",
    "lazy  = []\n",
    "fileError = []\n",
    "fileTried = []\n",
    "\n",
    "def kernel(row):\n",
    "    #print(row)\n",
    "    folder = row[0]\n",
    "    filename = row[1]\n",
    "    long = float(row[2])\n",
    "    lat = float(row[3])\n",
    "    dataset = RetrieveNAIPimage(lat, long)\n",
    "    image = dataset.first()\n",
    "    SaveNAIPimage(image, lat, long, folder, filename, verbose = False)\n",
    "    lazy.append(row)\n",
    "    return row\n",
    "    \n",
    "ee.Initialize()\n",
    "start = time.time()\n",
    "print(start)\n",
    "for i in range(0,N):\n",
    "    row = arr[i]\n",
    "    row[0] = f'data/geemap/{row[0]}/'\n",
    "    row[1] = f'{i:03}{row[1]}'\n",
    "    res = dask.delayed(kernel)(row)\n",
    "    lazy.append(res)\n",
    "start = time.time()    \n",
    "dask.compute(*lazy)\n",
    "end = time.time()\n",
    "print(f'Elapsed: {(end-start)/60:5.1f} min')"
   ]
  },
  {
   "cell_type": "code",
   "execution_count": null,
   "id": "e00b5a55-adf4-4df7-acdf-7aa81b2e5f84",
   "metadata": {},
   "outputs": [],
   "source": []
  },
  {
   "cell_type": "code",
   "execution_count": null,
   "id": "b3cdcb7b-2ac1-408d-a910-2993b7470928",
   "metadata": {},
   "outputs": [],
   "source": [
    "\n",
    "Files = np.array(fileTried)\n",
    "Files"
   ]
  },
  {
   "cell_type": "code",
   "execution_count": null,
   "id": "97b3af05-fd5a-484a-ab91-c138e4ae5341",
   "metadata": {},
   "outputs": [],
   "source": []
  },
  {
   "cell_type": "code",
   "execution_count": null,
   "id": "cf613593-dcbb-43a8-80cd-4feabd23774f",
   "metadata": {},
   "outputs": [],
   "source": [
    "FilesAfterAcquisition = pd.DataFrame(Files, columns=['Folder', 'Filename', 'Latitude', 'Longitude', 'Exists'])\n",
    "FilesAfterAcquisition"
   ]
  },
  {
   "cell_type": "code",
   "execution_count": null,
   "id": "6d0614c7-e6c8-4937-a38c-268e4282ee9c",
   "metadata": {},
   "outputs": [],
   "source": [
    "FilesAfterAcquisition[ (FilesAfterAcquisition['Exists'] == 'True')].to_csv('FilesAfterAcquisition.csv')\n",
    "FilesAfterAcquisition[ (FilesAfterAcquisition['Exists'] == 'False')].to_csv('FilesFailedAcquisition.csv')\n",
    "FilesAfterAcquisition[ (FilesAfterAcquisition['Exists'] == 'True') & (FilesAfterAcquisition['Folder'] == 'data/geemap/NotMorrison/')  ]"
   ]
  },
  {
   "cell_type": "code",
   "execution_count": null,
   "id": "1aa11b4f-376f-4d25-9022-b7bc815d783b",
   "metadata": {},
   "outputs": [],
   "source": [
    "FilesAfterAcquisition[ (FilesAfterAcquisition['Exists'] == 'True') & (FilesAfterAcquisition['Folder'] == 'data/geemap/Morrison/')  ]"
   ]
  },
  {
   "cell_type": "code",
   "execution_count": null,
   "id": "13551627-8519-4a0d-b3d4-7a0f0b76b1a7",
   "metadata": {},
   "outputs": [],
   "source": []
  },
  {
   "cell_type": "markdown",
   "id": "6751455a-350a-4528-9bd9-edb203a3011f",
   "metadata": {},
   "source": [
    "# Populate train & val folders"
   ]
  },
  {
   "cell_type": "code",
   "execution_count": null,
   "id": "a32a7869-613d-4c31-8126-c75c18110104",
   "metadata": {},
   "outputs": [],
   "source": [
    "import glob\n",
    "import os\n",
    "import numpy as np\n",
    "from sklearn.model_selection import train_test_split\n",
    "import pandas as pd"
   ]
  },
  {
   "cell_type": "markdown",
   "id": "f03ee9f2-1a9c-4b2b-872a-b376915ec017",
   "metadata": {},
   "source": [
    "### Use train test split to partition my list of file names"
   ]
  },
  {
   "cell_type": "code",
   "execution_count": null,
   "id": "90cd1bea-bc79-4166-8e5c-7d34c543e2ce",
   "metadata": {},
   "outputs": [],
   "source": [
    "# Prep Morrison\n",
    "df = pd.read_csv('FilesAfterAcquisition.csv')\n",
    "MorrisonAll = df[df['Folder'] == 'data/geemap/Morrison/']['Filename'].tolist()\n",
    "\n",
    "Morrison_train, Morrison_val = train_test_split(\n",
    "    MorrisonAll,  test_size=0.10, random_state=42)"
   ]
  },
  {
   "cell_type": "code",
   "execution_count": null,
   "id": "14749b80-ef6a-4694-a721-6e82d3ddf735",
   "metadata": {},
   "outputs": [],
   "source": [
    "# Prep NotMorrison\n",
    "NotMorrisonAll = df[df['Folder'] == 'data/geemap/NotMorrison/']['Filename'].tolist()\n",
    "\n",
    "NotMorrison_train, NotMorrison_val = train_test_split(\n",
    "    NotMorrisonAll,  test_size=0.10, random_state=42)"
   ]
  },
  {
   "cell_type": "markdown",
   "id": "5aea5b28-bd04-4bcf-9179-87288d697ab9",
   "metadata": {},
   "source": [
    "# Moved Train Test split images to associated folders"
   ]
  },
  {
   "cell_type": "code",
   "execution_count": null,
   "id": "bcd423e6-4475-43d7-b673-060f62a39b69",
   "metadata": {},
   "outputs": [],
   "source": [
    "import shutil\n",
    "import os\n",
    "\n",
    "MT_path = 'data/geemap/train/Morrison/'\n",
    "MV_path = 'data/geemap/val/Morrison/'\n",
    "NT_path = 'data/geemap/train/NotMorrison/'\n",
    "NV_path = 'data/geemap/val/NotMorrison/'\n",
    "\n",
    "MSrc_path = 'data/geemap/Morrison/'\n",
    "NSrc_path = 'data/geemap/NotMorrison/'\n",
    "\n",
    "if not os.path.exists(MT_path):\n",
    "       os.makedirs(MT_path)\n",
    "if not os.path.exists(MV_path):\n",
    "       os.makedirs(MV_path)\n",
    "if not os.path.exists(NT_path):\n",
    "       os.makedirs(NT_path)\n",
    "if not os.path.exists(NV_path):\n",
    "       os.makedirs(NV_path)\n",
    "        \n",
    "for fn in Morrison_train:\n",
    "    fnm = fn+'.png'\n",
    "    shutil.copyfile(f'{MSrc_path}{fnm}', f'{MT_path}{fnm}')\n",
    "for fn in Morrison_val:\n",
    "    fnm = fn+'.png'\n",
    "    shutil.copyfile(f'{MSrc_path}{fnm}', f'{MV_path}{fnm}')\n",
    "        \n",
    "for fn in NotMorrison_train:\n",
    "    fnm = fn+'.png'\n",
    "    shutil.copyfile(f'{NSrc_path}{fnm}', f'{NT_path}{fnm}')\n",
    "for fn in NotMorrison_val:\n",
    "    fnm = fn+'.png'\n",
    "    shutil.copyfile(f'{NSrc_path}{fnm}', f'{NV_path}{fnm}')\n"
   ]
  },
  {
   "cell_type": "code",
   "execution_count": null,
   "id": "1ebd7fe9-b898-459a-89a5-43499a4e9799",
   "metadata": {},
   "outputs": [],
   "source": []
  },
  {
   "cell_type": "code",
   "execution_count": null,
   "id": "ed673585-7422-4a1e-959a-3cb5d7ac6582",
   "metadata": {},
   "outputs": [],
   "source": []
  },
  {
   "cell_type": "code",
   "execution_count": null,
   "id": "919e2bb7-a93a-412c-90a2-0059877f5168",
   "metadata": {},
   "outputs": [],
   "source": []
  },
  {
   "cell_type": "code",
   "execution_count": null,
   "id": "88284b66-70a6-4fe6-ae36-f723e3137edd",
   "metadata": {},
   "outputs": [],
   "source": []
  },
  {
   "cell_type": "code",
   "execution_count": null,
   "id": "8d4a5127-8f3c-4340-b2b5-d16ed6a0fad1",
   "metadata": {},
   "outputs": [],
   "source": [
    "print(\"Done!\")"
   ]
  }
 ],
 "metadata": {
  "kernelspec": {
   "display_name": "pytorch",
   "language": "python",
   "name": "pytorch"
  },
  "language_info": {
   "codemirror_mode": {
    "name": "ipython",
    "version": 3
   },
   "file_extension": ".py",
   "mimetype": "text/x-python",
   "name": "python",
   "nbconvert_exporter": "python",
   "pygments_lexer": "ipython3",
   "version": "3.9.16"
  }
 },
 "nbformat": 4,
 "nbformat_minor": 5
}
