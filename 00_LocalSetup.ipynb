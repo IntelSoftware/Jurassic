{
 "cells": [
  {
   "cell_type": "markdown",
   "id": "3f394440-3212-4fbc-951e-0dd20bc128ab",
   "metadata": {},
   "source": [
    "# Bootstrap Your Local Setup\n",
    "\n",
    "There are multiple methods to setup your environment to take advantage of Intel software optimizations.  If you are interested in running these exercises locally pick the method that appeals to your style of development.  Using one of these methods is required to take advantage of Intel software optimizations. \n",
    "\n",
    "* All these install methods assume an environment using Ubuntu 20.04.03 LTS.  This can be on bare metal or running on WSL2 on Windows 10/11."
   ]
  },
  {
   "cell_type": "markdown",
   "id": "1b41f7bf-ce8e-4c30-a8a5-bf378b618a54",
   "metadata": {},
   "source": [
    "## Sections\n",
    "- [Anaconda Setup](#Anaconda-Setup)\n",
    "- [Intel Distribution of Python](#Intel-Distribution-of-Python)\n",
    "- [Intel AI Analytics Toolkit](#Intel-AI-Analytics-Toolkit)\n",
    "- [Addendum: WSL2 on Windows 11:](#Addendum-WSL2-on-Windows-11)"
   ]
  },
  {
   "cell_type": "markdown",
   "id": "6bd52b0f-028b-4745-9fcb-2228f45ebbfb",
   "metadata": {},
   "source": [
    "## Anaconda Setup\n",
    "\n",
    "Anaconda and the Intel Distribution of Python are the bare minumim required to install in order to take advantage of Intel optimizations.\n",
    "\n",
    "* [Download and install the latest version of Anaconda](https://www.anaconda.com/products/distribution#Downloads)"
   ]
  },
  {
   "cell_type": "markdown",
   "id": "86534b62-7296-431d-9353-5c25d853c47e",
   "metadata": {},
   "source": [
    "## Intel Distribution of Python\n",
    "\n",
    "* High-Performance Python:  \n",
    "\n",
    "    * Take advantage of the most popular and fastest growing programming language with underlying instruction sets optimized for Intel® architectures.\n",
    "    * Achieve near-native performance through acceleration of core Python numerical and scientific packages that are built using Intel® Performance Libraries.\n",
    "    * Achieve highly efficient multithreading, vectorization, and memory management, and scale scientific computations efficiently across a cluster.\n",
    "    * Core packages include Numba, NumPy, SciPy, and more.\n",
    "    \n",
    "\n",
    "    \n",
    "* __Step 1__: Add the Intel Distribution for python Anaconda channel, this will set the Intel packages over default packages, add the Intel channel as follows:\n",
    "\n",
    "          conda config --add channels intel\n",
    "       \n",
    "* __Step 2__: To install the latest full Intel python distribution enter the following:\n",
    "\n",
    "          conda create -n idp intelpython3_full python=3    \n",
    "        \n",
    "* __Step 3__: Activate your virtual environment with  \n",
    "\n",
    "          conda activate idp  \n",
    "    \n",
    "* __Step 4__: Now, you have the virtual environment with intel-python installed.  Now you have to install jupyter-notebook additionally for the new environment with this command (after the activation of the environment with the command above):\n",
    "\n",
    " \n",
    "          conda install -c conda-forge jupyterlab\n",
    "               \n",
    "    \n",
    "    [The latest release notes and links to forums for the Intel Distribution for Python can be found here](https://www.intel.com/content/www/us/en/developer/articles/release-notes/distribution-for-python-release-notes.html)"
   ]
  },
  {
   "cell_type": "markdown",
   "id": "fc692595-5df9-4491-a0ab-66912285d13b",
   "metadata": {},
   "source": [
    "### If you are doing strictly machine learning you are done, but if you want to add any frameworks this can easily be done by adding the AI Analytics Toolkit.\n",
    "\n",
    "__Step 1:__\n",
    "\n",
    "        sudo apt install intel-aikit\n",
    "        \n",
    "* The contents of the AI-Kit are described below.  A number of additional conda environments are created after installation."
   ]
  },
  {
   "cell_type": "markdown",
   "id": "1935295d-e668-4f16-a6c3-229af18ef27f",
   "metadata": {},
   "source": [
    "## Intel AI Analytics Toolkit\n",
    "\n",
    "The following additional packages will be installed:\n",
    "\n",
    "  * intel-aikit-getting-started intel-oneapi-model-zoo intel-oneapi-modin intel-oneapi-neural-compressor intel-oneapi-pytorch intel-oneapi-tensorflow (1341 MB)\n",
    "  \n",
    "   * End-to-End AI and Machine Learning Acceleration\n",
    "\n",
    "        * Intel® Distribution for Python* including highly-optimized scikit-learn and XGBoost libraries\n",
    "        * Intel® Optimization for PyTorch*\n",
    "        * Intel® Optimization for TensorFlow*\n",
    "        * Intel® Optimization of Modin* (available through Anaconda* only)\n",
    "        * Intel® Neural Compressor\n",
    "        * Model Zoo for Intel® architecture"
   ]
  },
  {
   "cell_type": "markdown",
   "id": "0523c76b-5cff-4da4-b40b-a22b72925e2b",
   "metadata": {},
   "source": [
    "## Addendum WSL2 on Windows 11\n",
    "\n",
    "__Step 1:__\n",
    "\n",
    "* Tap the Windows Key and enter update, windows update will be the first match.  Go through that process and reboot.\n",
    "\n",
    "__Step 2:__\n",
    "\n",
    "* Launch windows terminal with administrative privileges.  Tap the Windows key and enter terminal.  The down carrot on the right will expose the admin privilege option. \n",
    "\n",
    "\n",
    "__Step 3:__\n",
    "\n",
    "* At the prompt enter: wsl – install (two dashes) This will automatically install Ubuntu 20.04\n",
    "\n",
    "__Step 4:__\n",
    "\n",
    "* Restart  -- The install actually takes place here and after the reboot, this takes a couple of minutes.\n",
    "\n",
    "__Step 5:__\n",
    "\n",
    "* Ubuntu will launch automatically, follow the steps to create a new user.  It’s a good idea to have the identical username for Windows as you do Ubuntu.\n",
    "\n",
    "__Step 6:__\n",
    "\n",
    "* Jump back up to [Intel Data Science Workstation Kit](#What-is-Data-Parallel-C++) and follow along, even the update steps. \n",
    "    * Note* a reboot in WSL2 is exiting the WSL2 session.  To relaunch WSL2 tap the Windows key, enter terminal and then click on the down carrot and choose Ubuntu.  This is a great way to have multiple terminal sessions in a tabbed environment."
   ]
  },
  {
   "cell_type": "code",
   "execution_count": null,
   "id": "ba39797e-90c2-43f6-bbe4-719cdb36ec88",
   "metadata": {},
   "outputs": [],
   "source": []
  }
 ],
 "metadata": {
  "kernelspec": {
   "display_name": "Python 3 (Intel® oneAPI 2022.3)",
   "language": "python",
   "name": "c009-intel_distribution_of_python_3_oneapi-beta05-python"
  },
  "language_info": {
   "codemirror_mode": {
    "name": "ipython",
    "version": 3
   },
   "file_extension": ".py",
   "mimetype": "text/x-python",
   "name": "python",
   "nbconvert_exporter": "python",
   "pygments_lexer": "ipython3",
   "version": "3.9.12"
  }
 },
 "nbformat": 4,
 "nbformat_minor": 5
}
