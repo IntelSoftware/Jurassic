{
 "cells": [
  {
   "cell_type": "markdown",
   "id": "8961b00e-57c2-47fa-81be-777127fa6ecb",
   "metadata": {},
   "source": [
    "# Populate train & val folders"
   ]
  },
  {
   "cell_type": "code",
   "execution_count": 1,
   "id": "0b8f2298-17ec-472a-a070-a6eaf70d9cd0",
   "metadata": {},
   "outputs": [],
   "source": [
    "import glob\n",
    "import os\n",
    "import numpy as np\n",
    "from sklearn.model_selection import train_test_split\n",
    "import pandas as pd"
   ]
  },
  {
   "cell_type": "markdown",
   "id": "08a33cae-2c67-4fe3-a1eb-2eb618e3e8d3",
   "metadata": {},
   "source": [
    "### Use train test split to partition my list of file names"
   ]
  },
  {
   "cell_type": "code",
   "execution_count": 2,
   "id": "b08a8bc2-082f-4196-9a52-b620529b96ab",
   "metadata": {},
   "outputs": [],
   "source": [
    "df = pd.read_csv('FilesAfterAcquisition.csv')\n",
    "MorrisonAll = df[df['Folder'] == 'data/geemap/Morrison/']['Filename'].tolist()\n",
    "\n",
    "Morrison_train, Morrison_val = train_test_split(\n",
    "    MorrisonAll,  test_size=0.10, random_state=42)"
   ]
  },
  {
   "cell_type": "code",
   "execution_count": 3,
   "id": "1036ba34-241b-4e96-b7ff-3af611d761c0",
   "metadata": {},
   "outputs": [],
   "source": [
    "NotMorrisonAll = df[df['Folder'] == 'data/geemap/NotMorrison/']['Filename'].tolist()\n",
    "\n",
    "NotMorrison_train, NotMorrison_val = train_test_split(\n",
    "    NotMorrisonAll,  test_size=0.10, random_state=42)"
   ]
  },
  {
   "cell_type": "code",
   "execution_count": 4,
   "id": "79aa930b-f546-4826-abca-99a372c14fe0",
   "metadata": {},
   "outputs": [],
   "source": [
    "import shutil\n",
    "import os\n",
    "\n",
    "MT_path = 'data/geemap/train/Morrison/'\n",
    "MV_path = 'data/geemap/val/Morrison/'\n",
    "NT_path = 'data/geemap/train/NotMorrison/'\n",
    "NV_path = 'data/geemap/val/NotMorrison/'\n",
    "\n",
    "MSrc_path = 'data/geemap/Morrison/'\n",
    "NSrc_path = 'data/geemap/NotMorrison/'\n",
    "\n",
    "if not os.path.exists(MT_path):\n",
    "       os.makedirs(MT_path)\n",
    "if not os.path.exists(MV_path):\n",
    "       os.makedirs(MV_path)\n",
    "if not os.path.exists(NT_path):\n",
    "       os.makedirs(NT_path)\n",
    "if not os.path.exists(NV_path):\n",
    "       os.makedirs(NV_path)\n",
    "        \n",
    "for fn in Morrison_train:\n",
    "    fnm = fn+'.png'\n",
    "    shutil.copyfile(f'{MSrc_path}{fnm}', f'{MT_path}{fnm}')\n",
    "for fn in Morrison_val:\n",
    "    fnm = fn+'.png'\n",
    "    shutil.copyfile(f'{MSrc_path}{fnm}', f'{MV_path}{fnm}')\n",
    "        \n",
    "for fn in NotMorrison_train:\n",
    "    fnm = fn+'.png'\n",
    "    shutil.copyfile(f'{NSrc_path}{fnm}', f'{NT_path}{fnm}')\n",
    "for fn in NotMorrison_val:\n",
    "    fnm = fn+'.png'\n",
    "    shutil.copyfile(f'{NSrc_path}{fnm}', f'{NV_path}{fnm}')\n"
   ]
  },
  {
   "cell_type": "code",
   "execution_count": 5,
   "id": "8da32ca5-4834-4868-a129-f46d55b240c7",
   "metadata": {},
   "outputs": [
    {
     "name": "stdout",
     "output_type": "stream",
     "text": [
      "Done!\n"
     ]
    }
   ],
   "source": [
    "print(\"Done!\")"
   ]
  },
  {
   "cell_type": "code",
   "execution_count": null,
   "id": "d31c12fd-03ff-4fe3-a3a6-8ce22dc7dd48",
   "metadata": {},
   "outputs": [],
   "source": []
  }
 ],
 "metadata": {
  "kernelspec": {
   "display_name": "gee",
   "language": "python",
   "name": "gee"
  },
  "language_info": {
   "codemirror_mode": {
    "name": "ipython",
    "version": 3
   },
   "file_extension": ".py",
   "mimetype": "text/x-python",
   "name": "python",
   "nbconvert_exporter": "python",
   "pygments_lexer": "ipython3",
   "version": "3.9.16"
  }
 },
 "nbformat": 4,
 "nbformat_minor": 5
}
