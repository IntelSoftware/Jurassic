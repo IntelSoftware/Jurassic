{
 "cells": [
  {
   "cell_type": "markdown",
   "id": "46db88fb-e289-40ab-9dd9-a2bd8df54c60",
   "metadata": {
    "tags": []
   },
   "source": [
    "# Image Preparation: Tile Images\n",
    "\n",
    "Slice into multiple 224x224\n",
    "\n",
    "![assets/SliceAerialPhoto.jpg](assets/SliceAerialPhoto.jpg)"
   ]
  },
  {
   "cell_type": "code",
   "execution_count": null,
   "id": "2b629d35-16b4-44d0-a3b3-71aef90d546c",
   "metadata": {},
   "outputs": [],
   "source": [
    "import glob\n",
    "from PIL import Image\n",
    "from os.path import exists\n",
    "import os\n",
    "\n",
    "#path = 'data/DinosaurNationalMonument/Dinosaur National Monument Panorama.png'\n",
    "path = 'data/GreenColoradoRivers.PNG'\n",
    "folder = 'data/GreenColoradoRivers'\n",
    "file_exists = exists(folder)\n",
    "if not file_exists:\n",
    "    os.mkdir(folder)\n",
    "    os.mkdir(folder + '/224')\n",
    "img = Image.open(path)\n",
    "for x in range(img.size[0]//224):\n",
    "    for y in range(img.size[1]//224):\n",
    "        left = x * 224\n",
    "        low = y * 224\n",
    "        bbox = (left, low, left + 224, low + 224)\n",
    "        working_slice = img.crop(bbox)\n",
    "        filename = '{}/224/DNMx{:02d}y{:02d}.png'.format(folder, x, y)\n",
    "        print(filename)\n",
    "        working_slice.save(filename)\n",
    "        # remove partial images\n",
    "        r, g, b = working_slice.convert('RGB').split()\n",
    "        if g.histogram()[0] + r.histogram()[0] + b.histogram()[0] > 223*3:\n",
    "            print(fn,\" remove: has black stripe\")\n",
    "            os.remove(fn, dir_fd=None)\n",
    "        working_slice.close()"
   ]
  },
  {
   "cell_type": "markdown",
   "id": "1465f22b-fa67-4c67-b5f4-f839d45697f7",
   "metadata": {},
   "source": [
    "If you have any issues or want to contribute, please contact our authors:\n",
    "Intel oneAPI Solution Architect\n",
    "- Chesebrough, Bob [bob.chesebrough (at) intel.com]\n"
   ]
  },
  {
   "cell_type": "markdown",
   "id": "e027e2ea-30a8-408c-bb5a-96bafdb90de9",
   "metadata": {},
   "source": [
    "## Notices and Disclaimers\n",
    "\n",
    "Intel technologies may require enabled hardware, software or service activation.\n",
    "\n",
    "No product or component can be absolutely secure. \n",
    "\n",
    "Your costs and results may vary. \n",
    "\n",
    "© Intel Corporation. Intel, the Intel logo, and other Intel marks are trademarks of Intel Corporation or its subsidiaries. Other names and brands may be claimed as the property of others. "
   ]
  },
  {
   "cell_type": "code",
   "execution_count": null,
   "id": "5cbedbe8-c89c-48fc-8d5d-ce2b43c18cbb",
   "metadata": {},
   "outputs": [],
   "source": []
  }
 ],
 "metadata": {
  "kernelspec": {
   "display_name": "Python 3.8 (Intel® oneAPI)",
   "language": "python",
   "name": "c009-intel_distribution_of_python_3_oneapi-beta05-python"
  },
  "language_info": {
   "codemirror_mode": {
    "name": "ipython",
    "version": 3
   },
   "file_extension": ".py",
   "mimetype": "text/x-python",
   "name": "python",
   "nbconvert_exporter": "python",
   "pygments_lexer": "ipython3",
   "version": "3.9.10"
  }
 },
 "nbformat": 4,
 "nbformat_minor": 5
}
