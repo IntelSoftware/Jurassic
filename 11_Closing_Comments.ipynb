{
 "cells": [
  {
   "cell_type": "markdown",
   "id": "b1db4c4b-7a87-446c-a5c7-c200202c42a1",
   "metadata": {},
   "source": [
    "\n",
    "## Hey.... This AI Map Works!\n",
    "\n",
    "<video controls src=\"assets/VideoTestingInThe FieldShort34.mp4\" width=\"800\" />\n",
    "\n",
    "Watch the video as we fly from space into an AI predicted bone field, transition to drone footage of us scurrying around during the finds, and finally show and tell one of cool AI bone finds!\n",
    "\n",
    "# Application of this technique\n",
    "\n",
    "This technique has not been rigorsly studied to date.  I hold much promise and it is surprising that it generalizes as well as it does being trained in New Mexico Morrison sediments and applied to sediments in Utah.\n",
    "\n",
    "There will be other uses for techniques such as these - some of whcih researchers are already working on, others are as yet untouched areas for study\n",
    "\n",
    "# Application areas\n",
    "\n",
    "### Fire Prevention\n",
    "Below is a recent map showing the current fire hotspots in NM largest forest fire in its history - the Hermits Peak Fire. There is potential to apply similar AI process to identify highly susceptible burn regions\n",
    "\n",
    "<img src=\"assets/NM_HermitsPeakFire_20220616-170351.jpg\" width=\"250\"/>\n",
    "\n",
    "### Energy Production/ State Regulatory\n",
    "\n",
    "The largest contributor to New Mexico's annual budget is related to energy prodction. New Mexico has vast regions of State owned land which are occasionally leased for energy production.  The state is tasked with overseeing 9 million surface acres and 13 million mineral acres. Enforcing or verifying regulatory compliance on such a vast scale is challenging. Reporting of energy unit production on State lands relies largely on an honor system.\n",
    "\n",
    "Can we apply similar AI methods to idenitfy areas of more recent utilization, via road or ground scarring to follow up on licensee(s) to ensure production is reported in a timely and accurate way?\n",
    "\n",
    "\n",
    "<img src=\"assets/EnergyProductionRegulation.PNG\" width=\"500\"/>\n",
    "\n",
    "\n",
    "### Medical\n",
    "\n",
    "Automatic Detection from Chest X-Ray Images Is Possible, Reports Incheon National University\n",
    "\n",
    "<img src=\"assets/CovidXRays.webp\" width=\"500\"/>\n",
    "Results of chest X-Rays, detected as Covid-19. Images courtesy of IEEE\n",
    "\n",
    "### Water/Life on other Planets\n",
    "\n",
    "Looking for evidence of sedimentation or geophysical structures could indicate the past or current presence of water and therefore life.\n",
    "\n",
    "<img src=\"assets/GoogleMars.PNG\" width=\"500\"/>"
   ]
  },
  {
   "cell_type": "code",
   "execution_count": 2,
   "id": "7d7f06d7-a1d9-445b-901a-ff658e6134c7",
   "metadata": {},
   "outputs": [
    {
     "data": {
      "image/jpeg": "[encoded data removed]",
      "text/html": [
       "\n",
       "        <iframe\n",
       "            width=\"800\"\n",
       "            height=\"600\"\n",
       "            src=\"https://www.youtube.com/embed/BE3Jh943QsU\"\n",
       "            frameborder=\"0\"\n",
       "            allowfullscreen\n",
       "            \n",
       "        ></iframe>\n",
       "        "
      ],
      "text/plain": [
       "<IPython.lib.display.YouTubeVideo at 0x153fecfd40a0>"
      ]
     },
     "execution_count": 2,
     "metadata": {},
     "output_type": "execute_result"
    }
   ],
   "source": [
    "#Play video from YouTube\n",
    "from IPython.display import YouTubeVideo\n",
    "\n",
    "YouTubeVideo('BE3Jh943QsU', width=800, height=600)"
   ]
  },
  {
   "cell_type": "markdown",
   "id": "3fb46e8c-4baa-4385-830e-63c75b4ad6db",
   "metadata": {
    "tags": []
   },
   "source": [
    "# Obey All Laws!\n",
    "\n",
    "Collecting vertebrate fossils from Federal and State or other public lands is **ILLEGAL**.\n",
    "\n",
    "If you find suspected vertebrate fossils DO NOT TAKE THEM. \n",
    "- Build great memories\n",
    "- Record their position \n",
    "- Photograph them\n",
    "- Video them \n",
    "to get a sense of the 3D nature of the sample\n",
    "- Report it to a paleontologist at a nearby museum or Univeristy."
   ]
  },
  {
   "cell_type": "markdown",
   "id": "7b3374fc-b3cb-4b04-bcf7-8aebcfae9c5e",
   "metadata": {},
   "source": [
    "# Call to Action\n",
    "\n",
    "- Download ....\n",
    "- Upload your model to Huggingface Hub\n",
    "- Also ask them to do Huggingface Space\n",
    "- Survey ?\n",
    "  "
   ]
  },
  {
   "cell_type": "markdown",
   "id": "2ae44b90-c27f-40b8-b12d-7518e7eded84",
   "metadata": {},
   "source": [
    "## Notices and Disclaimers\n",
    "\n",
    "Intel technologies may require enabled hardware, software or service activation.\n",
    "\n",
    "No product or component can be absolutely secure. \n",
    "\n",
    "Your costs and results may vary. \n",
    "\n",
    "© Intel Corporation. Intel, the Intel logo, and other Intel marks are trademarks of Intel Corporation or its subsidiaries. Other names and brands may be claimed as the property of others. "
   ]
  },
  {
   "cell_type": "code",
   "execution_count": null,
   "id": "e0970c84-46ad-4b99-b4b7-00d1df181222",
   "metadata": {},
   "outputs": [],
   "source": []
  }
 ],
 "metadata": {
  "kernelspec": {
   "display_name": "pytorch-gpu",
   "language": "python",
   "name": "pytorch-gpu"
  },
  "language_info": {
   "codemirror_mode": {
    "name": "ipython",
    "version": 3
   },
   "file_extension": ".py",
   "mimetype": "text/x-python",
   "name": "python",
   "nbconvert_exporter": "python",
   "pygments_lexer": "ipython3",
   "version": "3.9.16"
  }
 },
 "nbformat": 4,
 "nbformat_minor": 5
}
