{
 "cells": [
  {
   "cell_type": "markdown",
   "id": "4cd48d81",
   "metadata": {},
   "source": [
    "# Semi-supervised Labeling\n",
    "\n",
    "<img src=\"assets/SampledDistribution.jpg\" width=\"500\"/>\n",
    "\n",
    "Kernel density estimate are used to systematically identify bone possible regions - called class 1's\n",
    "\n",
    "**class 0** \n",
    "- Non-Bone samples are relatively easy to identify and are common throughout the globe and common in regions which are within a few miles of bone sites\n",
    "\n",
    "**class 2** \n",
    "- Bone locations are identified via GPS locations and mapped to image coordinates\n",
    "\n",
    "**class 1**\n",
    "- any region with similar depositional environments and for which bones have not been positively identified. These are different in look and feel, visual texture and color, from Non-Bone locations\n"
   ]
  },
  {
   "cell_type": "code",
   "execution_count": null,
   "id": "62291f67",
   "metadata": {},
   "outputs": [],
   "source": [
    "import pandas as pd\n",
    "import matplotlib.pyplot as plt\n",
    "import numpy as np\n"
   ]
  },
  {
   "cell_type": "markdown",
   "id": "676f3ba3-36c2-4160-bed3-acf15be3c74e",
   "metadata": {},
   "source": [
    "# Load Kernel Density Map\n",
    "\n",
    "Load the density map from the trainin location in central New Mexico"
   ]
  },
  {
   "cell_type": "code",
   "execution_count": null,
   "id": "f49911ae-89b2-45ea-be85-e85ab6c4b1d8",
   "metadata": {},
   "outputs": [],
   "source": [
    "z = np.load('data/z.npy')\n",
    "meshParams = np.load('data/meshParams.npy')\n",
    "xx = np.load('data/xx.npy')\n",
    "yy = np.load('data/yy.npy')\n",
    "xmin, xmax, ymin, ymax, inc = meshParams"
   ]
  },
  {
   "cell_type": "markdown",
   "id": "01b44cfa",
   "metadata": {
    "tags": []
   },
   "source": [
    "# Plot histogram of  bone likelihoods\n",
    "\n",
    "The data used to generate this KDE consisted of over 5000 bone sample locations from central New Mexico.\n",
    "\n",
    "These histograms show MANY more locations that this! Can you explain how we get such large multiplicative factors of label data through this sampling technique?\n",
    "\n",
    "How can there be so many counts in each bin?  We don’t have anywhere near that many fossil locations.\n",
    "\n",
    "The reason is that the meshgrid we created has hundreds of thousands of locations. Sampling from this gives us many possible samples\n"
   ]
  },
  {
   "cell_type": "code",
   "execution_count": null,
   "id": "dab0c4db-bf2e-4fd0-8da2-7a6285fd2a11",
   "metadata": {},
   "outputs": [],
   "source": [
    "print('number of grid locations: ', z.shape)\n",
    "counts, binloc = np.histogram(z, bins = 4)\n",
    "labs = ['{:3.1f}'.format(n) for n in np.round_(binloc[:-1], 1) ]\n",
    "\n",
    "\n",
    "fig, ax = plt.subplots()\n",
    "ax.bar(labs, counts)\n",
    "plt.title('Histogram of bone likelyhood')\n",
    "#ax.set_yscale('log')\n",
    "ax.set_xlabel('bins')\n",
    "ax.set_ylabel('counts')\n",
    "plt.grid()\n",
    "\n",
    "plt.show()\n",
    "print(\"bin range is:\\t\\t\", labs)\n",
    "print(\"Counts in each bin:\\t\", counts)"
   ]
  },
  {
   "cell_type": "markdown",
   "id": "bea12717",
   "metadata": {},
   "source": [
    "# Create mapping from image coordinates to meshgrid index\n",
    "\n",
    "We use an increment = inc for the meshgrid which offers a coarse granularity of cell choices to speed up and shrink memory usage for the meshgrid. Setting inc to 1 gives finest granularity.\n",
    "\n",
    "the Cell Index function is the means to linearly map from Image coordinates to messgrid cell coordinates\n",
    "\n",
    "Image coordinates:\n",
    "- xx ranges from 0 to 4160 pixels\n",
    "- yy ranges from 9 to 5257 pixels\n",
    "\n",
    "meshgrid cells are indexed differently\n",
    "- CellX ranges from 0 to 260\n",
    "- CellY ranges from 0 to 328\n",
    "\n",
    "Create simple linear regression prediction function to map the two\n",
    "\n",
    "We define **CellIndex( Image_coordinates_x, Image_coordinates_y)**:\n",
    "- return messgrid_xx, meshgrid_yy"
   ]
  },
  {
   "cell_type": "code",
   "execution_count": null,
   "id": "eafbc9ef",
   "metadata": {},
   "outputs": [],
   "source": [
    "import numpy as np\n",
    "from sklearn.linear_model import LinearRegression\n",
    "\n",
    "CellX = LinearRegression().fit(xx[:,0].reshape(-1, 1), [i for i in range(xx.shape[0])])\n",
    "CellY = LinearRegression().fit(yy[0,:].reshape(-1, 1), [ymax//inc - i for i in range(1 + ymax//inc)] )\n",
    "\n",
    "def CellIndex(x, y):\n",
    "    X = np.array([x]).reshape(-1,1)\n",
    "    Y = np.array([y]).reshape(-1,1)\n",
    "    cellx = int(CellX.predict(X))\n",
    "    celly = yy.shape[1] - int(CellY.predict(Y)[0] +.5) \n",
    "    return cellx, celly\n",
    "\n",
    "idx = CellIndex(2000, 2000)\n",
    "print(idx)\n",
    "z[idx]"
   ]
  },
  {
   "cell_type": "markdown",
   "id": "2075fb15",
   "metadata": {},
   "source": [
    "## Print extremes of Cell Index\n",
    "\n",
    "It seems upside down because images coordinates in the Y axis are always 0 at the TOP of the image"
   ]
  },
  {
   "cell_type": "code",
   "execution_count": null,
   "id": "8e77ae0e",
   "metadata": {},
   "outputs": [],
   "source": [
    "print(xmax, ymax)\n",
    "a,b = xmin,ymin; print(\"CellIndex({}, {}) -> {}\".format(a, b, CellIndex(a,b)))\n",
    "a,b = xmin,ymax; print(\"CellIndex({}, {}) -> {}\".format(a, b, CellIndex(a,b)))\n",
    "a,b = xmax,ymin; print(\"CellIndex({}, {}) -> {}\".format(a, b, CellIndex(a,b)))\n",
    "a,b = xmax,ymax; print(\"CellIndex({}, {}) -> {}\".format(a, b, CellIndex(a,b)))"
   ]
  },
  {
   "cell_type": "code",
   "execution_count": null,
   "id": "ef4b355a",
   "metadata": {},
   "outputs": [],
   "source": []
  },
  {
   "cell_type": "markdown",
   "id": "8facbfec",
   "metadata": {},
   "source": [
    "# Plot the kernel density map\n",
    "\n",
    "This is correlated to the dimensions of the image\n",
    "\n",
    "Plot a green dot at various locates to validate the density plot is accurate\n",
    "\n",
    "This is how we will label data!\n",
    "\n",
    "Pick meshgrid (to get a 224x224 sized image, compute its CellIndex\n",
    "\n",
    "- X,Y = (2800,2800)\n",
    "- z[CellIndex(X,Y)]\n",
    "\n",
    "yields 0.36899990820120526\n",
    "\n"
   ]
  },
  {
   "cell_type": "code",
   "execution_count": null,
   "id": "d8906243",
   "metadata": {},
   "outputs": [],
   "source": [
    "X_LL, Y_LL = (2000,2000)\n",
    "print('(2000,2000) -> ',  z[CellIndex(X_LL, Y_LL)])\n",
    "\n",
    "X_UR, Y_UR = (2224,2224)\n",
    "print('(2224,2224) -> ',  z[CellIndex(X_UR, Y_UR )])\n",
    "\n",
    "X_mean, Y_mean = (X_LL + X_UR)//2, (Y_LL + Y_UR)//2\n",
    "print('X_mean, Y_mean: ', (X_mean, Y_mean))\n",
    "\n",
    "z[CellIndex(X_mean, Y_mean)]\n",
    "\n",
    "# So a cropped image with coordinates X_LL, Y_UR, will be scored using z\n",
    "# and the value for z[(2112, 2112)] is 0.15808224823133873\n",
    "# so that cropped image will be named something like:\n",
    "# 'DinoX2000Y2000' so we know where to glue it back into a reconstructed map\n",
    "# it gets scored as .15808 which we round to .1 and the image is moved to the \".1\" folder\n",
    "# We label the image by putting it nto a folder with names:\n",
    "# 0, .1, .2, ...., .9"
   ]
  },
  {
   "cell_type": "markdown",
   "id": "80ee6afb-ed1e-4c4d-816a-0715bf7a4a22",
   "metadata": {},
   "source": [
    "# Plot KDE with test location\n",
    "\n",
    "Test location in lime color - specify coordinate, plot the location and sample from the KDE at that location."
   ]
  },
  {
   "cell_type": "code",
   "execution_count": null,
   "id": "e21641b9",
   "metadata": {},
   "outputs": [],
   "source": [
    "fig = plt.figure(figsize=(8,8))\n",
    "ax = fig.gca()\n",
    "# xmax, ymax = 10100, 10256\n",
    "# xmin, ymin = 0,0\n",
    "ax.set_xlim(xmin, xmax)\n",
    "ax.set_ylim(ymax, ymin )\n",
    "cfset = ax.contourf(xx, yy, z, cmap='coolwarm', levels=[i/20 for i in range (20)], alpha =.2)\n",
    "#cfset = ax.contourf(xx, yy, z, cmap='coolwarm', levels= 3, alpha =.2)\n",
    "ax.imshow(np.rot90(z), cmap='coolwarm', extent=[xmin, xmax, ymax, ymin  ])\n",
    "\n",
    "#cset = ax.contour(xx, yy, z, colors='k')\n",
    "cset = ax.contour(xx, yy, z, levels = 5, colors='k')\n",
    "ax.clabel(cset, inline=1, fontsize=10)\n",
    "ax.set_xlabel('X')\n",
    "ax.set_ylabel('Y')\n",
    "plt.title('2D Gaussian Kernel density estimation')\n",
    "\n",
    "# plot a sample piont in lime and read it density\n",
    "X,Y = (2112, 2112)\n",
    "X,Y = (2250, 2900)\n",
    "plt.scatter(X, Y,c='lime')\n",
    "plt.grid()\n",
    "idx = CellIndex(X, Y)\n",
    "print(\"Image coordinate: \", (X,Y))\n",
    "print(\"Meshgrid Index coordinate: \", idx)\n",
    "print('Likelyhood: ', z[idx])"
   ]
  },
  {
   "cell_type": "markdown",
   "id": "bd21328d-ac5c-4963-8095-4084e830f1c3",
   "metadata": {},
   "source": [
    "# Plot Sampling Label points\n",
    "\n",
    "Separate all the sample points so that z values fall into 4 bins\n",
    "\n",
    "Sample each of the 4 bins with varying probabilities to keep the sampling densities roughly the same. This is to keep labels roughly balanced.\n",
    "\n",
    "Of the 4 bins: \n",
    "\n",
    "- 0 is the lowest probability of bone \n",
    "- 1 is the next higher bone probability \n",
    "- 2 higher \n",
    "- 3 highest\n",
    "\n",
    "Empirically, I made the observation that simply using these density plots yields very poor model.\n",
    "\n",
    "\n",
    "### class labels:\n",
    "- **class 0** are places on the planet where you can confidently assert that no dinosaur bones are present\n",
    "- **class 1** are places where bones are likely to be found - the depositional environment is favorable, but to date not bones have been observed there. Class 1 is the one estimated from the Kernel density plot.\n",
    "- **class 2** are places where there are definitive waypoints with known bone sites\n",
    "\n",
    "\n",
    "Each label probability of choice is individually controllable via the variable **choice**\n"
   ]
  },
  {
   "cell_type": "code",
   "execution_count": null,
   "id": "7fcef88a",
   "metadata": {},
   "outputs": [],
   "source": [
    "# find the indices for all z values less than .1 we will consider these class 0\n",
    "\n",
    "choice = [2000, 1500, 450, 150]  # How many from each class to sample\n",
    "\n",
    "rng = np.random.default_rng(2021)\n",
    "\n",
    "dataL = []\n",
    "bins = 4\n",
    "for labelDec in range(bins):\n",
    "    label = labelDec/bins  # proportional multiple of 1/bins [0, 1/4, 2/4, 3/4]\n",
    "    idx_0, idy_0 = np.where((z >= label)  &  (z < label + 1/bins))\n",
    "    # identify all the places where z >= label\n",
    "    # store the places as idx_0, idy_0\n",
    "    # choice[0] = 2000, choice[1] = 1500, choice[2] = 450, etc...\n",
    "    # rng.choice selectsthe idx_0 indices according to specified sampling choice\n",
    "    id = rng.choice( [i for i in range(idx_0.shape[0])], choice[labelDec]) \n",
    "    for i in range(choice[labelDec]):\n",
    "        X = idx_0[id[i]] # randomly sampled X values indexed by bin (specific value of z)\n",
    "        Y = idy_0[id[i]] # randomly sampled Y values indexed by bin\n",
    "        dataL.append([xx[X,Y], yy[X,Y], label*bins])\n",
    "        data = np.array(dataL).astype(int)\n",
    "print(\"Done\")"
   ]
  },
  {
   "cell_type": "markdown",
   "id": "fa1f0846-a444-4af0-b96a-86ae801e6423",
   "metadata": {},
   "source": [
    "## Plot a sample image slice of size 224, 224\n",
    "\n",
    "This is one known bone location from Central New Mexico\n",
    "- left   = 1550\n",
    "- right  = left + 224\n",
    "- top    = 3250\n",
    "- bottom = top + 224"
   ]
  },
  {
   "cell_type": "code",
   "execution_count": null,
   "id": "2b4d798f-5e86-4d37-88f7-93491dfa5664",
   "metadata": {},
   "outputs": [],
   "source": []
  },
  {
   "cell_type": "code",
   "execution_count": null,
   "id": "42b2e888-8cea-4a46-a5eb-ec0c11711ff4",
   "metadata": {},
   "outputs": [],
   "source": [
    "left   = 1550\n",
    "right  = left + 224\n",
    "top    = 3250\n",
    "bottom = top + 224\n",
    "\n",
    "from PIL import Image\n",
    "CO = 'data/SomeWhereColorado.png'\n",
    "img = Image.open(CO)\n",
    "\n",
    "im1 = img.crop((left, top, right, bottom))\n",
    "print(im1.size)\n",
    "im1.show()"
   ]
  },
  {
   "cell_type": "markdown",
   "id": "ac46ba1a-aa22-4975-ac42-04f9c1ae0855",
   "metadata": {},
   "source": [
    "# Sample Thousands of Points from KDE\n",
    "\n",
    "Color them by bin level (4 bins) associated with contours of z"
   ]
  },
  {
   "cell_type": "code",
   "execution_count": null,
   "id": "f505cc11-af95-43fa-a44e-645c9571e5bc",
   "metadata": {},
   "outputs": [],
   "source": [
    "import matplotlib.pyplot as plt\n",
    "fig, ax = plt.subplots(figsize=(12, 12), dpi=80)\n",
    "\n",
    "\n",
    "ax.scatter(data[:,0], data[:,1].max() - data[:,1], c = data[:,2], s=4, cmap='viridis')\n",
    "#plt.colorbar()\n",
    "ax.legend()\n",
    "ax.grid(True)\n",
    "plt.show()"
   ]
  },
  {
   "cell_type": "markdown",
   "id": "1a30569e-858a-42c2-9bba-21e7ea1060e5",
   "metadata": {},
   "source": [
    "# Write Image Patches to Train & Val folders\n",
    "\n",
    "## # Special 4 Bin manually reassigned to 1\n",
    "\n",
    "Based on subject matter expertise, the bin 1 appears to be the best choice for calling the label class 1 (bone possible)\n",
    "\n",
    "Bin 0 cannot reliably predict NON Bone (the probabilities are still too high)\n",
    "\n",
    "Bin 3 cannot reliably predict bone as the smoothness or rounding of the surface provided by KDE is too broad and encompasses too many bone as well as Non bone regions. This can be controlled by the BW parameter but wins in getting better bone predictions by adjusting BW come at expense of LOSS of predictability of bone possible class 1.\n",
    "\n",
    "Move train 0 to class train 0\n",
    "Move y_train > train 0 to class train 1\n",
    "Copy reduced/train/NoBone... to class train 0\n",
    "Copy reduced/train/Bone... to class train 2\n",
    "\n",
    "Move val 0 to class val 0\n",
    "Move y_val > val 0 to class val 1\n",
    "Copy reduced/val/NoBone... to class val 0\n",
    "Copy reduced/val/Bone... to class val 2\n",
    "\n",
    "### Running Comment out cell below - will overwrite data folder\n",
    "\n",
    "Do so with specific intention\n",
    "\n",
    "The cell below has been commented out by selecting all lines and pressing CTRL /\n",
    "\n",
    "To run the cell: UNCOMMENT the entire cell - but realize this will write new images to the folder which need cleaning prior to training.\n",
    "\n",
    "This will create class 1 partial images that contain black regions of pixels that will negatively affect training. These images must be removed with a utility function.\n",
    "\n"
   ]
  },
  {
   "cell_type": "code",
   "execution_count": null,
   "id": "58f46dd2-9257-443d-819b-fb0e9d25fde3",
   "metadata": {},
   "outputs": [],
   "source": [
    "# import time\n",
    "# tStart = time.time()\n",
    "# import numpy as np\n",
    "# from sklearn.model_selection import train_test_split\n",
    "# from tqdm import tqdm \n",
    "\n",
    "# data = np.array(data).astype(int)\n",
    "\n",
    "# X_train, X_val, y_train, y_val = train_test_split(\n",
    "#     data[:,:2], data[:,2], test_size=0.2, random_state=42)\n",
    "# for i in tqdm(range(len(y_train))):\n",
    "\n",
    "#     fn = \"data/ThreeClassBalanced5000/train/{}/NMCentralX{:04d}Y{:04d}.png\".format(int(y_train[i]), X_train[i,0], X_train[i][1])\n",
    "#     left   = data[i][0]\n",
    "#     right  = left + 224\n",
    "#     top    = data[i][1]\n",
    "#     bottom = top + 224\n",
    "#     im1 = img.crop((left, top, right, bottom))\n",
    "#     im1.save(fn)\n",
    "#     im1.close()\n",
    "#     #print(fn)\n",
    "# print(\"Train Folder: Elapsed: \", tEnd - tStart)      \n",
    "# for i in tqdm(range(len(y_val))):\n",
    "#     if label != int(y_train[i]):\n",
    "#         print(int(y_train[i]))\n",
    "#     label = int(y_train[i])\n",
    "#     fn = \"data/ThreeClassBalanced5000/val/{}/NMCentralX{:04d}Y{:04d}.png\".format(y_val[i], X_val[i][0], X_val[i][1])\n",
    "#     left   = data[i][0]\n",
    "#     right  = left + 224\n",
    "#     top    = data[i][1]\n",
    "#     bottom = top + 224\n",
    "#     im1 = img.crop((left, top, right, bottom))\n",
    "#     im1.save(fn)\n",
    "#     im1.close()\n",
    "#     #print(fn)\n",
    "\n",
    "# # remove any .ipynb_checkpoint folders\n",
    "# ext = '*.ipynb_checkpoint'\n",
    "# for fn in glob.glob(Folder + ext):\n",
    "#     os.remove(fn, dir_fd=None)\n",
    "# F = 'data/reducedPNG/train/BoneAerialImagesReducedGE'\n",
    "# for fn in glob.glob(Folder + ext):\n",
    "#     os.remove(fn, dir_fd=None)\n",
    "# F = 'data/reducedPNG/train/NoBonesAerialImagesReducedGE'\n",
    "# for fn in glob.glob(Folder + ext):\n",
    "#     os.remove(fn, dir_fd=None)\n",
    "# F = 'data/reducedPNG/val/BoneAerialImagesReducedGE'\n",
    "# for fn in glob.glob(Folder + ext):\n",
    "#     os.remove(fn, dir_fd=None)\n",
    "# F = 'data/reducedPNG/val/NoBonesAerialImagesReducedGE'\n",
    "# for fn in glob.glob(Folder + ext):\n",
    "#     os.remove(fn, dir_fd=None)\n",
    "    \n",
    "# tEnd = time.time()\n",
    "# print(\"Train & Val: Elapsed \", tEnd - tStart)  "
   ]
  },
  {
   "cell_type": "code",
   "execution_count": null,
   "id": "f6a40010-11b6-4bbc-bd44-095ef666b598",
   "metadata": {},
   "outputs": [],
   "source": [
    "# !du --inodes data/ThreeClassBalanced5000/"
   ]
  },
  {
   "cell_type": "code",
   "execution_count": null,
   "id": "e920c3dd-e48c-463e-9e95-1b6fa62a5439",
   "metadata": {},
   "outputs": [],
   "source": [
    "# !rm -rf data/ThreeClassBalanced5000/train/0/.ipynb_checkpoints/\n",
    "# !rm -rf data/ThreeClassBalanced5000/train/1/.ipynb_checkpoints/\n",
    "# !rm -rf data/ThreeClassBalanced5000/train/2/.ipynb_checkpoints/\n",
    "\n",
    "# !rm -rf data/ThreeClassBalanced5000/val/0/.ipynb_checkpoints/\n",
    "# !rm -rf data/ThreeClassBalanced5000/val/1/.ipynb_checkpoints/\n",
    "# !rm -rf data/ThreeClassBalanced5000/val/2/.ipynb_checkpoints/\n"
   ]
  },
  {
   "cell_type": "markdown",
   "id": "cd491028-4914-4c58-8375-8c879a336f56",
   "metadata": {},
   "source": [
    "If you have any issues or want to contribute, please contact our authors:\n",
    "Intel oneAPI Solution Architect\n",
    "- Chesebrough, Bob [bob.chesebrough (at) intel.com]\n"
   ]
  },
  {
   "cell_type": "code",
   "execution_count": null,
   "id": "ad991468-47c7-45c6-8c34-320bd0f9db4a",
   "metadata": {},
   "outputs": [],
   "source": []
  }
 ],
 "metadata": {
  "kernelspec": {
   "display_name": "Python 3.8 (Intel® oneAPI)",
   "language": "python",
   "name": "c009-intel_distribution_of_python_3_oneapi-beta05-python"
  },
  "language_info": {
   "codemirror_mode": {
    "name": "ipython",
    "version": 3
   },
   "file_extension": ".py",
   "mimetype": "text/x-python",
   "name": "python",
   "nbconvert_exporter": "python",
   "pygments_lexer": "ipython3",
   "version": "3.9.10"
  }
 },
 "nbformat": 4,
 "nbformat_minor": 5
}
