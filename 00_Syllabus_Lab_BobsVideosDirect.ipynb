{
 "cells": [
  {
   "cell_type": "markdown",
   "id": "bcd6201c-680d-4d15-bcaf-ec5adccd7e86",
   "metadata": {
    "tags": []
   },
   "source": [
    "# Hunting Dinosaurs with Intel AI Technologies\n",
    "\n",
    "### Have you ever yearned for a dinosaur hunting adventure?\n",
    "\n",
    "<img src=\"assets/DNM_Camarasaurus.jpg\" width=\"500\"/>\n",
    "\n",
    "Come join me on journey of adventure discovering how AI can be used to find dinosaur bones!\n",
    "\n",
    "<video controls src=\"data/Excitement6.mp4\" width=\"1000\"/>\n",
    "\n",
    "https://youtu.be/bwroupuZfZE\n"
   ]
  },
  {
   "cell_type": "code",
   "execution_count": null,
   "id": "19109615-0017-42c2-b1a1-b0c8093298d0",
   "metadata": {},
   "outputs": [],
   "source": []
  },
  {
   "cell_type": "markdown",
   "id": "6decafe1-d1d0-4c5b-8575-89bf01a473ee",
   "metadata": {},
   "source": [
    "# Overview of steps:\n",
    "\n",
    "<img src=\"assets/Dino_bone_AI_overview.PNG\" width=\"800\"/>\n",
    "\n",
    "### Reminder: Obey All Laws!\n",
    "\n",
    "**Collecting** vertebrate fossils from Federal and State or other **public lands is ILLEGAL**.\n",
    "\n",
    "If you find suspected vertebrate fossils DO NOT TAKE THEM. Record their position, photograph them , video them to get a sense of the 3D nature of the sample and report it to a paleontologist at a nearby museum or University.\n",
    "\n",
    "## Preparation steps:\n",
    "```\n",
    "mkdir Jurassic\n",
    "cd Jurassic\n",
    "pip install -r requirements.txt\n",
    "git clone https://github.com/IntelSoftware/Jurassic.git\n",
    "```\n",
    "### For laptop\n",
    "```\n",
    "wget -O data.zip \"https://www.dropbox.com/s/ihkbox8vqksb2ii/data.zip?dl=0\n",
    "unzip data.zip\n",
    "```\n",
    "### On DevCloud:   \n",
    "```\n",
    "cp /data/oneapi_workshop/big_datasets/jurassic/jurassic.tar.gz .\n",
    "tar zxvf jurassic.tar.gz; mv jurassic Data\n",
    "```\n",
    "\n",
    "#### AI was used to help find the bone location for this sample in Utah in June, 2022.\n"
   ]
  },
  {
   "cell_type": "markdown",
   "id": "0ea15247-c4b8-484c-8885-a2816c471bce",
   "metadata": {},
   "source": [
    "# About Intel® AI Analytics Toolkit and stock packages powered by oneAPI\n",
    "<img src=\"assets/AIAnalyticsToolkitOverview.jpg\" width=\"1000\"/>\n",
    "\n",
    "- [Back to Sections](#Back_to_Sections)\n",
    "\n",
    "The Intel® oneAPI AI Analytics Toolkit gives data scientists, AI developers, and researchers who are familiar Python* tools and frameworks the ability to accelerate end-to-end data science and analytics pipelines on Intel® architectures. The components are built using oneAPI libraries for low-level compute optimizations. This toolkit maximizes performance from preprocessing through machine learning, and provides interoperability for efficient model development.\n",
    "\n",
    "The value: Using this toolkit, you can:\n",
    "\n",
    " - Deliver high-performance deep learning (DL) training on Intel® XPUs and integrate fast inference into your AI development workflow with Intel-optimized DL frameworks: TensorFlow* and PyTorch*, pretrained models, and low-precision tools. \n",
    " - Achieve drop-in acceleration for data preprocessing and machine learning workflows with compute-intensive Python* packages: Modin*, scikit-learn*, and XGBoost* optimized for Intel.\n",
    " - Gain direct access to Intel analytics and AI optimizations to ensure that your software works together seamlessly.\n",
    " - This module will focus exclusively on the value provided via the Intel(r) Extensions for scikit-learn*\n",
    " \n",
    "* Download and install the onaAPI AI toolkit\n",
    "  * [Download via Conda, Pip, Docker and more](https://www.intel.com/content/www/us/en/developer/articles/guide/intel-extension-for-scikit-learn-getting-started.html#inpage-nav-2)\n",
    "  *  [Information about acquiring oneAPI AI Toolkit](https://intel.github.io/scikit-learn-intelex/installation.html)"
   ]
  },
  {
   "cell_type": "code",
   "execution_count": null,
   "id": "5c1b4723-06d5-4b5e-ac25-3c86e629449c",
   "metadata": {},
   "outputs": [],
   "source": []
  },
  {
   "cell_type": "markdown",
   "id": "c6b7c45e-fe18-4c98-910a-c125fbda3d45",
   "metadata": {},
   "source": [
    "\n",
    "# [01_Introduction](01_Introduction.ipynb)\n",
    "\n",
    "## Informational Only: No exercise!\n",
    "\n",
    "This notebook is intended to define terms and set the context required to understand how this AI model works from a geophysical and Aerial photo perspective. Especially, you need to understand that it is the **depositional environments** that are the key features in the images, **NOT actual bones themselves** - Generally bone are fragmented and disarticulated to such a degree that there is virtually no chance of seeing the bones themselves from an aerial photo*\n",
    "\n",
    "| **This is what the AI is trained to look for** | |\n",
    "| :---: | :---: |\n",
    "|<img src=\"assets/MorrisonBrushyBasinMember.jpg\" width=\"500\"/>| <img src=\"assets/BobBenRTL.jpg\" width=\"500\"/>|\n",
    "\n",
    "* see exception below"
   ]
  },
  {
   "cell_type": "markdown",
   "id": "0123f5a6-a4fb-4b2d-b84c-96ff4d6217e5",
   "metadata": {
    "tags": []
   },
   "source": [
    "# [02_ContextMatters_Clustering](02_ContextMattersClustering.ipynb)\n",
    "\n",
    "## Complete the exercise!\n",
    "\n",
    "#### Identifying Bone Through Context!\n",
    "\n",
    "We will demonstrate using clustering to help identify whether the fossils we have found are dinosaur bones or other fossils such as petrified wood, crocodile or turtle bones, marine animal fossils such as shark teeth\n",
    "\n",
    "The dark objects in the following image are all fragmented dinosaur bones. there is a large enough extent of these that they can be seen in Google Earth. I use this phot to illustrate the importance of context. a few of the smaller samples of these bones are difficult to determine, without magnification, whether they are dinosaur bones or not, but the larger fragments in close proximity paint a clear picture, that these are all indeed dinosaur bones.\n",
    "\n",
    "Below is an excellent example of how bone fragments cluster and in this rare extreme they can be seen from aerial photos!\n",
    "\n",
    "\n",
    "| **One larger bone fragment** | **Half the fragments up close** | \n",
    "| :----: | :----: | \n",
    "|<img src=\"assets/BlackBones20150319_1316IMG_6259.jpg\" width=\"500\"/>| <img src=\"assets/BlackBones20150319_1315IMG_6255.jpg\" width=\"500\"/>|\n",
    "| **aerial photo of fragments** | **Zoomed in further** |\n",
    "|<img src=\"assets/BlackBonesZoomedOutRedCircle.jpg\" width=\"500\"/>| <img src=\"assets/BlackBonesZoomedInRedCircle.jpg\" width=\"500\"/>|\n",
    " \n"
   ]
  },
  {
   "cell_type": "markdown",
   "id": "4822f0b9-dc89-4830-bc9f-5efe0a597082",
   "metadata": {},
   "source": [
    "# [03_SiteDensityMap](03_SiteDensityMap.ipynb)\n",
    "\n",
    "\n",
    "## Informational Only: No exercise!\n",
    "\n",
    "Use 2D kernel density (\"histogram\") to label the fuzzy zone where bones were not technically yet found but where bones are certainly possible\n",
    "\n",
    "This way we will create labels for three classes\n",
    "- 0: no bones have been found and most likely never will be found here\n",
    "- 1: bones could be found here (use 2D KDE to label these)\n",
    "- 2: bone HAVE been found here\n",
    "\n",
    "\n",
    "\n",
    "<img src=\"assets/2DGaussianKernelDensityEstimation.jpg\" width=\"500\"/>\n",
    "\n",
    "\n",
    "<img src=\"assets/WhySupervised.jpg\" width=\"800\"/>"
   ]
  },
  {
   "cell_type": "markdown",
   "id": "10562fc5-882e-453b-ad9e-0545a324913a",
   "metadata": {
    "tags": []
   },
   "source": [
    "# [04_SemiSupervisedLabeling.ipynb](04_SemiSupervisedLabeling.ipynb)\n",
    "\n",
    "\n",
    "## Informational Only: No exercise!\n",
    "\n",
    "<img src=\"assets/SampledDistribution.jpg\" width=\"500\"/>"
   ]
  },
  {
   "cell_type": "markdown",
   "id": "e620d0fb-aeda-401d-9ffc-aa66b36e3e3c",
   "metadata": {},
   "source": [
    "# [05_AcquiringAerialPhotos](05_AcquiringAerialPhotos.ipynb)\n",
    "\n",
    "## Informational Only: No exercise!\n",
    "\n",
    "Requires registering with Google Earth Engine!\n",
    "\n",
    "![assets/code.earthengine.google.com](assets/code.earthengine.google.com.jpg)"
   ]
  },
  {
   "cell_type": "markdown",
   "id": "5efb2b4f-b1ac-4ba0-adf8-361dd082eaff",
   "metadata": {},
   "source": [
    "# [06_ImagePrepTileImage](06_ImagePrepTileImage.ipynb)\n",
    "\n",
    "\n",
    "## Informational Only: No exercise!\n",
    "\n",
    "![assets/SliceAerialPhoto.jpg](assets/SliceAerialPhoto.jpg)\n",
    "\n",
    "![assets/Re-assembleTilesIntoMap.jpg](assets/Re-assembleTilesIntoMap.jpg)"
   ]
  },
  {
   "cell_type": "markdown",
   "id": "9fb23917-fcb8-41d1-98cc-2b4d78bd09b6",
   "metadata": {},
   "source": [
    "# [07_BuildTrainScorePyTorchModel](07_BuildTrainScorePyTorchModel.ipynb)\n",
    "\n",
    "Below is the required folder structure for the model to use to train and validate against.\n",
    "\n",
    "## Complete the exercise!\n",
    "\n",
    "<img src=\"assets/FolderStructure.jpg\" width=\"500\"/>"
   ]
  },
  {
   "cell_type": "markdown",
   "id": "52aa1bd9-6506-4c5b-a123-41546b83bd56",
   "metadata": {},
   "source": [
    "# [08_TestModel](08_TestModel.ipynb)\n",
    "\n",
    "\n",
    "## Informational Only: No exercise!\n",
    "\n",
    "Sanity check the model against known values - Display Confusion Matrix\n",
    "\n",
    "<img src=\"assets/TestModel.jpg\" width=\"500\"/>\n"
   ]
  },
  {
   "cell_type": "markdown",
   "id": "5eb925d8-33e3-4617-9aa8-e23b243c1933",
   "metadata": {},
   "source": [
    "# [09_Dino_bone_find_OpenVINO](09_Dino_bone_find_OpenVINO.ipynb)\n",
    "\n",
    "## Back to the slides and to Raymond!\n",
    "\n",
    "Use OpenVINO to accelerate the model for production.\n",
    "\n",
    "## Complete the exercise!\n",
    "Repeat the work on your laptop / PC and show us the results.\n",
    "<img src=\"assets/openVINO-OptimizationOverview.PNG\" width=\"800\"/>"
   ]
  },
  {
   "cell_type": "markdown",
   "id": "1a4dafb2-9bfc-43c3-b336-f7a78f20fca0",
   "metadata": {},
   "source": [
    "# [10_ScoreAndMap](10_ScoreAndMap.ipynb)\n",
    "\n",
    "\n",
    "## Informational Only: No exercise!\n",
    "\n",
    "Create a map using the optimized model\n",
    "\n",
    "| Dinosaur National Monument | Main Building |\n",
    "| :---: | :---: |\n",
    "| <img src=\"assets/DNM_ThreeClassMainCircled.jpg\" width=\"420\"/> |<img src=\"assets/DNM_Camarasaurus.jpg\" width=\"550\"/>|\n",
    "\n",
    "## Final proof\n",
    "\n",
    "### Dinosaur map from near Moab, UT - NOT near Dinosaur National Monument\n",
    "\n",
    "<video controls src=\"assets/VideoTestingInThe FieldShort34.mp4\" width=\"1000\" />\n"
   ]
  },
  {
   "cell_type": "markdown",
   "id": "5ba1c67a-3f1c-4ee2-9ba7-18c8287b3281",
   "metadata": {},
   "source": [
    "# [11_Closing_Comments](11_Closing_Comments.ipynb)\n",
    "\n",
    "## Call To Action\n",
    "Install Toolkits powered by Intel oneAPI\n",
    "\n",
    "### Download Intel® toolkits powered by oneAPI\n",
    "\n",
    "<img src=\"assets/CapchkaAIKit.png\" width=\"800\"/>\n",
    "\n",
    "\n",
    "\n",
    "\n",
    "### Play with the code:\n",
    "\n",
    "- GIT: https://github.com/intelsoftware/jurassic\n",
    "\n",
    "\n",
    "## Reminder: Obey All Laws!\n",
    "\n",
    "**Collecting** vertebrate fossils from Federal and State or other **public lands is ILLEGAL**.\n",
    "\n",
    "If you find suspected vertebrate fossils DO NOT TAKE THEM. Record their position, photograph them , video them to get a sense of the 3D nature of the sample and report it to a paleontologist at a nearby museum or University.\n",
    "\n",
    "\n",
    "## Informational Only: No exercise!\n",
    "\n",
    "**Collecting** vertebrate fossils on Federal, State or other **public lands is Illegal** without official permission for Federal or State authority.\n",
    "\n",
    "### Leave fossils for future generations!\n",
    "\n",
    "\n",
    "\n"
   ]
  },
  {
   "cell_type": "markdown",
   "id": "7836d751-b1a3-4613-8cde-ed7e13589fce",
   "metadata": {},
   "source": [
    "## Biographical Information\n",
    "\n",
    "Bob Chesebrough is a Solution Engineer/Technical Evangelist supporting oneAPI AI at Intel Corporation. He is an avid **amateur** dinosaur bone aficionado. His paleo credits include:\n",
    "1) Poster: Geological Society of America Annual Meeting 2019: [STRATIGRAPHY, DEPOSITIONAL ENVIRONMENT, AND TAPHONOMY OF A MASS BONE BED IN THE JURASSIC MORRISON FORMATION, OJITO WILDERNESS, NEW MEXICO: EXPANDING OUR UNDERSTANDING OF NEW MEXICO FOSSIL LOCALITIES](https://gsa.confex.com/gsa/2019AM/webprogram/Paper341299.html)  CHESEBROUGH, Robert, CHESEBROUGH, Benjamin, CHESEBROUGH, Samuel and WHEATLEY, Dr. David F\n",
    "\n",
    "<img src=\"assets/PrehistoricCroc.PNG\" width=\"500\"/>\n",
    "\n",
    "1) Fossil Record 7: NMMNH Bulletin 82 [\"A LATE JURASSIC CROCODILE FROM NEW MEXICO\"](assets/25-jcroc.pdf) Authors: Lucas, Rinehart, Chesebrough\n",
    "1) [Phys.org/News 2019-9: Prehistoric crocodile fossil discovered in New Mexico](https://phys.org/news/2019-09-prehistoric-crocodile-fossil-mexico.html)\n",
    "1) [Media Release: Prehistoric Crocodile Fossil Discovered in New Mexico](https://media.newmexicoculture.org/release/1015/prehistoric-crocodil)\n",
    "1) Unpublished 2,250 bone site descriptions recorded into New Mexico Museum of Natural History"
   ]
  },
  {
   "cell_type": "markdown",
   "id": "9ae420be-3443-4990-9995-703aa1632571",
   "metadata": {},
   "source": [
    "If you have any issues or want to contribute, please contact our authors:\n",
    "Intel oneAPI Solution Architect\n",
    "- Chesebrough, Bob [bob.chesebrough (at) intel.com]\n"
   ]
  },
  {
   "cell_type": "markdown",
   "id": "fb39d1b0-2374-49b9-a23b-5029380cbefb",
   "metadata": {},
   "source": [
    "## Notices and Disclaimers\n",
    "\n",
    "Intel technologies may require enabled hardware, software or service activation.\n",
    "\n",
    "No product or component can be absolutely secure. \n",
    "\n",
    "Your costs and results may vary. \n",
    "\n",
    "© Intel Corporation. Intel, the Intel logo, and other Intel marks are trademarks of Intel Corporation or its subsidiaries. Other names and brands may be claimed as the property of others. \n"
   ]
  },
  {
   "cell_type": "markdown",
   "id": "63415228-8326-49fa-9cfb-215d87e6c9c6",
   "metadata": {},
   "source": [
    "# Credits:\n",
    "\n",
    "- Photography and videos provided by Bob, Ben, & Sam Chesebrough\n",
    "- Morrison Exposure US Map: Hand drawn estimation of Jurrasic locations in the Western United States by Bob Chesebrough\n",
    "- Dinosaur National Monument Geologic Map: https://www.utah.gov/support/disclaimer.html"
   ]
  },
  {
   "cell_type": "code",
   "execution_count": null,
   "id": "f69b9f6a-138d-4142-97d5-331a84b1f929",
   "metadata": {},
   "outputs": [],
   "source": []
  }
 ],
 "metadata": {
  "kernelspec": {
   "display_name": "Python 3.8 (Intel® oneAPI)",
   "language": "python",
   "name": "c009-intel_distribution_of_python_3_oneapi-beta05-python"
  },
  "language_info": {
   "codemirror_mode": {
    "name": "ipython",
    "version": 3
   },
   "file_extension": ".py",
   "mimetype": "text/x-python",
   "name": "python",
   "nbconvert_exporter": "python",
   "pygments_lexer": "ipython3",
   "version": "3.9.10"
  },
  "nbTranslate": {
   "displayLangs": [
    "*"
   ],
   "hotkey": "alt-t",
   "langInMainMenu": true,
   "sourceLang": "en",
   "targetLang": "fr",
   "useGoogleTranslate": false
  },
  "toc": {
   "base_numbering": 1,
   "nav_menu": {},
   "number_sections": true,
   "sideBar": true,
   "skip_h1_title": false,
   "title_cell": "Table of Contents",
   "title_sidebar": "Contents",
   "toc_cell": false,
   "toc_position": {},
   "toc_section_display": true,
   "toc_window_display": false
  }
 },
 "nbformat": 4,
 "nbformat_minor": 5
}
