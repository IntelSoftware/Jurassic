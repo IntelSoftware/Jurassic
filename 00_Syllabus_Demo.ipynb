{
 "cells": [
  {
   "cell_type": "markdown",
   "id": "bcd6201c-680d-4d15-bcaf-ec5adccd7e86",
   "metadata": {
    "tags": []
   },
   "source": [
    "# Hunting Dinosaurs with Intel AI Technologies\n",
    "\n",
    "### Welcome to this demo \n",
    "\n",
    "I am going to show you how to use Intel AI to hunt dinosaur bones! Join me for the thrill of discovery all the way to our final map!\n",
    "\n",
    "Come join me on journey of adventure discovering how AI can be used to find dinosaur bones!\n",
    "\n",
    "<video controls src=\"assets/VideoDemoExciteShort13LimbBoulder.mp4\" width=\"800\"/>\n",
    "\n",
    "<img src=\"assets/IntelAISWPortfolio.PNG\" width=\"800\"/>"
   ]
  },
  {
   "cell_type": "markdown",
   "id": "6decafe1-d1d0-4c5b-8575-89bf01a473ee",
   "metadata": {
    "tags": []
   },
   "source": [
    "# Tools\n",
    "\n",
    "Today we will be using Intel Extensions to Scikit-learn*, Intel Extension for PyTorch*, and Intel OpenVINO\n",
    "\n",
    "<img src=\"assets/IntelAISWPortfolio.PNG\" width=\"800\"/>\n",
    "\n",
    "\n",
    "# Create a Dinosaur Site Treasure Map\n",
    "\n",
    "## Collect\n",
    "\n",
    "I’m going to walk you through the conceptual process first, We start with latitude and longitude of fossil locations\n",
    "\n",
    "<img src=\"assets/SyllabusCollect.PNG\" width=\"500\"/>\n",
    "\n",
    "## Cluster/Classify Tabular Data\n",
    "\n",
    "We cluster GPS fossil locations using KMeans from the Intel® Extension for Scikit-learn* using the code snippet above . \n",
    "\n",
    "The clusters tend to reveal that fossils of a similar nature are found together. \n",
    "\n",
    "## [02_ContextMatters_Clustering](02_ContextMattersClustering.ipynb)\n",
    "\n",
    "<img src=\"assets/SyllabusCluster.PNG\" width=\"800\"/>\n",
    "\n",
    "## Semi-Supervised Labels on Tabular Data\n",
    "\n",
    "We use 2D Gaussian Kernel Density Estimation to examine fossil location density and create labels *no bone, bone very likely, and bone possible.*\n",
    " \n",
    "## [03_SiteDensityMap](03_SiteDensityMap.ipynb)  &  [04_SemiSupervisedLabeling.ipynb](04_SemiSupervisedLabeling.ipynb)\n",
    "\n",
    "<img src=\"assets/SyllabusSemiSupervised.PNG\" width=\"800\"/>\n",
    "\n",
    "## Acquire Aerial Photos from NM\n",
    "\n",
    "We acquire the aerial photos from New Mexico as training data, and prep the image tiles.\n",
    "\n",
    "The labeled aerial photos help us get to a dinosaur bone likelihood map.\n",
    "\n",
    "##  [05_AcquiringAerialPhotos](05_AcquiringAerialPhotos.ipynb) & [06_ImagePrepTileImage](06_ImagePrepTileImage.ipynb)\n",
    "\n",
    "<img src=\"assets/SyllabusNMAerial.PNG\" width=\"500\"/>\n",
    "\n",
    "\n",
    "## Train Model on NM Photos\n",
    "\n",
    "We transform aerial photos into tensors, then apply a ResNet18 model in PyTorch to classify each of the three image classes:\n",
    "- Definitely no bones\n",
    "- Bones are possible\n",
    "- Found bones\n",
    "\n",
    "Training is accelerated with the IPEX snippet above\n",
    "\n",
    "##  [07_BuildTrainScorePyTorchModel](07_BuildTrainScorePyTorchModel.ipynb)\n",
    "\n",
    "<img src=\"assets/SyllabusNMTrainedModel.PNG\" width=\"800\"/>\n",
    "\n",
    "## Score Quickly on CPU\n",
    "\n",
    "We optimize the ResNet18 PyTorch model by converting to ONNX, then to an OpenVINO™ toolkit model. Now Utah photos are scored, and a bone map is created for Dinosaur National Monument. \n",
    "\n",
    "## [09_Dino_bone_find_OpenVINO](09_Dino_bone_find_OpenVINO.ipynb)\n",
    "\n",
    "<img src=\"assets/SyllabusScoreMoreQuickly.PNG\" width=\"800\"/>\n",
    "\n",
    "## Validate Map: Dinoaur National Monument, UT\n",
    "\n",
    "The circled structure contains bone! Confirming our model\n",
    "\n",
    "<img src=\"assets/SyllabusHeatMapDNMCircled.png\" width=\"800\"/>\n",
    "\n",
    "\n",
    "|<img src=\"assets/Dinosaur National Monument Building DSC_0135.JPG\" width=\"400\"/> | <img src=\"assets/DNM_Camarasaurus.jpg\" width=\"400\"/> |\n",
    "\n",
    "## Ultimate Validation: Moab, UT\n",
    "\n",
    "<video controls src=\"assets/VideoTestingInThe FieldShort34.mp4\" width=\"800\" />\n",
    "\n"
   ]
  },
  {
   "cell_type": "markdown",
   "id": "6442297c-69b4-435b-a374-f8066f66ac19",
   "metadata": {},
   "source": [
    "\n",
    "## Call To Action\n",
    "\n",
    "Join us for the “Hunting Dinosaurs with Intel Accelerated  Technologies” workshop\n",
    "GIT: https://github.com/intelsoftware/jurassic\n",
    "\n",
    "\n",
    "## Reminder: Obey All Laws!\n",
    "\n",
    "**Collecting** vertebrate fossils from Federal and State or other **public lands is ILLEGAL**.\n",
    "\n",
    "If you find suspected vertebrate fossils DO NOT TAKE THEM. Record their position, photograph them , video them to get a sense of the 3D nature of the sample and report it to a paleontologist at a nearby museum or University."
   ]
  },
  {
   "cell_type": "code",
   "execution_count": null,
   "id": "4ee88c62-8275-4bd1-8711-6d781421aba4",
   "metadata": {},
   "outputs": [],
   "source": []
  }
 ],
 "metadata": {
  "kernelspec": {
   "display_name": "Python 3.8 (Intel® oneAPI)",
   "language": "python",
   "name": "c009-intel_distribution_of_python_3_oneapi-beta05-python"
  },
  "language_info": {
   "codemirror_mode": {
    "name": "ipython",
    "version": 3
   },
   "file_extension": ".py",
   "mimetype": "text/x-python",
   "name": "python",
   "nbconvert_exporter": "python",
   "pygments_lexer": "ipython3",
   "version": "3.9.10"
  },
  "nbTranslate": {
   "displayLangs": [
    "*"
   ],
   "hotkey": "alt-t",
   "langInMainMenu": true,
   "sourceLang": "en",
   "targetLang": "fr",
   "useGoogleTranslate": false
  },
  "toc": {
   "base_numbering": 1,
   "nav_menu": {},
   "number_sections": true,
   "sideBar": true,
   "skip_h1_title": false,
   "title_cell": "Table of Contents",
   "title_sidebar": "Contents",
   "toc_cell": false,
   "toc_position": {},
   "toc_section_display": true,
   "toc_window_display": false
  }
 },
 "nbformat": 4,
 "nbformat_minor": 5
}
