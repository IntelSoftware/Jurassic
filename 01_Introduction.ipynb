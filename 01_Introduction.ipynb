{
 "cells": [
  {
   "cell_type": "markdown",
   "id": "d5519635-c2c7-41c7-a9c2-a85c805ab1ea",
   "metadata": {},
   "source": [
    "## Can AI be used to help narrow down areas to search?\n",
    "\n",
    "<img src=\"assets/LetTheAdventureBegin.png\" width=\"800\"/>\n",
    "\n",
    "- How can innovations from Intel help AI approaches we might take?\n",
    "- Intel provides Intel Extensions for Scikit-learn* to accelerate task such as train_test_split, clustering, classification, and regression.\n",
    "- Intel® Extension for PyTorch* provides simple frontend Python APIs and utilities for users to get performance optimizations such as graph optimization and operator optimization with minor code changes. Typically, only 2 to 3 clauses are required to be added to the original code. \n",
    "- Intel® Distribution of OpenVINO™ Toolkit allows us to deploy High-Performance, Deep Learning Inference \n",
    "\n",
    "Come with us on a two hour tour with hands on activities to create a dinosaur bone bed map of likely places to search at the Dinosaur National Monument - See picture above of what has already been found there in years past.\n",
    "\n",
    "\n"
   ]
  },
  {
   "cell_type": "markdown",
   "id": "a0e97129-0cc0-48da-91db-76dcaa203a0e",
   "metadata": {
    "tags": []
   },
   "source": [
    "# Exercise: Try Your Hand at  Predicting Dino Hunting Grounds!\n",
    "Not easy is it?\n",
    "\n",
    "## Prepare for an upcoming quiz!\n",
    "\n",
    "Study the aerial photo below and identify the patterns that predict dinosaur bone depositional environment. The red dots are actual locations in Dinosaur National Monument that we found small bone fragments - the red dot on the far left is the building housing hundreds of bones.\n",
    "\n",
    "<img src=\"assets/QuizShow_ThisDepositionalEnvironmentGood.PNG\" width=\"500\"/>\n",
    "\n",
    "## Take the quiz:\n",
    "\n",
    "Its 100 degrees Fahrenheit (38 C) , you have three bottles of water, you have two hours to find dinosaur bones, you are parked at the designated parking area - where do you look?\n",
    "\n",
    "identify one thumbnail sized region where bones are likely to be found\n",
    "\n",
    "| Mill Creek|\n",
    "|-----|\n",
    "| <img src=\"assets/QuizShow_MillCreekDinoGuess.PNG\" width=\"500\"/>  |\n",
    "\n",
    "\n",
    "## AI Map suggestions are as follows:\n",
    "\n",
    "| Mill Creek|\n",
    "|-----|\n",
    "| <img src=\"assets/QuizShow_MillCreekDinoSolutionKey.PNG\" width=\"500\"/>  |"
   ]
  },
  {
   "cell_type": "markdown",
   "id": "3d31f970-4cec-4c7f-bf00-219221c449a9",
   "metadata": {},
   "source": [
    "# Our Goal: Create a Dinosaur Hunting-grounds Map\n",
    "\n",
    "<div>\n",
    "<img src=\"assets/DNM_ThreeClassMainCircledThumb.jpg\" width=\"500\"/>\n",
    "</div>\n",
    "\n"
   ]
  },
  {
   "cell_type": "markdown",
   "id": "db99633f-fb4f-4213-9736-c6cecb2eb7c7",
   "metadata": {
    "tags": []
   },
   "source": [
    "\n",
    "## Dinosaur bones are rare! \n",
    "\n",
    "But they occur more frequently in certain geological deposits that represent ancient deposition of sediments that captured bones and other trace evidence of ancient animals.\n",
    "\n",
    "One of the first and one of the most famous bone bearing geological formations is named the Morrison Formation, which geologists tell us formed sometime near 150 million years ago.  \n",
    "\n",
    "The geographic extent of the Morrison formation is depicted in the [following map](https://www.researchgate.net/figure/Map-of-the-study-area-showing-outcrop-distribution-for-the-Morrison-Formation-and_fig3_275400392). Notice how spindly and threadlike the Morrison formation extends over the western US. As you might imagine, a random walk throughout the western US would very rarely tread upon Morrison formation soil.\n",
    "\n",
    "<img src=\"assets/US Morrison Map.jpg\" width=\"500\"/>\n",
    "\n",
    "- Morrison Exposure US Map: Hand drawn estimation of Jurassic locations in the Western United States by Bob Chesebrough\n",
    "\n",
    "### The Morrison formation has a very distinctive look.\n",
    "\n",
    "# AI: NOT Searching for Bones!\n",
    "\n",
    "### It is Searching for similar depositional environments!\n",
    "\n",
    "The model is trained on the aerial photos (NOT satellite images which do not have enough resolution). These are typically flown at ~ 120,000 feet and while they have much more resolutions to see individual boulders and trees, there is not nearly enough resolution to find typical dinosaur bone fragments.\n",
    "\n",
    "| <img src=\"assets/MorrisonBrushyBasinMember.jpg\" width=\"500\"/> | <img src=\"assets/Depositional Environment IMG_5503_Bob,Ben,RTL.jpg\" width=\"500\"/>  |\n",
    "| :---: | :---: | \n",
    "\n",
    "This look, of the colors, the textures, the variety of rock shapes and sizes, taken together, create a signature that can be identified using AI.\n",
    "\n",
    "Here are a few aerial photo tiles that are indicative of the Brushy Basin Member:\n",
    "\n",
    "### Indicative aerial photos of Brushy Basin Member\n",
    "| <img src=\"assets/VFDragonsBack08.png\" width=\"224\"/> | <img src=\"assets/Baltic4.png\" width=\"224\"/>  |\n",
    "| --- | --- | \n",
    "| <img src=\"assets/Batwing32.png\" width=\"224\"/>  | <img src=\"assets/HFDragonsBack04.png\" width=\"224\"/>  |\n",
    "\n",
    "In this workshop we will develop AI code in several end-to-end machine learning stages from the earliest stages all the way to a deployment. We will bring to bear several AI technologies from Intel to create a bone bed search map for the Dinosaur National Monument in Utah (where I took the photo of the Camarasaurus Skelton at the top of the page)\n",
    "\n",
    "\n",
    "### Model Trained on New Mexico Aerial Photos \n",
    "\n",
    "##### Model predicts and creates Map for DNM Utah\n",
    "\n",
    "We will create a bone likelihood map from an AI image model (Resnet) using aerial photos of known but secret locations in New Mexico. The map we create, however, will depict Dinosaur National Monument, near Jensen, Utah!\n",
    "\n",
    "The depositional environments of the central New Mexico sites and the Dinosaur National Monument sites are very similar (but not identical). Nevertheless, the generated map is good at predicting the most likely patches of ground (250-meter square regions) to narrow your search along the dinosaur trail!\n",
    "\n",
    "The map is NOT perfect. While the deposition at the two localities is very similar, there are distinctive differences as well. So, the fact that the map works at all is amazing.\n",
    "\n",
    "<img src=\"assets/CentralNMMorrison.jpg\" width=\"500\"/>\n",
    "Much of Central New Mexico’s Morrison exposure is roughly level, the sandstone and claystone layers are roughly horizontal for a large portion.\n",
    "\n",
    "<img src=\"assets/DNMUtahMorrison.jpg\" width=\"500\"/>\n",
    "\n",
    "Dinosaur National Monument's Morrison layers are severely tilted. This means the bone bearing region is smaller across the surface and breaks and erodes in a dissimilar way from maps generated for Dinosaur National Monument which have been trained on Central NM images.\n",
    "\n",
    "Nevertheless, here is one of the better AI maps generated for Dinosaur National Monument.\n",
    "\n",
    "<img src=\"assets/DNM_ThreeClassMainCircled.jpg\" width=\"500\"/>\n",
    "\n",
    "The dark green squares are the model’s prediction of the best areas to search within Dinosaur National Monument. Notice the **small red circle** in the lower center portion? That is a **building housing the excavation of the hundreds of bones at DNM including the Camarasaurus skull** at the top of the page. This is a close up of that building nestled into the depositional context in which the bones are actually found.\n",
    "\n",
    "<img src=\"assets/Dinosaur National Monument Building DSC_0135.JPG\" width=\"500\"/>\n",
    "\n",
    "The horizontal bands in the lower portion of the map, encompassing the building, are indeed the best places to search for dinosaur bones at DNM. Comparison to a geological map of the area will show that the AI map is wrong in the upper right and wedge in the left middle. BUT - if you were to follow this map you would be successful in finding bones not yet excavated at the site!\n",
    "\n",
    "\n",
    "\n",
    "# Credits:\n",
    "\n",
    "- Photography and videos provided by Bob, Ben, & Sam Chesebrough\n",
    "- Morrison Exposure US Map: Hand drawn estimation of Jurassic locations in the Western United States by Bob Chesebrough\n",
    "- Dinosaur National Monument Geologic Map: https://www.utah.gov/support/disclaimer.html"
   ]
  },
  {
   "cell_type": "markdown",
   "id": "94d333a1-3495-4489-ba75-16e21f170342",
   "metadata": {},
   "source": [
    "If you have any issues or want to contribute, please contact our authors:\n",
    "Intel oneAPI Solution Architect\n",
    "- Chesebrough, Bob [bob.chesebrough (at) intel.com]\n"
   ]
  },
  {
   "cell_type": "markdown",
   "id": "d725ba5c-787b-41df-9e52-a14d080180c6",
   "metadata": {},
   "source": [
    "## Notices and Disclaimers\n",
    "\n",
    "Intel technologies may require enabled hardware, software or service activation.\n",
    "\n",
    "No product or component can be absolutely secure. \n",
    "\n",
    "Your costs and results may vary. \n",
    "\n",
    "© Intel Corporation. Intel, the Intel logo, and other Intel marks are trademarks of Intel Corporation or its subsidiaries. Other names and brands may be claimed as the property of others. "
   ]
  },
  {
   "cell_type": "code",
   "execution_count": null,
   "id": "9d45c171-fffb-4185-ada1-5dcb5aa1c1d8",
   "metadata": {},
   "outputs": [],
   "source": []
  }
 ],
 "metadata": {
  "kernelspec": {
   "display_name": "Python 3.8 (Intel® oneAPI)",
   "language": "python",
   "name": "c009-intel_distribution_of_python_3_oneapi-beta05-python"
  },
  "language_info": {
   "codemirror_mode": {
    "name": "ipython",
    "version": 3
   },
   "file_extension": ".py",
   "mimetype": "text/x-python",
   "name": "python",
   "nbconvert_exporter": "python",
   "pygments_lexer": "ipython3",
   "version": "3.9.10"
  }
 },
 "nbformat": 4,
 "nbformat_minor": 5
}
