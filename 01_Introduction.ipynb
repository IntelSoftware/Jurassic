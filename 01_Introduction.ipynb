{
 "cells": [
  {
   "cell_type": "markdown",
   "id": "1ad271ea-aa7d-4852-8c1d-1e11fc4b8437",
   "metadata": {},
   "source": [
    "# Hunting Dinosaurs with Intel AI Technologies\n",
    "\n",
    "### Have you ever yearned for a dinosaur hunting adventure?\n",
    "\n",
    "![assets/DNM_Camarasaurus.jpg](assets/DNM_Camarasaurus.jpg)\n",
    "\n",
    "- Can AI be used to help narrow down areas to search?\n",
    "\n",
    "- How can innovations from Intel help AI approaches we might take?\n",
    "\n",
    "Come with us on a two hour tour with hands on activities to create a dinosaur bone bed map of likley places to search at the Dinosaur National Moument - See picture above of what has already been found there in years past"
   ]
  },
  {
   "cell_type": "markdown",
   "id": "a0e97129-0cc0-48da-91db-76dcaa203a0e",
   "metadata": {},
   "source": [
    "## What motivates this talk?\n"
   ]
  },
  {
   "cell_type": "code",
   "execution_count": 1,
   "id": "068b8bc7-1387-42c1-9bcd-5d70f0e338c8",
   "metadata": {},
   "outputs": [
    {
     "data": {
      "image/jpeg": "[encoded data removed]",
      "text/html": [
       "\n",
       "        <iframe\n",
       "            width=\"600\"\n",
       "            height=\"500\"\n",
       "            src=\"https://www.youtube.com/embed/fJuj2aRGXKI\"\n",
       "            frameborder=\"0\"\n",
       "            allowfullscreen\n",
       "            \n",
       "        ></iframe>\n",
       "        "
      ],
      "text/plain": [
       "<IPython.lib.display.YouTubeVideo at 0x7fcd3c1380a0>"
      ]
     },
     "execution_count": 1,
     "metadata": {},
     "output_type": "execute_result"
    }
   ],
   "source": [
    "from IPython.display import YouTubeVideo\n",
    "# Youtube\n",
    "YouTubeVideo('fJuj2aRGXKI', width=600, height=500)\n"
   ]
  },
  {
   "cell_type": "markdown",
   "id": "3d31f970-4cec-4c7f-bf00-219221c449a9",
   "metadata": {},
   "source": [
    "# Our Goal: Create a Dinosaur Hunting-grounds Map\n",
    "\n",
    "<div>\n",
    "<img src=\"assets/DNM_ThreeClassMainCircledThumb.jpg\" width=\"500\"/>\n",
    "</div>\n",
    "\n"
   ]
  },
  {
   "cell_type": "markdown",
   "id": "db99633f-fb4f-4213-9736-c6cecb2eb7c7",
   "metadata": {
    "tags": []
   },
   "source": [
    "\n",
    "## Dinosaur bones are rare! \n",
    "\n",
    "But they occur more frequently in certain geological deposits that represent ancient deposition of sediments that captured bones and other trace evidence of ancient animals.\n",
    "\n",
    "One of the first and one of the most famous bone bearing geological formations is named the Morrison Formation, which geologists tell us formed sometime near 150 million years ago.  \n",
    "\n",
    "The geographic extent of the Morrison formation is depicted in the [following map](https://www.researchgate.net/figure/Map-of-the-study-area-showing-outcrop-distribution-for-the-Morrison-Formation-and_fig3_275400392). Notice how spindly and threadlike the Morrison formation extends over the western US. As you might imagine, a random walk throughout the western US would very rarely tread upon Morrison formation soil.\n",
    "\n",
    "![assets/Morrison Formation Distribution](assets/MorrisonOutcropsUS.png)\n",
    "\n",
    "The Morrison formation has a very distinctive look.\n",
    "\n",
    "![assets/MorrisonBrushyBasinMember.png](assets/MorrisonBrushyBasinMember.png)\n",
    "\n",
    "This look, of the colors, the textures, the variety of rock shapes and sizes, taken together, create a signature that can be identified using AI\n",
    "\n",
    "In this workshop we will develop AI code in several end-to-end machine learning stages from the earliest stages all the way to a deployment. We will bring to bear several AI technologies from Intel to create a bone bed search map for the Dinosaur National Monument in Utah (where I took the photo of the Camarasaurus Skelton at the top of the page)\n",
    "\n",
    "We will create a bone likelihood map from an AI image model (Resnet) using aerial photos of known but secret locations in New Mexico. The map we create, however, will be for Dinosaur National Monument, near Jensen, Utah!\n",
    "\n",
    "The depositional environments of the central New Mexico sites and the Dinosaur National Monument sites are very similar (but not identical). Nevertheless, the generated map is good at predicting the most likely patches of ground (250-meter square regions) to narrow your search along the dinosaur trail!\n",
    "\n",
    "The map is NOT perfect. While the deposition at the two localities is very similar, there are distinctive differences as well. So, the fact that the map works at all is pretty spectacular.\n",
    "\n",
    "![assets/CentralNMMorrison.PNG](assets/CentralNMMorrison.PNG)\n",
    "Much of Central New Mexico’s Morrison exposure is roughly level, the sandstone and claystone layers are roughly horizontal for a large portion.\n",
    "\n",
    "![assets/BoneEnvirnmentDNM](assets/DNMUtahMorrison.PNG)\n",
    "\n",
    "Dinosaur National Monument's Morrison layers are severely tilted. This means the bone bearing region is smaller across the surface, and breaks and erodes in a dissimilar way\n",
    "maps generated for Dinosaur National Monument which ash been trained on Central NM images.\n",
    "\n",
    "Nevertheless, here is one of the better AI maps generated for Dinosaur National Monument.\n",
    "\n",
    "![assets/DNM_ThreeClassMainCircled.jpg](assets/DNM_ThreeClassMainCircled.jpg)\n",
    "\n",
    "The dark green squares are the model’s prediction of the best areas to search within Dinosaur National Monument. Notice the small red circle in the lower center portion? That is a building housing the excavation of the hundreds of bones at DNM including the Camarasaurus skull at the top of the page.\n",
    "\n",
    "The horizontal bands in the lower portion are indeed the best places to search for dinosaur bones at DNM. Comparison to a geological map of the area will show that the AI map is wrong in the upper right and wedge in the left middle. BUT - if you were to follow this map you would be successful in finding bones not yet excavated at the site!\n",
    "\n",
    "# AI: NOT Searching for Bones!\n",
    "\n",
    "### It is Searching for similar depositional environments!\n",
    "\n",
    "The model is trained on the aerial photos (NOT satellite images which do not have enough resolution). These are typically flown at ~ 120,000 feet and while they have much more resolutions to see individual boulders and trees, there is not nearly enough resolution to find typical dinosaur bone fragments.\n",
    "\n",
    "\n",
    "## How to I know if what I have found is bone?\n",
    "\n",
    "1) Look at examples of dinosaur bone from a rock shop\n",
    "\n",
    "- Get to know what it feels like, what it looks like including fine grain and cellular structures\n",
    "2) Context matters\n",
    "- Is there documentation that proves other bones have been found nearby or in similar geological deposits?\n",
    "\n",
    "![assets/ZSC_7683AIbone.jpg](assets/ZSC_7683AIbone.jpg)\n",
    "\n",
    "# Dinosaur Bones Come in All Shapes, Sizes, Textures\n",
    "\n",
    "All bone will have similar structures as follows:\n",
    "\n",
    "![assets/BoneStructure.PNG](assets/BoneStructure.PNG)\n",
    "\n",
    "## But there is also a wide variety\n",
    "\n",
    "Many colors, textures, grain or pore sizes, conditions of the fossil, etc.\n",
    "\n",
    "![assets/DinosaurBonesLookLike.png](assets/DinosaurBonesLookLike.png)\n"
   ]
  },
  {
   "cell_type": "code",
   "execution_count": null,
   "id": "537bca68-b13e-44ce-b585-a53036880b67",
   "metadata": {},
   "outputs": [],
   "source": []
  },
  {
   "cell_type": "code",
   "execution_count": null,
   "id": "3877ba48-8043-45f1-8ab1-853c118a5145",
   "metadata": {},
   "outputs": [],
   "source": []
  }
 ],
 "metadata": {
  "kernelspec": {
   "display_name": "Python 3.8 (Intel® oneAPI)",
   "language": "python",
   "name": "c009-intel_distribution_of_python_3_oneapi-beta05-python"
  },
  "language_info": {
   "codemirror_mode": {
    "name": "ipython",
    "version": 3
   },
   "file_extension": ".py",
   "mimetype": "text/x-python",
   "name": "python",
   "nbconvert_exporter": "python",
   "pygments_lexer": "ipython3",
   "version": "3.9.10"
  }
 },
 "nbformat": 4,
 "nbformat_minor": 5
}
